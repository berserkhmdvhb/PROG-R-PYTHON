{
  "nbformat": 4,
  "nbformat_minor": 0,
  "metadata": {
    "colab": {
      "name": "Exercise_Romeo_and_Juliet.ipynb",
      "provenance": [],
      "collapsed_sections": []
    },
    "kernelspec": {
      "name": "python3",
      "display_name": "Python 3"
    },
    "language_info": {
      "name": "python"
    }
  },
  "cells": [
    {
      "cell_type": "code",
      "metadata": {
        "id": "1qd4g2NTxmKi"
      },
      "source": [
        "from urllib.request import urlopen"
      ],
      "execution_count": 1,
      "outputs": []
    },
    {
      "cell_type": "markdown",
      "metadata": {
        "id": "rjcq4Wrhiv4q"
      },
      "source": [
        "Data source: http://shakespeare.mit.edu/romeo_juliet/full.html"
      ]
    },
    {
      "cell_type": "code",
      "metadata": {
        "colab": {
          "base_uri": "https://localhost:8080/"
        },
        "id": "ry1uY3PUxeXR",
        "outputId": "4dc5091a-d173-4d7e-fd0d-ebaf9202d9de"
      },
      "source": [
        "# load the play \"Romeo and Juliet\" by William Shakespeare into python\n",
        "with urlopen(\"https://gist.githubusercontent.com/romba050/a9e23b3ba49423489125deb380d192c8/raw/a22ffa158028444940628d13003b866207cdfc52/Romeo_and_Juliet.txt\") as r_and_j_file:\n",
        "  # r_and_j_file is a file HTTPResponse object\n",
        "  print(type(r_and_j_file))  #<class 'http.client.HTTPResponse'>\n",
        "  # Decode HTTPResponse according to the UTF-8 character encoding (Unicode Transformation Format – 8-bit).\n",
        "  r_and_j_file = r_and_j_file.read().decode('utf-8')\n",
        "  print(type(r_and_j_file))  #<class 'str'>\n",
        "  # Split the string by newline character to receive a list of line strings.\n",
        "  text_list = r_and_j_file.splitlines()\n",
        "  # The book contains 4318 lines.\n",
        "  print(len(text_list))"
      ],
      "execution_count": 2,
      "outputs": [
        {
          "output_type": "stream",
          "name": "stdout",
          "text": [
            "<class 'http.client.HTTPResponse'>\n",
            "<class 'str'>\n",
            "4318\n"
          ]
        }
      ]
    },
    {
      "cell_type": "markdown",
      "metadata": {
        "id": "Pvvn2ENfwCIV"
      },
      "source": [
        "Print the first 10 lines of the play. (The title of the play, the declaration of a new act and empty lines all count as lines.)"
      ]
    },
    {
      "cell_type": "code",
      "metadata": {
        "id": "drW3QxJYwHEn"
      },
      "source": [
        ""
      ],
      "execution_count": 2,
      "outputs": []
    },
    {
      "cell_type": "markdown",
      "metadata": {
        "id": "7sj6FugT731H"
      },
      "source": [
        "Let's do a word analysis on this classic play by Shakespeare. We want to know how often the author used each word in Romeo and Juliet. To achieve this, we define a dictionary where the keys correspond to all unique words that appear in the text, and the values correspond to how often that word occurs in the text. Make sure to use the function ```.lower()``` when counting the words, so that capitalization is not an issue. (I.e. we count \"the\" is the same word, no matter if it appears at the beginning of a sentence or within the sentence."
      ]
    },
    {
      "cell_type": "code",
      "metadata": {
        "id": "A-XZw_mntzUy"
      },
      "source": [
        ""
      ],
      "execution_count": 2,
      "outputs": []
    },
    {
      "cell_type": "markdown",
      "metadata": {
        "id": "MCfntzO31auV"
      },
      "source": [
        "Print out the first 10 entries of the dictionary (i.e. 10 (key, value) pairs)."
      ]
    },
    {
      "cell_type": "code",
      "metadata": {
        "id": "1x3bCedO1HuH"
      },
      "source": [
        ""
      ],
      "execution_count": 2,
      "outputs": []
    },
    {
      "cell_type": "markdown",
      "metadata": {
        "id": "A1tG2JNJpG9O"
      },
      "source": [
        "How many unique words did Shakespeare use in 'Romeo and Juliet'? How often did he use the words \"romeo\" and \"juliet\" (regardless of capitalization)"
      ]
    },
    {
      "cell_type": "code",
      "metadata": {
        "id": "pbgP1tDGpM4N"
      },
      "source": [
        ""
      ],
      "execution_count": 2,
      "outputs": []
    },
    {
      "cell_type": "markdown",
      "metadata": {
        "id": "_pDKn8-WlnVk"
      },
      "source": [
        "The next goal of our analysis is to find out which words Shakespeare used the most when writing 'Romeo and Juliet'. To achieve this, use a list comprehension to recreate your dictionary, but this time, insert the elements in a specific order: start with the most common word and end with the words that only appear once in the whole text."
      ]
    },
    {
      "cell_type": "code",
      "metadata": {
        "id": "LJK9qHVqlxbJ"
      },
      "source": [
        ""
      ],
      "execution_count": 2,
      "outputs": []
    },
    {
      "cell_type": "markdown",
      "metadata": {
        "id": "Z5yEgAAJ76qu"
      },
      "source": [
        "Print the 10 most used words."
      ]
    },
    {
      "cell_type": "code",
      "metadata": {
        "id": "Wrno6K15qhmy"
      },
      "source": [
        ""
      ],
      "execution_count": 2,
      "outputs": []
    }
  ]
}