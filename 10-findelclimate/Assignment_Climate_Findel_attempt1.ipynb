{
  "nbformat": 4,
  "nbformat_minor": 0,
  "metadata": {
    "colab": {
      "name": "Assignment-Climate-Findel-4.ipynb",
      "provenance": [],
      "collapsed_sections": []
    },
    "kernelspec": {
      "name": "python3",
      "display_name": "Python 3"
    },
    "language_info": {
      "name": "python"
    }
  },
  "cells": [
    {
      "cell_type": "markdown",
      "metadata": {
        "id": "5Gya-mwxqgp7"
      },
      "source": [
        "## Get familiar with the data"
      ]
    },
    {
      "cell_type": "markdown",
      "metadata": {
        "id": "Du2hpuy5qNxU"
      },
      "source": [
        "Climate normals are arithmetic averages of measured or observed meteorological elements. The general recommendation of the World Meteorological Organisation (WMO) is to use 30-year periods of reference. The current climatological standard normal period is 1991–2020. These long-term averages are used to describe the climate of an area. They are also used to compare the actual weather conditions occurring in a region with the average expected climate. This international coordination and standardisation enables comparisons of climate and climatological reports across national boundaries. \n",
        "\n",
        "Parameter description:\n",
        "\n",
        "    NM_T (°C): MEAN AIR TEMPERATURE AT 2 M\n",
        "    NM_XT (°C): MEAN DAILY MAXIMUM AIR TEMPERATURE AT 2 M\n",
        "    NM_NT (°C): MEAN DAILY MINIMUM AIR TEMPERATURE AT 2 M\n",
        "    NM_RR06_06 (mm): AMOUNT OF PRECIPITATION 05:46 UTC (M, D) TO 05:45 UTC (M+1, D+1)\n",
        "    NM_INS (hours): SUNSHINE DURATION\n",
        "    NM_U (%): MEAN RELATIVE HUMIDITY AT 2 M\n",
        "    NM_QFF (hPa): MEAN ATMOSPHERIC AIR PRESSURE REDUCED TO MEAN-SEA LEVEL\n",
        "    NM_ODRR01 (days): MEAN NUMBER OF DAYS WITH PRECIPITATION GREATER EQUAL 0.1 MM\n",
        "    NM_OFOG (days): MEAN NUMBER OF DAYS WITH FOG\n",
        "    NM_OCASETHSTORM (cases): MEAN NUMBER OF CASES WITH OCCURRENCE OF THUNDERSTORM\n",
        "    NM_OGLAZE (days): MEAN NUMBER OF DAYS WITH FREEZING PRECIPITATION\n",
        "    NM_OSNOW (days): MEAN NUMBER OF DAYS WITH SNOWFALL\n",
        "    NM_OGROUNDSNOW (days): MEAN NUMBER OF DAYS WITH SNOW COVER ON THE GROUND\n",
        "    NM_ODXT25 (days): MEAN NUMBER OF SUMMER DAYS (= MAXIMUM TEMPERATURE GREATER EQUAL 25 °C)\n",
        "    NM_ODXT30 (days): MEAN NUMBER OF HOT DAYS (= MAXIMUM TEMPERATURE GREATER EQUAL 30 °C)\n",
        "    NM_ODNT0 (days): MEAN NUMBER OF FROST DAYS (= MINIMUM TEMPERATURE SMALLER THAN 0 °C)\n",
        "    NM_0DXT0 (days): MEAN NUMBER OF ICE DAYS (= MAXIMUM TEMPERATURE SMALLER THAN 0 °C)\n"
      ]
    },
    {
      "cell_type": "markdown",
      "metadata": {
        "id": "tBDu2pd2vAQH"
      },
      "source": [
        "File format: CSV file sep=;\n",
        "Resources\n",
        "* 06590-climate-normals-luxfindel-1991-2020.csv\n",
        "* 06590-climate-normals-luxfindel-1981-2010.csv\n",
        "\n"
      ]
    },
    {
      "cell_type": "markdown",
      "metadata": {
        "id": "9USrI9IXqcUy"
      },
      "source": [
        "## Load data and print head"
      ]
    },
    {
      "cell_type": "code",
      "metadata": {
        "id": "rmgdM2UamDGC"
      },
      "source": [
        "import pandas as pd\n",
        "df_91_20=pd.read_csv('https://data.public.lu/fr/datasets/r/850ca2c2-88c5-4518-bf57-3fec2008821d',delimiter=\";\", encoding = \"ISO-8859-1\")\n",
        "df_81_90=pd.read_csv('https://data.public.lu/fr/datasets/r/4f4c8a32-84bf-4098-95eb-696e7e4ba3ec',delimiter=\";\", encoding = \"ISO-8859-1\")"
      ],
      "execution_count": 26,
      "outputs": []
    },
    {
      "cell_type": "code",
      "metadata": {
        "colab": {
          "base_uri": "https://localhost:8080/",
          "height": 204
        },
        "id": "LTYSXfuYquW8",
        "outputId": "78aacdb5-b9a6-4f7c-fc6e-2e11f59d1399"
      },
      "source": [
        "df_91_20.head()"
      ],
      "execution_count": 27,
      "outputs": [
        {
          "output_type": "execute_result",
          "data": {
            "text/html": [
              "<div>\n",
              "<style scoped>\n",
              "    .dataframe tbody tr th:only-of-type {\n",
              "        vertical-align: middle;\n",
              "    }\n",
              "\n",
              "    .dataframe tbody tr th {\n",
              "        vertical-align: top;\n",
              "    }\n",
              "\n",
              "    .dataframe thead th {\n",
              "        text-align: right;\n",
              "    }\n",
              "</style>\n",
              "<table border=\"1\" class=\"dataframe\">\n",
              "  <thead>\n",
              "    <tr style=\"text-align: right;\">\n",
              "      <th></th>\n",
              "      <th>MONTH</th>\n",
              "      <th>JAN</th>\n",
              "      <th>FEB</th>\n",
              "      <th>MAR</th>\n",
              "      <th>APR</th>\n",
              "      <th>MAY</th>\n",
              "      <th>JUN</th>\n",
              "      <th>JUL</th>\n",
              "      <th>AUG</th>\n",
              "      <th>SEP</th>\n",
              "      <th>OCT</th>\n",
              "      <th>NOV</th>\n",
              "      <th>DEC</th>\n",
              "    </tr>\n",
              "  </thead>\n",
              "  <tbody>\n",
              "    <tr>\n",
              "      <th>0</th>\n",
              "      <td>NM_T (°C)</td>\n",
              "      <td>1.4</td>\n",
              "      <td>2.2</td>\n",
              "      <td>5.7</td>\n",
              "      <td>9.6</td>\n",
              "      <td>13.5</td>\n",
              "      <td>16.7</td>\n",
              "      <td>18.7</td>\n",
              "      <td>18.4</td>\n",
              "      <td>14.3</td>\n",
              "      <td>9.9</td>\n",
              "      <td>5.2</td>\n",
              "      <td>2.3</td>\n",
              "    </tr>\n",
              "    <tr>\n",
              "      <th>1</th>\n",
              "      <td>NM_XT (°C)</td>\n",
              "      <td>3.8</td>\n",
              "      <td>5.2</td>\n",
              "      <td>9.8</td>\n",
              "      <td>14.4</td>\n",
              "      <td>18.4</td>\n",
              "      <td>21.7</td>\n",
              "      <td>23.9</td>\n",
              "      <td>23.5</td>\n",
              "      <td>19.0</td>\n",
              "      <td>13.5</td>\n",
              "      <td>7.7</td>\n",
              "      <td>4.5</td>\n",
              "    </tr>\n",
              "    <tr>\n",
              "      <th>2</th>\n",
              "      <td>NM_NT (°C)</td>\n",
              "      <td>-1.0</td>\n",
              "      <td>-0.7</td>\n",
              "      <td>2.0</td>\n",
              "      <td>5.1</td>\n",
              "      <td>8.7</td>\n",
              "      <td>11.8</td>\n",
              "      <td>13.8</td>\n",
              "      <td>13.6</td>\n",
              "      <td>10.3</td>\n",
              "      <td>6.6</td>\n",
              "      <td>2.8</td>\n",
              "      <td>0.0</td>\n",
              "    </tr>\n",
              "    <tr>\n",
              "      <th>3</th>\n",
              "      <td>NM_RR06_06 (mm)</td>\n",
              "      <td>71.5</td>\n",
              "      <td>59.5</td>\n",
              "      <td>56.6</td>\n",
              "      <td>49.4</td>\n",
              "      <td>73.3</td>\n",
              "      <td>73.0</td>\n",
              "      <td>72.1</td>\n",
              "      <td>71.9</td>\n",
              "      <td>66.6</td>\n",
              "      <td>76.2</td>\n",
              "      <td>71.7</td>\n",
              "      <td>89.5</td>\n",
              "    </tr>\n",
              "    <tr>\n",
              "      <th>4</th>\n",
              "      <td>NM_INS (hours)</td>\n",
              "      <td>52.0</td>\n",
              "      <td>79.5</td>\n",
              "      <td>137.1</td>\n",
              "      <td>197.5</td>\n",
              "      <td>226.3</td>\n",
              "      <td>241.2</td>\n",
              "      <td>257.6</td>\n",
              "      <td>237.1</td>\n",
              "      <td>174.9</td>\n",
              "      <td>106.7</td>\n",
              "      <td>51.1</td>\n",
              "      <td>41.9</td>\n",
              "    </tr>\n",
              "  </tbody>\n",
              "</table>\n",
              "</div>"
            ],
            "text/plain": [
              "             MONTH   JAN   FEB    MAR    APR  ...    AUG    SEP    OCT   NOV   DEC\n",
              "0        NM_T (°C)   1.4   2.2    5.7    9.6  ...   18.4   14.3    9.9   5.2   2.3\n",
              "1       NM_XT (°C)   3.8   5.2    9.8   14.4  ...   23.5   19.0   13.5   7.7   4.5\n",
              "2       NM_NT (°C)  -1.0  -0.7    2.0    5.1  ...   13.6   10.3    6.6   2.8   0.0\n",
              "3  NM_RR06_06 (mm)  71.5  59.5   56.6   49.4  ...   71.9   66.6   76.2  71.7  89.5\n",
              "4   NM_INS (hours)  52.0  79.5  137.1  197.5  ...  237.1  174.9  106.7  51.1  41.9\n",
              "\n",
              "[5 rows x 13 columns]"
            ]
          },
          "metadata": {},
          "execution_count": 27
        }
      ]
    },
    {
      "cell_type": "code",
      "metadata": {
        "colab": {
          "base_uri": "https://localhost:8080/"
        },
        "id": "nl-N7eRjqvQt",
        "outputId": "2977197d-2f14-4090-8395-9b3ad48dd258"
      },
      "source": [
        "df_91_20.shape"
      ],
      "execution_count": 28,
      "outputs": [
        {
          "output_type": "execute_result",
          "data": {
            "text/plain": [
              "(17, 13)"
            ]
          },
          "metadata": {},
          "execution_count": 28
        }
      ]
    },
    {
      "cell_type": "code",
      "metadata": {
        "colab": {
          "base_uri": "https://localhost:8080/",
          "height": 204
        },
        "id": "yY_7SgLInqvU",
        "outputId": "f1d088d0-64d3-4452-cbe2-9c56a557cc47"
      },
      "source": [
        "df_91_20.tail()"
      ],
      "execution_count": 29,
      "outputs": [
        {
          "output_type": "execute_result",
          "data": {
            "text/html": [
              "<div>\n",
              "<style scoped>\n",
              "    .dataframe tbody tr th:only-of-type {\n",
              "        vertical-align: middle;\n",
              "    }\n",
              "\n",
              "    .dataframe tbody tr th {\n",
              "        vertical-align: top;\n",
              "    }\n",
              "\n",
              "    .dataframe thead th {\n",
              "        text-align: right;\n",
              "    }\n",
              "</style>\n",
              "<table border=\"1\" class=\"dataframe\">\n",
              "  <thead>\n",
              "    <tr style=\"text-align: right;\">\n",
              "      <th></th>\n",
              "      <th>MONTH</th>\n",
              "      <th>JAN</th>\n",
              "      <th>FEB</th>\n",
              "      <th>MAR</th>\n",
              "      <th>APR</th>\n",
              "      <th>MAY</th>\n",
              "      <th>JUN</th>\n",
              "      <th>JUL</th>\n",
              "      <th>AUG</th>\n",
              "      <th>SEP</th>\n",
              "      <th>OCT</th>\n",
              "      <th>NOV</th>\n",
              "      <th>DEC</th>\n",
              "    </tr>\n",
              "  </thead>\n",
              "  <tbody>\n",
              "    <tr>\n",
              "      <th>12</th>\n",
              "      <td>NM_OGROUNDSNOW (days)</td>\n",
              "      <td>7.6</td>\n",
              "      <td>7.0</td>\n",
              "      <td>2.4</td>\n",
              "      <td>0.2</td>\n",
              "      <td>0.0</td>\n",
              "      <td>0.0</td>\n",
              "      <td>0.0</td>\n",
              "      <td>0.0</td>\n",
              "      <td>0.0</td>\n",
              "      <td>0.0</td>\n",
              "      <td>1.5</td>\n",
              "      <td>6.3</td>\n",
              "    </tr>\n",
              "    <tr>\n",
              "      <th>13</th>\n",
              "      <td>NM_ODXT25 (days)</td>\n",
              "      <td>0.0</td>\n",
              "      <td>0.0</td>\n",
              "      <td>0.0</td>\n",
              "      <td>0.5</td>\n",
              "      <td>3.0</td>\n",
              "      <td>7.9</td>\n",
              "      <td>12.8</td>\n",
              "      <td>10.8</td>\n",
              "      <td>2.9</td>\n",
              "      <td>0.1</td>\n",
              "      <td>0.0</td>\n",
              "      <td>0.0</td>\n",
              "    </tr>\n",
              "    <tr>\n",
              "      <th>14</th>\n",
              "      <td>NM_ODXT30 (days)</td>\n",
              "      <td>0.0</td>\n",
              "      <td>0.0</td>\n",
              "      <td>0.0</td>\n",
              "      <td>0.0</td>\n",
              "      <td>0.1</td>\n",
              "      <td>1.2</td>\n",
              "      <td>3.3</td>\n",
              "      <td>2.7</td>\n",
              "      <td>0.1</td>\n",
              "      <td>0.0</td>\n",
              "      <td>0.0</td>\n",
              "      <td>0.0</td>\n",
              "    </tr>\n",
              "    <tr>\n",
              "      <th>15</th>\n",
              "      <td>NM_ODNT0 (days)</td>\n",
              "      <td>16.9</td>\n",
              "      <td>14.7</td>\n",
              "      <td>8.1</td>\n",
              "      <td>2.4</td>\n",
              "      <td>0.0</td>\n",
              "      <td>0.0</td>\n",
              "      <td>0.0</td>\n",
              "      <td>0.0</td>\n",
              "      <td>0.0</td>\n",
              "      <td>1.2</td>\n",
              "      <td>6.6</td>\n",
              "      <td>14.5</td>\n",
              "    </tr>\n",
              "    <tr>\n",
              "      <th>16</th>\n",
              "      <td>NM_ODXT0 (days)</td>\n",
              "      <td>5.9</td>\n",
              "      <td>3.2</td>\n",
              "      <td>0.4</td>\n",
              "      <td>0.0</td>\n",
              "      <td>0.0</td>\n",
              "      <td>0.0</td>\n",
              "      <td>0.0</td>\n",
              "      <td>0.0</td>\n",
              "      <td>0.0</td>\n",
              "      <td>0.0</td>\n",
              "      <td>0.8</td>\n",
              "      <td>3.7</td>\n",
              "    </tr>\n",
              "  </tbody>\n",
              "</table>\n",
              "</div>"
            ],
            "text/plain": [
              "                    MONTH   JAN   FEB  MAR  APR  ...   AUG  SEP  OCT  NOV   DEC\n",
              "12  NM_OGROUNDSNOW (days)   7.6   7.0  2.4  0.2  ...   0.0  0.0  0.0  1.5   6.3\n",
              "13       NM_ODXT25 (days)   0.0   0.0  0.0  0.5  ...  10.8  2.9  0.1  0.0   0.0\n",
              "14       NM_ODXT30 (days)   0.0   0.0  0.0  0.0  ...   2.7  0.1  0.0  0.0   0.0\n",
              "15        NM_ODNT0 (days)  16.9  14.7  8.1  2.4  ...   0.0  0.0  1.2  6.6  14.5\n",
              "16        NM_ODXT0 (days)   5.9   3.2  0.4  0.0  ...   0.0  0.0  0.0  0.8   3.7\n",
              "\n",
              "[5 rows x 13 columns]"
            ]
          },
          "metadata": {},
          "execution_count": 29
        }
      ]
    },
    {
      "cell_type": "code",
      "metadata": {
        "colab": {
          "base_uri": "https://localhost:8080/",
          "height": 204
        },
        "id": "YahaoLuAq8nt",
        "outputId": "2ff389fc-88af-40da-843e-3887f05227ce"
      },
      "source": [
        "df_81_90.head()"
      ],
      "execution_count": 30,
      "outputs": [
        {
          "output_type": "execute_result",
          "data": {
            "text/html": [
              "<div>\n",
              "<style scoped>\n",
              "    .dataframe tbody tr th:only-of-type {\n",
              "        vertical-align: middle;\n",
              "    }\n",
              "\n",
              "    .dataframe tbody tr th {\n",
              "        vertical-align: top;\n",
              "    }\n",
              "\n",
              "    .dataframe thead th {\n",
              "        text-align: right;\n",
              "    }\n",
              "</style>\n",
              "<table border=\"1\" class=\"dataframe\">\n",
              "  <thead>\n",
              "    <tr style=\"text-align: right;\">\n",
              "      <th></th>\n",
              "      <th>MONTH</th>\n",
              "      <th>JAN</th>\n",
              "      <th>FEB</th>\n",
              "      <th>MAR</th>\n",
              "      <th>APR</th>\n",
              "      <th>MAY</th>\n",
              "      <th>JUN</th>\n",
              "      <th>JUL</th>\n",
              "      <th>AUG</th>\n",
              "      <th>SEP</th>\n",
              "      <th>OCT</th>\n",
              "      <th>NOV</th>\n",
              "      <th>DEC</th>\n",
              "    </tr>\n",
              "  </thead>\n",
              "  <tbody>\n",
              "    <tr>\n",
              "      <th>0</th>\n",
              "      <td>NM_T (°C)</td>\n",
              "      <td>0.8</td>\n",
              "      <td>1.6</td>\n",
              "      <td>5.2</td>\n",
              "      <td>8.7</td>\n",
              "      <td>13.0</td>\n",
              "      <td>15.9</td>\n",
              "      <td>18.2</td>\n",
              "      <td>17.7</td>\n",
              "      <td>13.9</td>\n",
              "      <td>9.5</td>\n",
              "      <td>4.7</td>\n",
              "      <td>1.8</td>\n",
              "    </tr>\n",
              "    <tr>\n",
              "      <th>1</th>\n",
              "      <td>NM_XT (°C)</td>\n",
              "      <td>3.1</td>\n",
              "      <td>4.7</td>\n",
              "      <td>9.1</td>\n",
              "      <td>13.3</td>\n",
              "      <td>17.8</td>\n",
              "      <td>20.7</td>\n",
              "      <td>23.3</td>\n",
              "      <td>22.8</td>\n",
              "      <td>18.4</td>\n",
              "      <td>13.1</td>\n",
              "      <td>7.3</td>\n",
              "      <td>3.9</td>\n",
              "    </tr>\n",
              "    <tr>\n",
              "      <th>2</th>\n",
              "      <td>NM_NT (°C)</td>\n",
              "      <td>-1.6</td>\n",
              "      <td>-1.3</td>\n",
              "      <td>1.6</td>\n",
              "      <td>4.4</td>\n",
              "      <td>8.4</td>\n",
              "      <td>11.1</td>\n",
              "      <td>13.3</td>\n",
              "      <td>13.0</td>\n",
              "      <td>10.0</td>\n",
              "      <td>6.3</td>\n",
              "      <td>2.2</td>\n",
              "      <td>-0.5</td>\n",
              "    </tr>\n",
              "    <tr>\n",
              "      <th>3</th>\n",
              "      <td>NM_RR06_06 (mm)</td>\n",
              "      <td>76.6</td>\n",
              "      <td>62.5</td>\n",
              "      <td>69.1</td>\n",
              "      <td>58.2</td>\n",
              "      <td>78.5</td>\n",
              "      <td>79.9</td>\n",
              "      <td>71.0</td>\n",
              "      <td>75.4</td>\n",
              "      <td>76.3</td>\n",
              "      <td>86.8</td>\n",
              "      <td>76.0</td>\n",
              "      <td>86.7</td>\n",
              "    </tr>\n",
              "    <tr>\n",
              "      <th>4</th>\n",
              "      <td>NM_INS (hours)</td>\n",
              "      <td>50.3</td>\n",
              "      <td>83.6</td>\n",
              "      <td>125.1</td>\n",
              "      <td>181.6</td>\n",
              "      <td>213.4</td>\n",
              "      <td>227.0</td>\n",
              "      <td>250.3</td>\n",
              "      <td>230.8</td>\n",
              "      <td>161.9</td>\n",
              "      <td>105.9</td>\n",
              "      <td>54.2</td>\n",
              "      <td>41.0</td>\n",
              "    </tr>\n",
              "  </tbody>\n",
              "</table>\n",
              "</div>"
            ],
            "text/plain": [
              "             MONTH   JAN   FEB    MAR    APR  ...    AUG    SEP    OCT   NOV   DEC\n",
              "0        NM_T (°C)   0.8   1.6    5.2    8.7  ...   17.7   13.9    9.5   4.7   1.8\n",
              "1       NM_XT (°C)   3.1   4.7    9.1   13.3  ...   22.8   18.4   13.1   7.3   3.9\n",
              "2       NM_NT (°C)  -1.6  -1.3    1.6    4.4  ...   13.0   10.0    6.3   2.2  -0.5\n",
              "3  NM_RR06_06 (mm)  76.6  62.5   69.1   58.2  ...   75.4   76.3   86.8  76.0  86.7\n",
              "4   NM_INS (hours)  50.3  83.6  125.1  181.6  ...  230.8  161.9  105.9  54.2  41.0\n",
              "\n",
              "[5 rows x 13 columns]"
            ]
          },
          "metadata": {},
          "execution_count": 30
        }
      ]
    },
    {
      "cell_type": "markdown",
      "metadata": {
        "id": "23GE6ktWrLi6"
      },
      "source": [
        "## For both the dataframes, rename the column \"MONTH\" to \"Parameters\" and make it the index"
      ]
    },
    {
      "cell_type": "code",
      "metadata": {
        "id": "bLJ0a343-AWV"
      },
      "source": [
        "df_81_90.rename(columns = {'MONTH':'Parameters'}, inplace=True)\n",
        "df_91_20.rename(columns = {'MONTH':'Parameters'}, inplace=True)"
      ],
      "execution_count": 31,
      "outputs": []
    },
    {
      "cell_type": "markdown",
      "metadata": {
        "id": "VfET2Jd9rrZ3"
      },
      "source": [
        "## Check the datatypes of each column and change non-numeric columns to numeric"
      ]
    },
    {
      "cell_type": "code",
      "metadata": {
        "id": "w9mPbjc68U75",
        "colab": {
          "base_uri": "https://localhost:8080/"
        },
        "outputId": "1c5b1769-52ca-4794-e343-875cfdb2a844"
      },
      "source": [
        "print(df_81_90.dtypes,\"\\n\\n\\n\")\n",
        "print(df_91_20.dtypes)"
      ],
      "execution_count": 32,
      "outputs": [
        {
          "output_type": "stream",
          "name": "stdout",
          "text": [
            "Parameters     object\n",
            "JAN           float64\n",
            "FEB           float64\n",
            "MAR           float64\n",
            "APR           float64\n",
            "MAY           float64\n",
            "JUN           float64\n",
            "JUL           float64\n",
            "AUG           float64\n",
            "SEP           float64\n",
            "OCT            object\n",
            "NOV            object\n",
            "DEC           float64\n",
            "dtype: object \n",
            "\n",
            "\n",
            "\n",
            "Parameters     object\n",
            "JAN           float64\n",
            "FEB           float64\n",
            "MAR           float64\n",
            "APR           float64\n",
            "MAY           float64\n",
            "JUN           float64\n",
            "JUL           float64\n",
            "AUG           float64\n",
            "SEP           float64\n",
            "OCT           float64\n",
            "NOV           float64\n",
            "DEC           float64\n",
            "dtype: object\n"
          ]
        }
      ]
    },
    {
      "cell_type": "code",
      "metadata": {
        "id": "ZYcDbiKFS8nl"
      },
      "source": [
        "#select out columns that are not float\n",
        "nonfltcolumns = list(df_81_90.select_dtypes(include=['object']).columns)\n",
        "#we want the parameters column to be intact since they should be string not float\n",
        "nonfltcolumns.remove('Parameters')\n",
        "#remove non-numeric characters from entries and then convert the column type to float\n",
        "df_81_90[nonfltcolumns] = df_81_90[nonfltcolumns].apply(lambda x: x.str.replace(r'[<>\\s]+','')).astype(float)"
      ],
      "execution_count": 33,
      "outputs": []
    },
    {
      "cell_type": "markdown",
      "metadata": {
        "id": "MFpfBWSAtTN-"
      },
      "source": [
        "## Line-plot temperatures (in a single chart) and bar-plot humidity parameters "
      ]
    },
    {
      "cell_type": "code",
      "metadata": {
        "id": "F096TKoMeyZx"
      },
      "source": [
        "df_81_90.set_index('Parameters', inplace=True)\n",
        "df_91_20.set_index('Parameters', inplace=True)"
      ],
      "execution_count": 34,
      "outputs": []
    },
    {
      "cell_type": "code",
      "metadata": {
        "id": "oKqWmMBZfcBi",
        "colab": {
          "base_uri": "https://localhost:8080/",
          "height": 282
        },
        "outputId": "a42e9736-e7e6-4ba6-e760-4fcb63899387"
      },
      "source": [
        "#line plot\n",
        "df_81_90.loc['NM_RR06_06 (mm)'].plot.line()\n",
        "df_91_20.loc['NM_RR06_06 (mm)'].plot.line()"
      ],
      "execution_count": 35,
      "outputs": [
        {
          "output_type": "execute_result",
          "data": {
            "text/plain": [
              "<matplotlib.axes._subplots.AxesSubplot at 0x7f4c80a131d0>"
            ]
          },
          "metadata": {},
          "execution_count": 35
        },
        {
          "output_type": "display_data",
          "data": {
            "image/png": "[encoded data removed]",
            "text/plain": [
              "<Figure size 432x288 with 1 Axes>"
            ]
          },
          "metadata": {
            "needs_background": "light"
          }
        }
      ]
    },
    {
      "cell_type": "code",
      "metadata": {
        "id": "4REEfjyqeWjP",
        "colab": {
          "base_uri": "https://localhost:8080/",
          "height": 282
        },
        "outputId": "81ee079d-7607-4365-a50e-4f2b94950654"
      },
      "source": [
        "#bar plot\n",
        "df_81_90.loc['NM_U (%)'].plot.bar(rot=0)\n"
      ],
      "execution_count": 36,
      "outputs": [
        {
          "output_type": "execute_result",
          "data": {
            "text/plain": [
              "<matplotlib.axes._subplots.AxesSubplot at 0x7f4c7ff37c50>"
            ]
          },
          "metadata": {},
          "execution_count": 36
        },
        {
          "output_type": "display_data",
          "data": {
            "image/png": "[encoded data removed]",
            "text/plain": [
              "<Figure size 432x288 with 1 Axes>"
            ]
          },
          "metadata": {
            "needs_background": "light"
          }
        }
      ]
    },
    {
      "cell_type": "code",
      "metadata": {
        "id": "I0KfGjldj25p",
        "colab": {
          "base_uri": "https://localhost:8080/",
          "height": 282
        },
        "outputId": "bcf632cc-92c4-4e15-8543-56da8e66388a"
      },
      "source": [
        "#bar plot\n",
        "df_91_20.loc['NM_U (%)'].plot.bar(rot=0)"
      ],
      "execution_count": 37,
      "outputs": [
        {
          "output_type": "execute_result",
          "data": {
            "text/plain": [
              "<matplotlib.axes._subplots.AxesSubplot at 0x7f4c803a4190>"
            ]
          },
          "metadata": {},
          "execution_count": 37
        },
        {
          "output_type": "display_data",
          "data": {
            "image/png": "[encoded data removed]",
            "text/plain": [
              "<Figure size 432x288 with 1 Axes>"
            ]
          },
          "metadata": {
            "needs_background": "light"
          }
        }
      ]
    },
    {
      "cell_type": "markdown",
      "metadata": {
        "id": "_wlV3HwruaZy"
      },
      "source": [
        "## Find quarterly (3 month wise) differences of the parameters between 81-10 vs 91-20"
      ]
    },
    {
      "cell_type": "code",
      "metadata": {
        "id": "ayJbXNgzz-j3"
      },
      "source": [
        "colnum = df_81_90.shape[1]\n",
        "quarter = pd.DataFrame()\n",
        "coef = 1\n",
        "# select every three months from columns from both tables and store the differences in a qurarter dataframe \n",
        "for month in range(2, colnum+1, 3):\n",
        "  quarter[f\"Quarter {month - coef}\"] = df_91_20.iloc[:,month] - df_81_90.iloc[:,month]\n",
        "  coef += 2"
      ],
      "execution_count": 38,
      "outputs": []
    },
    {
      "cell_type": "code",
      "metadata": {
        "colab": {
          "base_uri": "https://localhost:8080/",
          "height": 235
        },
        "id": "-eYJFVAV-Y5I",
        "outputId": "ae2f1583-b1ec-41a7-a1fd-9324e3cbf66a"
      },
      "source": [
        "quarter.head()"
      ],
      "execution_count": 39,
      "outputs": [
        {
          "output_type": "execute_result",
          "data": {
            "text/html": [
              "<div>\n",
              "<style scoped>\n",
              "    .dataframe tbody tr th:only-of-type {\n",
              "        vertical-align: middle;\n",
              "    }\n",
              "\n",
              "    .dataframe tbody tr th {\n",
              "        vertical-align: top;\n",
              "    }\n",
              "\n",
              "    .dataframe thead th {\n",
              "        text-align: right;\n",
              "    }\n",
              "</style>\n",
              "<table border=\"1\" class=\"dataframe\">\n",
              "  <thead>\n",
              "    <tr style=\"text-align: right;\">\n",
              "      <th></th>\n",
              "      <th>Quarter 1</th>\n",
              "      <th>Quarter 2</th>\n",
              "      <th>Quarter 3</th>\n",
              "      <th>Quarter 4</th>\n",
              "    </tr>\n",
              "    <tr>\n",
              "      <th>Parameters</th>\n",
              "      <th></th>\n",
              "      <th></th>\n",
              "      <th></th>\n",
              "      <th></th>\n",
              "    </tr>\n",
              "  </thead>\n",
              "  <tbody>\n",
              "    <tr>\n",
              "      <th>NM_T (°C)</th>\n",
              "      <td>0.5</td>\n",
              "      <td>0.8</td>\n",
              "      <td>0.4</td>\n",
              "      <td>0.5</td>\n",
              "    </tr>\n",
              "    <tr>\n",
              "      <th>NM_XT (°C)</th>\n",
              "      <td>0.7</td>\n",
              "      <td>1.0</td>\n",
              "      <td>0.6</td>\n",
              "      <td>0.6</td>\n",
              "    </tr>\n",
              "    <tr>\n",
              "      <th>NM_NT (°C)</th>\n",
              "      <td>0.4</td>\n",
              "      <td>0.7</td>\n",
              "      <td>0.3</td>\n",
              "      <td>0.5</td>\n",
              "    </tr>\n",
              "    <tr>\n",
              "      <th>NM_RR06_06 (mm)</th>\n",
              "      <td>-12.5</td>\n",
              "      <td>-6.9</td>\n",
              "      <td>-9.7</td>\n",
              "      <td>2.8</td>\n",
              "    </tr>\n",
              "    <tr>\n",
              "      <th>NM_INS (hours)</th>\n",
              "      <td>12.0</td>\n",
              "      <td>14.2</td>\n",
              "      <td>13.0</td>\n",
              "      <td>0.9</td>\n",
              "    </tr>\n",
              "  </tbody>\n",
              "</table>\n",
              "</div>"
            ],
            "text/plain": [
              "                 Quarter 1  Quarter 2  Quarter 3  Quarter 4\n",
              "Parameters                                                 \n",
              "NM_T (°C)              0.5        0.8        0.4        0.5\n",
              "NM_XT (°C)             0.7        1.0        0.6        0.6\n",
              "NM_NT (°C)             0.4        0.7        0.3        0.5\n",
              "NM_RR06_06 (mm)      -12.5       -6.9       -9.7        2.8\n",
              "NM_INS (hours)        12.0       14.2       13.0        0.9"
            ]
          },
          "metadata": {},
          "execution_count": 39
        }
      ]
    },
    {
      "cell_type": "markdown",
      "metadata": {
        "id": "06F2nceG64ve"
      },
      "source": [
        "## Write codes to check the following statements if they are True or False"
      ]
    },
    {
      "cell_type": "markdown",
      "metadata": {
        "id": "ksaGY7747cQF"
      },
      "source": [
        "### Quarterly mean temperature is not affected by climate change"
      ]
    },
    {
      "cell_type": "code",
      "metadata": {
        "id": "FqO859KP8YGl",
        "colab": {
          "base_uri": "https://localhost:8080/"
        },
        "outputId": "af0d314f-a0bc-43c8-b7f2-b399903d44ab"
      },
      "source": [
        "quarter.T.corr().loc['NM_T (°C)']"
      ],
      "execution_count": 40,
      "outputs": [
        {
          "output_type": "execute_result",
          "data": {
            "text/plain": [
              "Parameters\n",
              "NM_T (°C)                 1.000000\n",
              "NM_XT (°C)                0.965824\n",
              "NM_NT (°C)                0.957841\n",
              "NM_RR06_06 (mm)           0.062174\n",
              "NM_INS (hours)            0.298872\n",
              "NM_U (%)                 -0.192450\n",
              "NM_QFF (hPa)                   NaN\n",
              "NM_ODRR01 (days)         -0.044120\n",
              "NM_OFOG (days)           -0.408248\n",
              "NM_OCASETHSTORM (days)   -0.568995\n",
              "NM_OGLAZE (days)          0.142134\n",
              "NM_OSNOW (days)           0.294484\n",
              "NM_OGROUNDSNOW (days)     0.272166\n",
              "NM_ODXT25 (days)          0.650278\n",
              "NM_ODXT30 (days)          0.986747\n",
              "NM_ODNT0 (days)           0.329293\n",
              "NM_ODXT0 (days)           0.172774\n",
              "Name: NM_T (°C), dtype: float64"
            ]
          },
          "metadata": {},
          "execution_count": 40
        }
      ]
    },
    {
      "cell_type": "markdown",
      "metadata": {
        "id": "hRs2VMgvZoNQ"
      },
      "source": [
        "The mean temperature value has correlation with some columns such as NM_ODXT30, which is the mean number of hot days. I don't think this suffices for indicating an influence. "
      ]
    },
    {
      "cell_type": "markdown",
      "metadata": {
        "id": "iru1cLTO75Xx"
      },
      "source": [
        "### Fog is decreasing in the winter months (Dec-Mar) between decades"
      ]
    },
    {
      "cell_type": "code",
      "metadata": {
        "colab": {
          "base_uri": "https://localhost:8080/"
        },
        "id": "8c1bN3scjLmW",
        "outputId": "da920d5c-60c0-4aa5-ba62-8ac7ae97ff37"
      },
      "source": [
        "df_81_90.index"
      ],
      "execution_count": 41,
      "outputs": [
        {
          "output_type": "execute_result",
          "data": {
            "text/plain": [
              "Index(['NM_T (°C)', 'NM_XT (°C)', 'NM_NT (°C)', 'NM_RR06_06 (mm)',\n",
              "       'NM_INS (hours)', 'NM_U (%)', 'NM_QFF (hPa)', 'NM_ODRR01 (days)',\n",
              "       'NM_OFOG (days)', 'NM_OCASETHSTORM (days)', 'NM_OGLAZE (days)',\n",
              "       'NM_OSNOW (days)', 'NM_OGROUNDSNOW (days)', 'NM_ODXT25 (days)',\n",
              "       'NM_ODXT30 (days)', 'NM_ODNT0 (days)', 'NM_ODXT0 (days)'],\n",
              "      dtype='object', name='Parameters')"
            ]
          },
          "metadata": {},
          "execution_count": 41
        }
      ]
    },
    {
      "cell_type": "code",
      "metadata": {
        "colab": {
          "base_uri": "https://localhost:8080/"
        },
        "id": "ttyHl6CVj7hs",
        "outputId": "c8187cfc-653c-4fed-f3d1-c71c21af0989"
      },
      "source": [
        "fog1 = df_81_90.loc['NM_OFOG (days)'].iloc[-2:]\n",
        "fog2 = df_91_20.loc['NM_OFOG (days)'].iloc[-2:]\n",
        "fog2 - fog1 < 0\n"
      ],
      "execution_count": 42,
      "outputs": [
        {
          "output_type": "execute_result",
          "data": {
            "text/plain": [
              "NOV    True\n",
              "DEC    True\n",
              "Name: NM_OFOG (days), dtype: bool"
            ]
          },
          "metadata": {},
          "execution_count": 42
        }
      ]
    },
    {
      "cell_type": "markdown",
      "metadata": {
        "id": "J8viwiXHaU2-"
      },
      "source": [
        "Positive, it is decreasing"
      ]
    },
    {
      "cell_type": "markdown",
      "metadata": {
        "id": "LhRa7GVI8nM2"
      },
      "source": [
        "### Precipitation (rain) pattern is changing between decades"
      ]
    },
    {
      "cell_type": "code",
      "metadata": {
        "id": "yWyXlceM8mU0",
        "colab": {
          "base_uri": "https://localhost:8080/"
        },
        "outputId": "a851f206-79b9-4e3a-8b8a-64d3c7a788ac"
      },
      "source": [
        "diff = df_91_20.loc['NM_RR06_06 (mm)'] - df_81_90.loc['NM_RR06_06 (mm)']\n",
        "print(diff,\"\\n\\n\")\n",
        "#check whether all months follow the same patter of increase or decrease\n",
        "#check increase\n",
        "print(all(i >= 0 for i in diff))\n",
        "#check decrase\n",
        "print(all(i <= 0 for i in diff))"
      ],
      "execution_count": 43,
      "outputs": [
        {
          "output_type": "stream",
          "name": "stdout",
          "text": [
            "JAN    -5.1\n",
            "FEB    -3.0\n",
            "MAR   -12.5\n",
            "APR    -8.8\n",
            "MAY    -5.2\n",
            "JUN    -6.9\n",
            "JUL     1.1\n",
            "AUG    -3.5\n",
            "SEP    -9.7\n",
            "OCT   -10.6\n",
            "NOV    -4.3\n",
            "DEC     2.8\n",
            "Name: NM_RR06_06 (mm), dtype: float64 \n",
            "\n",
            "\n",
            "False\n",
            "False\n"
          ]
        }
      ]
    },
    {
      "cell_type": "markdown",
      "metadata": {
        "id": "HWWH9KIqart9"
      },
      "source": [
        "If we only deem change as when all months change together, then there is no all-inclusive change during between the decades"
      ]
    },
    {
      "cell_type": "markdown",
      "metadata": {
        "id": "ramUaK71vuP3"
      },
      "source": [
        "## Find out the three most changed parameters and three least changed parameters in the quarterly (3 month wise) differences"
      ]
    },
    {
      "cell_type": "code",
      "metadata": {
        "id": "FMYJU92y-dzO"
      },
      "source": [
        "diffs = quarter.apply(lambda row: max([abs(row[f'Quarter {i}'] - row[f'Quarter {i-1}']) for i in range(2,5)]), axis=1)"
      ],
      "execution_count": 44,
      "outputs": []
    },
    {
      "cell_type": "code",
      "metadata": {
        "colab": {
          "base_uri": "https://localhost:8080/"
        },
        "id": "1LcUYHeHFFWw",
        "outputId": "392dc52c-28a6-4128-aea5-f0069d22d4d2"
      },
      "source": [
        "diffs"
      ],
      "execution_count": 45,
      "outputs": [
        {
          "output_type": "execute_result",
          "data": {
            "text/plain": [
              "Parameters\n",
              "NM_T (°C)                  0.4\n",
              "NM_XT (°C)                 0.4\n",
              "NM_NT (°C)                 0.4\n",
              "NM_RR06_06 (mm)           12.5\n",
              "NM_INS (hours)            12.1\n",
              "NM_U (%)                   3.0\n",
              "NM_QFF (hPa)               0.0\n",
              "NM_ODRR01 (days)           2.0\n",
              "NM_OFOG (days)             0.3\n",
              "NM_OCASETHSTORM (days)     0.7\n",
              "NM_OGLAZE (days)           0.5\n",
              "NM_OSNOW (days)            1.1\n",
              "NM_OGROUNDSNOW (days)      0.9\n",
              "NM_ODXT25 (days)           1.4\n",
              "NM_ODXT30 (days)           0.9\n",
              "NM_ODNT0 (days)            2.0\n",
              "NM_ODXT0 (days)            1.3\n",
              "dtype: float64"
            ]
          },
          "metadata": {},
          "execution_count": 45
        }
      ]
    },
    {
      "cell_type": "code",
      "metadata": {
        "colab": {
          "base_uri": "https://localhost:8080/"
        },
        "id": "1X6rYDLhErjc",
        "outputId": "d56261ba-3d19-41c3-8a6f-c398391889b0"
      },
      "source": [
        "##three least changed\n",
        "print(diffs.sort_values(ascending=True)[0:3], '\\n\\n')\n",
        "##three most changed\n",
        "print(diffs.sort_values(ascending=True)[-3:])"
      ],
      "execution_count": 55,
      "outputs": [
        {
          "output_type": "stream",
          "name": "stdout",
          "text": [
            "Parameters\n",
            "NM_QFF (hPa)      0.0\n",
            "NM_OFOG (days)    0.3\n",
            "NM_T (°C)         0.4\n",
            "dtype: float64 \n",
            "\n",
            "\n",
            "Parameters\n",
            "NM_U (%)            3.0\n",
            "NM_INS (hours)     12.1\n",
            "NM_RR06_06 (mm)    12.5\n",
            "dtype: float64\n"
          ]
        }
      ]
    },
    {
      "cell_type": "markdown",
      "metadata": {
        "id": "O0gkBSih-VnI"
      },
      "source": [
        "## Is there any correlation between the most changed parameters"
      ]
    },
    {
      "cell_type": "code",
      "metadata": {
        "colab": {
          "base_uri": "https://localhost:8080/",
          "height": 173
        },
        "id": "pnxvDqRPEs2t",
        "outputId": "5ae6c2bf-482a-4b92-eb9d-80eb5bea7fa6"
      },
      "source": [
        "corcolumns = list(diffs.sort_values(ascending=True)[-3:].index)\n",
        "quarter.loc[corcolumns].T.corr()"
      ],
      "execution_count": null,
      "outputs": [
        {
          "output_type": "execute_result",
          "data": {
            "text/html": [
              "<div>\n",
              "<style scoped>\n",
              "    .dataframe tbody tr th:only-of-type {\n",
              "        vertical-align: middle;\n",
              "    }\n",
              "\n",
              "    .dataframe tbody tr th {\n",
              "        vertical-align: top;\n",
              "    }\n",
              "\n",
              "    .dataframe thead th {\n",
              "        text-align: right;\n",
              "    }\n",
              "</style>\n",
              "<table border=\"1\" class=\"dataframe\">\n",
              "  <thead>\n",
              "    <tr style=\"text-align: right;\">\n",
              "      <th>Parameters</th>\n",
              "      <th>NM_U (%)</th>\n",
              "      <th>NM_INS (hours)</th>\n",
              "      <th>NM_RR06_06 (mm)</th>\n",
              "    </tr>\n",
              "    <tr>\n",
              "      <th>Parameters</th>\n",
              "      <th></th>\n",
              "      <th></th>\n",
              "      <th></th>\n",
              "    </tr>\n",
              "  </thead>\n",
              "  <tbody>\n",
              "    <tr>\n",
              "      <th>NM_U (%)</th>\n",
              "      <td>1.000000</td>\n",
              "      <td>-0.989247</td>\n",
              "      <td>0.939142</td>\n",
              "    </tr>\n",
              "    <tr>\n",
              "      <th>NM_INS (hours)</th>\n",
              "      <td>-0.989247</td>\n",
              "      <td>1.000000</td>\n",
              "      <td>-0.878870</td>\n",
              "    </tr>\n",
              "    <tr>\n",
              "      <th>NM_RR06_06 (mm)</th>\n",
              "      <td>0.939142</td>\n",
              "      <td>-0.878870</td>\n",
              "      <td>1.000000</td>\n",
              "    </tr>\n",
              "  </tbody>\n",
              "</table>\n",
              "</div>"
            ],
            "text/plain": [
              "Parameters       NM_U (%)  NM_INS (hours)  NM_RR06_06 (mm)\n",
              "Parameters                                                \n",
              "NM_U (%)         1.000000       -0.989247         0.939142\n",
              "NM_INS (hours)  -0.989247        1.000000        -0.878870\n",
              "NM_RR06_06 (mm)  0.939142       -0.878870         1.000000"
            ]
          },
          "metadata": {},
          "execution_count": 24
        }
      ]
    },
    {
      "cell_type": "markdown",
      "metadata": {
        "id": "7XBfxysWb2-1"
      },
      "source": [
        "There is positive correlation between 'NM_U' and 'NM_RR06_06'\n",
        "There is negative correlation between 'NM_INS' and 'NM_U'\n",
        "\n",
        "\n",
        "\n"
      ]
    },
    {
      "cell_type": "markdown",
      "metadata": {
        "id": "2_XttcdvwItw"
      },
      "source": [
        "## Create a common dataframe (df_temp_81_20) with only month-wise mean temperature and precipitation taken from both 81-10 vs 91-20 dataframes, now the month will be the row-index. \n",
        "\n"
      ]
    },
    {
      "cell_type": "code",
      "metadata": {
        "colab": {
          "base_uri": "https://localhost:8080/",
          "height": 422
        },
        "id": "NNdem5yLdYPn",
        "outputId": "0e692fb6-ce0a-410b-e954-b90785dac875"
      },
      "source": [
        "cols = ['NM_T (°C)', 'NM_RR06_06 (mm)']\n",
        "pd.merge(df_81_90.T[cols], df_91_20.T[cols], how='inner', left_index=True, right_index=True)"
      ],
      "execution_count": null,
      "outputs": [
        {
          "output_type": "execute_result",
          "data": {
            "text/html": [
              "<div>\n",
              "<style scoped>\n",
              "    .dataframe tbody tr th:only-of-type {\n",
              "        vertical-align: middle;\n",
              "    }\n",
              "\n",
              "    .dataframe tbody tr th {\n",
              "        vertical-align: top;\n",
              "    }\n",
              "\n",
              "    .dataframe thead th {\n",
              "        text-align: right;\n",
              "    }\n",
              "</style>\n",
              "<table border=\"1\" class=\"dataframe\">\n",
              "  <thead>\n",
              "    <tr style=\"text-align: right;\">\n",
              "      <th>Parameters</th>\n",
              "      <th>NM_T (°C)_x</th>\n",
              "      <th>NM_RR06_06 (mm)_x</th>\n",
              "      <th>NM_T (°C)_y</th>\n",
              "      <th>NM_RR06_06 (mm)_y</th>\n",
              "    </tr>\n",
              "  </thead>\n",
              "  <tbody>\n",
              "    <tr>\n",
              "      <th>JAN</th>\n",
              "      <td>0.8</td>\n",
              "      <td>76.6</td>\n",
              "      <td>1.4</td>\n",
              "      <td>71.5</td>\n",
              "    </tr>\n",
              "    <tr>\n",
              "      <th>FEB</th>\n",
              "      <td>1.6</td>\n",
              "      <td>62.5</td>\n",
              "      <td>2.2</td>\n",
              "      <td>59.5</td>\n",
              "    </tr>\n",
              "    <tr>\n",
              "      <th>MAR</th>\n",
              "      <td>5.2</td>\n",
              "      <td>69.1</td>\n",
              "      <td>5.7</td>\n",
              "      <td>56.6</td>\n",
              "    </tr>\n",
              "    <tr>\n",
              "      <th>APR</th>\n",
              "      <td>8.7</td>\n",
              "      <td>58.2</td>\n",
              "      <td>9.6</td>\n",
              "      <td>49.4</td>\n",
              "    </tr>\n",
              "    <tr>\n",
              "      <th>MAY</th>\n",
              "      <td>13.0</td>\n",
              "      <td>78.5</td>\n",
              "      <td>13.5</td>\n",
              "      <td>73.3</td>\n",
              "    </tr>\n",
              "    <tr>\n",
              "      <th>JUN</th>\n",
              "      <td>15.9</td>\n",
              "      <td>79.9</td>\n",
              "      <td>16.7</td>\n",
              "      <td>73.0</td>\n",
              "    </tr>\n",
              "    <tr>\n",
              "      <th>JUL</th>\n",
              "      <td>18.2</td>\n",
              "      <td>71.0</td>\n",
              "      <td>18.7</td>\n",
              "      <td>72.1</td>\n",
              "    </tr>\n",
              "    <tr>\n",
              "      <th>AUG</th>\n",
              "      <td>17.7</td>\n",
              "      <td>75.4</td>\n",
              "      <td>18.4</td>\n",
              "      <td>71.9</td>\n",
              "    </tr>\n",
              "    <tr>\n",
              "      <th>SEP</th>\n",
              "      <td>13.9</td>\n",
              "      <td>76.3</td>\n",
              "      <td>14.3</td>\n",
              "      <td>66.6</td>\n",
              "    </tr>\n",
              "    <tr>\n",
              "      <th>OCT</th>\n",
              "      <td>9.5</td>\n",
              "      <td>86.8</td>\n",
              "      <td>9.9</td>\n",
              "      <td>76.2</td>\n",
              "    </tr>\n",
              "    <tr>\n",
              "      <th>NOV</th>\n",
              "      <td>4.7</td>\n",
              "      <td>76.0</td>\n",
              "      <td>5.2</td>\n",
              "      <td>71.7</td>\n",
              "    </tr>\n",
              "    <tr>\n",
              "      <th>DEC</th>\n",
              "      <td>1.8</td>\n",
              "      <td>86.7</td>\n",
              "      <td>2.3</td>\n",
              "      <td>89.5</td>\n",
              "    </tr>\n",
              "  </tbody>\n",
              "</table>\n",
              "</div>"
            ],
            "text/plain": [
              "Parameters  NM_T (°C)_x  NM_RR06_06 (mm)_x  NM_T (°C)_y  NM_RR06_06 (mm)_y\n",
              "JAN                 0.8               76.6          1.4               71.5\n",
              "FEB                 1.6               62.5          2.2               59.5\n",
              "MAR                 5.2               69.1          5.7               56.6\n",
              "APR                 8.7               58.2          9.6               49.4\n",
              "MAY                13.0               78.5         13.5               73.3\n",
              "JUN                15.9               79.9         16.7               73.0\n",
              "JUL                18.2               71.0         18.7               72.1\n",
              "AUG                17.7               75.4         18.4               71.9\n",
              "SEP                13.9               76.3         14.3               66.6\n",
              "OCT                 9.5               86.8          9.9               76.2\n",
              "NOV                 4.7               76.0          5.2               71.7\n",
              "DEC                 1.8               86.7          2.3               89.5"
            ]
          },
          "metadata": {},
          "execution_count": 26
        }
      ]
    },
    {
      "cell_type": "markdown",
      "metadata": {
        "id": "dva-uyBO37GU"
      },
      "source": [
        "## Create a visualisation where the monthly mean temperature can be compared between 81-10 and 91-20"
      ]
    },
    {
      "cell_type": "code",
      "metadata": {
        "colab": {
          "base_uri": "https://localhost:8080/",
          "height": 422
        },
        "id": "sH6pCWjjecEE",
        "outputId": "b0b9106e-f5a5-4782-a438-a806c3dc7266"
      },
      "source": [
        "df_81_90.loc['NM_T (°C)'].compare(df_91_20.loc['NM_T (°C)'])"
      ],
      "execution_count": null,
      "outputs": [
        {
          "output_type": "execute_result",
          "data": {
            "text/html": [
              "<div>\n",
              "<style scoped>\n",
              "    .dataframe tbody tr th:only-of-type {\n",
              "        vertical-align: middle;\n",
              "    }\n",
              "\n",
              "    .dataframe tbody tr th {\n",
              "        vertical-align: top;\n",
              "    }\n",
              "\n",
              "    .dataframe thead th {\n",
              "        text-align: right;\n",
              "    }\n",
              "</style>\n",
              "<table border=\"1\" class=\"dataframe\">\n",
              "  <thead>\n",
              "    <tr style=\"text-align: right;\">\n",
              "      <th></th>\n",
              "      <th>self</th>\n",
              "      <th>other</th>\n",
              "    </tr>\n",
              "  </thead>\n",
              "  <tbody>\n",
              "    <tr>\n",
              "      <th>JAN</th>\n",
              "      <td>0.8</td>\n",
              "      <td>1.4</td>\n",
              "    </tr>\n",
              "    <tr>\n",
              "      <th>FEB</th>\n",
              "      <td>1.6</td>\n",
              "      <td>2.2</td>\n",
              "    </tr>\n",
              "    <tr>\n",
              "      <th>MAR</th>\n",
              "      <td>5.2</td>\n",
              "      <td>5.7</td>\n",
              "    </tr>\n",
              "    <tr>\n",
              "      <th>APR</th>\n",
              "      <td>8.7</td>\n",
              "      <td>9.6</td>\n",
              "    </tr>\n",
              "    <tr>\n",
              "      <th>MAY</th>\n",
              "      <td>13.0</td>\n",
              "      <td>13.5</td>\n",
              "    </tr>\n",
              "    <tr>\n",
              "      <th>JUN</th>\n",
              "      <td>15.9</td>\n",
              "      <td>16.7</td>\n",
              "    </tr>\n",
              "    <tr>\n",
              "      <th>JUL</th>\n",
              "      <td>18.2</td>\n",
              "      <td>18.7</td>\n",
              "    </tr>\n",
              "    <tr>\n",
              "      <th>AUG</th>\n",
              "      <td>17.7</td>\n",
              "      <td>18.4</td>\n",
              "    </tr>\n",
              "    <tr>\n",
              "      <th>SEP</th>\n",
              "      <td>13.9</td>\n",
              "      <td>14.3</td>\n",
              "    </tr>\n",
              "    <tr>\n",
              "      <th>OCT</th>\n",
              "      <td>9.5</td>\n",
              "      <td>9.9</td>\n",
              "    </tr>\n",
              "    <tr>\n",
              "      <th>NOV</th>\n",
              "      <td>4.7</td>\n",
              "      <td>5.2</td>\n",
              "    </tr>\n",
              "    <tr>\n",
              "      <th>DEC</th>\n",
              "      <td>1.8</td>\n",
              "      <td>2.3</td>\n",
              "    </tr>\n",
              "  </tbody>\n",
              "</table>\n",
              "</div>"
            ],
            "text/plain": [
              "     self  other\n",
              "JAN   0.8    1.4\n",
              "FEB   1.6    2.2\n",
              "MAR   5.2    5.7\n",
              "APR   8.7    9.6\n",
              "MAY  13.0   13.5\n",
              "JUN  15.9   16.7\n",
              "JUL  18.2   18.7\n",
              "AUG  17.7   18.4\n",
              "SEP  13.9   14.3\n",
              "OCT   9.5    9.9\n",
              "NOV   4.7    5.2\n",
              "DEC   1.8    2.3"
            ]
          },
          "metadata": {},
          "execution_count": 31
        }
      ]
    },
    {
      "cell_type": "code",
      "metadata": {
        "id": "urdUetXE5tSl",
        "colab": {
          "base_uri": "https://localhost:8080/",
          "height": 282
        },
        "outputId": "bd5261da-a09d-4bb2-d46e-2c88ee13a515"
      },
      "source": [
        "sdf_81_90.loc['NM_T (°C)'].plot.line()\n",
        "df_91_20.loc['NM_T (°C)'].plot.line()"
      ],
      "execution_count": null,
      "outputs": [
        {
          "output_type": "execute_result",
          "data": {
            "text/plain": [
              "<matplotlib.axes._subplots.AxesSubplot at 0x7fab69083650>"
            ]
          },
          "metadata": {},
          "execution_count": 28
        },
        {
          "output_type": "display_data",
          "data": {
            "image/png": "[encoded data removed]",
            "text/plain": [
              "<Figure size 432x288 with 1 Axes>"
            ]
          },
          "metadata": {
            "needs_background": "light"
          }
        }
      ]
    }
  ]
}
