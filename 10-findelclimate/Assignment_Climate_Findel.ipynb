{
  "nbformat": 4,
  "nbformat_minor": 0,
  "metadata": {
    "colab": {
      "name": "Assignment-Climate-Findel.ipynb",
      "provenance": []
    },
    "kernelspec": {
      "name": "python3",
      "display_name": "Python 3"
    },
    "language_info": {
      "name": "python"
    }
  },
  "cells": [
    {
      "cell_type": "markdown",
      "metadata": {
        "id": "5Gya-mwxqgp7"
      },
      "source": [
        "## Get familiar with the data"
      ]
    },
    {
      "cell_type": "markdown",
      "metadata": {
        "id": "Du2hpuy5qNxU"
      },
      "source": [
        "Climate normals are arithmetic averages of measured or observed meteorological elements. The general recommendation of the World Meteorological Organisation (WMO) is to use 30-year periods of reference. The current climatological standard normal period is 1991–2020. These long-term averages are used to describe the climate of an area. They are also used to compare the actual weather conditions occurring in a region with the average expected climate. This international coordination and standardisation enables comparisons of climate and climatological reports across national boundaries. \n",
        "\n",
        "Parameter description:\n",
        "\n",
        "    NM_T (°C): MEAN AIR TEMPERATURE AT 2 M\n",
        "    NM_XT (°C): MEAN DAILY MAXIMUM AIR TEMPERATURE AT 2 M\n",
        "    NM_NT (°C): MEAN DAILY MINIMUM AIR TEMPERATURE AT 2 M\n",
        "    NM_RR06_06 (mm): AMOUNT OF PRECIPITATION 05:46 UTC (M, D) TO 05:45 UTC (M+1, D+1)\n",
        "    NM_INS (hours): SUNSHINE DURATION\n",
        "    NM_U (%): MEAN RELATIVE HUMIDITY AT 2 M\n",
        "    NM_QFF (hPa): MEAN ATMOSPHERIC AIR PRESSURE REDUCED TO MEAN-SEA LEVEL\n",
        "    NM_ODRR01 (days): MEAN NUMBER OF DAYS WITH PRECIPITATION GREATER EQUAL 0.1 MM\n",
        "    NM_OFOG (days): MEAN NUMBER OF DAYS WITH FOG\n",
        "    NM_OCASETHSTORM (cases): MEAN NUMBER OF CASES WITH OCCURRENCE OF THUNDERSTORM\n",
        "    NM_OGLAZE (days): MEAN NUMBER OF DAYS WITH FREEZING PRECIPITATION\n",
        "    NM_OSNOW (days): MEAN NUMBER OF DAYS WITH SNOWFALL\n",
        "    NM_OGROUNDSNOW (days): MEAN NUMBER OF DAYS WITH SNOW COVER ON THE GROUND\n",
        "    NM_ODXT25 (days): MEAN NUMBER OF SUMMER DAYS (= MAXIMUM TEMPERATURE GREATER EQUAL 25 °C)\n",
        "    NM_ODXT30 (days): MEAN NUMBER OF HOT DAYS (= MAXIMUM TEMPERATURE GREATER EQUAL 30 °C)\n",
        "    NM_ODNT0 (days): MEAN NUMBER OF FROST DAYS (= MINIMUM TEMPERATURE SMALLER THAN 0 °C)\n",
        "    NM_0DXT0 (days): MEAN NUMBER OF ICE DAYS (= MAXIMUM TEMPERATURE SMALLER THAN 0 °C)\n"
      ]
    },
    {
      "cell_type": "markdown",
      "metadata": {
        "id": "tBDu2pd2vAQH"
      },
      "source": [
        "File format: CSV file sep=;\n",
        "Resources\n",
        "* 06590-climate-normals-luxfindel-1991-2020.csv\n",
        "* 06590-climate-normals-luxfindel-1981-2010.csv\n",
        "\n"
      ]
    },
    {
      "cell_type": "markdown",
      "metadata": {
        "id": "9USrI9IXqcUy"
      },
      "source": [
        "## Load data and print head"
      ]
    },
    {
      "cell_type": "code",
      "metadata": {
        "id": "rmgdM2UamDGC"
      },
      "source": [
        "import pandas as pd\n",
        "df_91_20=pd.read_csv('https://data.public.lu/fr/datasets/r/850ca2c2-88c5-4518-bf57-3fec2008821d',delimiter=\";\", encoding = \"ISO-8859-1\")\n",
        "df_81_10=pd.read_csv('https://data.public.lu/fr/datasets/r/4f4c8a32-84bf-4098-95eb-696e7e4ba3ec',delimiter=\";\", encoding = \"ISO-8859-1\")"
      ],
      "execution_count": null,
      "outputs": []
    },
    {
      "cell_type": "code",
      "metadata": {
        "colab": {
          "base_uri": "https://localhost:8080/",
          "height": 206
        },
        "id": "LTYSXfuYquW8",
        "outputId": "0c711b06-9e06-488c-8115-cfb2bc918559"
      },
      "source": [
        "df_91_20.head()"
      ],
      "execution_count": null,
      "outputs": [
        {
          "output_type": "execute_result",
          "data": {
            "text/html": [
              "<div>\n",
              "<style scoped>\n",
              "    .dataframe tbody tr th:only-of-type {\n",
              "        vertical-align: middle;\n",
              "    }\n",
              "\n",
              "    .dataframe tbody tr th {\n",
              "        vertical-align: top;\n",
              "    }\n",
              "\n",
              "    .dataframe thead th {\n",
              "        text-align: right;\n",
              "    }\n",
              "</style>\n",
              "<table border=\"1\" class=\"dataframe\">\n",
              "  <thead>\n",
              "    <tr style=\"text-align: right;\">\n",
              "      <th></th>\n",
              "      <th>MONTH</th>\n",
              "      <th>JAN</th>\n",
              "      <th>FEB</th>\n",
              "      <th>MAR</th>\n",
              "      <th>APR</th>\n",
              "      <th>MAY</th>\n",
              "      <th>JUN</th>\n",
              "      <th>JUL</th>\n",
              "      <th>AUG</th>\n",
              "      <th>SEP</th>\n",
              "      <th>OCT</th>\n",
              "      <th>NOV</th>\n",
              "      <th>DEC</th>\n",
              "    </tr>\n",
              "  </thead>\n",
              "  <tbody>\n",
              "    <tr>\n",
              "      <th>0</th>\n",
              "      <td>NM_T (°C)</td>\n",
              "      <td>1.4</td>\n",
              "      <td>2.2</td>\n",
              "      <td>5.7</td>\n",
              "      <td>9.6</td>\n",
              "      <td>13.5</td>\n",
              "      <td>16.7</td>\n",
              "      <td>18.7</td>\n",
              "      <td>18.4</td>\n",
              "      <td>14.3</td>\n",
              "      <td>9.9</td>\n",
              "      <td>5.2</td>\n",
              "      <td>2.3</td>\n",
              "    </tr>\n",
              "    <tr>\n",
              "      <th>1</th>\n",
              "      <td>NM_XT (°C)</td>\n",
              "      <td>3.8</td>\n",
              "      <td>5.2</td>\n",
              "      <td>9.8</td>\n",
              "      <td>14.4</td>\n",
              "      <td>18.4</td>\n",
              "      <td>21.7</td>\n",
              "      <td>23.9</td>\n",
              "      <td>23.5</td>\n",
              "      <td>19.0</td>\n",
              "      <td>13.5</td>\n",
              "      <td>7.7</td>\n",
              "      <td>4.5</td>\n",
              "    </tr>\n",
              "    <tr>\n",
              "      <th>2</th>\n",
              "      <td>NM_NT (°C)</td>\n",
              "      <td>-1.0</td>\n",
              "      <td>-0.7</td>\n",
              "      <td>2.0</td>\n",
              "      <td>5.1</td>\n",
              "      <td>8.7</td>\n",
              "      <td>11.8</td>\n",
              "      <td>13.8</td>\n",
              "      <td>13.6</td>\n",
              "      <td>10.3</td>\n",
              "      <td>6.6</td>\n",
              "      <td>2.8</td>\n",
              "      <td>0.0</td>\n",
              "    </tr>\n",
              "    <tr>\n",
              "      <th>3</th>\n",
              "      <td>NM_RR06_06 (mm)</td>\n",
              "      <td>71.5</td>\n",
              "      <td>59.5</td>\n",
              "      <td>56.6</td>\n",
              "      <td>49.4</td>\n",
              "      <td>73.3</td>\n",
              "      <td>73.0</td>\n",
              "      <td>72.1</td>\n",
              "      <td>71.9</td>\n",
              "      <td>66.6</td>\n",
              "      <td>76.2</td>\n",
              "      <td>71.7</td>\n",
              "      <td>89.5</td>\n",
              "    </tr>\n",
              "    <tr>\n",
              "      <th>4</th>\n",
              "      <td>NM_INS (hours)</td>\n",
              "      <td>52.0</td>\n",
              "      <td>79.5</td>\n",
              "      <td>137.1</td>\n",
              "      <td>197.5</td>\n",
              "      <td>226.3</td>\n",
              "      <td>241.2</td>\n",
              "      <td>257.6</td>\n",
              "      <td>237.1</td>\n",
              "      <td>174.9</td>\n",
              "      <td>106.7</td>\n",
              "      <td>51.1</td>\n",
              "      <td>41.9</td>\n",
              "    </tr>\n",
              "  </tbody>\n",
              "</table>\n",
              "</div>"
            ],
            "text/plain": [
              "             MONTH   JAN   FEB    MAR    APR  ...    AUG    SEP    OCT   NOV   DEC\n",
              "0        NM_T (°C)   1.4   2.2    5.7    9.6  ...   18.4   14.3    9.9   5.2   2.3\n",
              "1       NM_XT (°C)   3.8   5.2    9.8   14.4  ...   23.5   19.0   13.5   7.7   4.5\n",
              "2       NM_NT (°C)  -1.0  -0.7    2.0    5.1  ...   13.6   10.3    6.6   2.8   0.0\n",
              "3  NM_RR06_06 (mm)  71.5  59.5   56.6   49.4  ...   71.9   66.6   76.2  71.7  89.5\n",
              "4   NM_INS (hours)  52.0  79.5  137.1  197.5  ...  237.1  174.9  106.7  51.1  41.9\n",
              "\n",
              "[5 rows x 13 columns]"
            ]
          },
          "metadata": {},
          "execution_count": 4
        }
      ]
    },
    {
      "cell_type": "code",
      "metadata": {
        "colab": {
          "base_uri": "https://localhost:8080/",
          "height": 206
        },
        "id": "YahaoLuAq8nt",
        "outputId": "ed845488-f1c4-46ef-c7bf-f9e821429fa2"
      },
      "source": [
        "df_81_90.head()"
      ],
      "execution_count": null,
      "outputs": [
        {
          "output_type": "execute_result",
          "data": {
            "text/html": [
              "<div>\n",
              "<style scoped>\n",
              "    .dataframe tbody tr th:only-of-type {\n",
              "        vertical-align: middle;\n",
              "    }\n",
              "\n",
              "    .dataframe tbody tr th {\n",
              "        vertical-align: top;\n",
              "    }\n",
              "\n",
              "    .dataframe thead th {\n",
              "        text-align: right;\n",
              "    }\n",
              "</style>\n",
              "<table border=\"1\" class=\"dataframe\">\n",
              "  <thead>\n",
              "    <tr style=\"text-align: right;\">\n",
              "      <th></th>\n",
              "      <th>MONTH</th>\n",
              "      <th>JAN</th>\n",
              "      <th>FEB</th>\n",
              "      <th>MAR</th>\n",
              "      <th>APR</th>\n",
              "      <th>MAY</th>\n",
              "      <th>JUN</th>\n",
              "      <th>JUL</th>\n",
              "      <th>AUG</th>\n",
              "      <th>SEP</th>\n",
              "      <th>OCT</th>\n",
              "      <th>NOV</th>\n",
              "      <th>DEC</th>\n",
              "    </tr>\n",
              "  </thead>\n",
              "  <tbody>\n",
              "    <tr>\n",
              "      <th>0</th>\n",
              "      <td>NM_T (°C)</td>\n",
              "      <td>0.8</td>\n",
              "      <td>1.6</td>\n",
              "      <td>5.2</td>\n",
              "      <td>8.7</td>\n",
              "      <td>13.0</td>\n",
              "      <td>15.9</td>\n",
              "      <td>18.2</td>\n",
              "      <td>17.7</td>\n",
              "      <td>13.9</td>\n",
              "      <td>9.5</td>\n",
              "      <td>4.7</td>\n",
              "      <td>1.8</td>\n",
              "    </tr>\n",
              "    <tr>\n",
              "      <th>1</th>\n",
              "      <td>NM_XT (°C)</td>\n",
              "      <td>3.1</td>\n",
              "      <td>4.7</td>\n",
              "      <td>9.1</td>\n",
              "      <td>13.3</td>\n",
              "      <td>17.8</td>\n",
              "      <td>20.7</td>\n",
              "      <td>23.3</td>\n",
              "      <td>22.8</td>\n",
              "      <td>18.4</td>\n",
              "      <td>13.1</td>\n",
              "      <td>7.3</td>\n",
              "      <td>3.9</td>\n",
              "    </tr>\n",
              "    <tr>\n",
              "      <th>2</th>\n",
              "      <td>NM_NT (°C)</td>\n",
              "      <td>-1.6</td>\n",
              "      <td>-1.3</td>\n",
              "      <td>1.6</td>\n",
              "      <td>4.4</td>\n",
              "      <td>8.4</td>\n",
              "      <td>11.1</td>\n",
              "      <td>13.3</td>\n",
              "      <td>13.0</td>\n",
              "      <td>10.0</td>\n",
              "      <td>6.3</td>\n",
              "      <td>2.2</td>\n",
              "      <td>-0.5</td>\n",
              "    </tr>\n",
              "    <tr>\n",
              "      <th>3</th>\n",
              "      <td>NM_RR06_06 (mm)</td>\n",
              "      <td>76.6</td>\n",
              "      <td>62.5</td>\n",
              "      <td>69.1</td>\n",
              "      <td>58.2</td>\n",
              "      <td>78.5</td>\n",
              "      <td>79.9</td>\n",
              "      <td>71.0</td>\n",
              "      <td>75.4</td>\n",
              "      <td>76.3</td>\n",
              "      <td>86.8</td>\n",
              "      <td>76.0</td>\n",
              "      <td>86.7</td>\n",
              "    </tr>\n",
              "    <tr>\n",
              "      <th>4</th>\n",
              "      <td>NM_INS (hours)</td>\n",
              "      <td>50.3</td>\n",
              "      <td>83.6</td>\n",
              "      <td>125.1</td>\n",
              "      <td>181.6</td>\n",
              "      <td>213.4</td>\n",
              "      <td>227.0</td>\n",
              "      <td>250.3</td>\n",
              "      <td>230.8</td>\n",
              "      <td>161.9</td>\n",
              "      <td>105.9</td>\n",
              "      <td>54.2</td>\n",
              "      <td>41.0</td>\n",
              "    </tr>\n",
              "  </tbody>\n",
              "</table>\n",
              "</div>"
            ],
            "text/plain": [
              "             MONTH   JAN   FEB    MAR    APR  ...    AUG    SEP    OCT   NOV   DEC\n",
              "0        NM_T (°C)   0.8   1.6    5.2    8.7  ...   17.7   13.9    9.5   4.7   1.8\n",
              "1       NM_XT (°C)   3.1   4.7    9.1   13.3  ...   22.8   18.4   13.1   7.3   3.9\n",
              "2       NM_NT (°C)  -1.6  -1.3    1.6    4.4  ...   13.0   10.0    6.3   2.2  -0.5\n",
              "3  NM_RR06_06 (mm)  76.6  62.5   69.1   58.2  ...   75.4   76.3   86.8  76.0  86.7\n",
              "4   NM_INS (hours)  50.3  83.6  125.1  181.6  ...  230.8  161.9  105.9  54.2  41.0\n",
              "\n",
              "[5 rows x 13 columns]"
            ]
          },
          "metadata": {},
          "execution_count": 7
        }
      ]
    },
    {
      "cell_type": "markdown",
      "metadata": {
        "id": "23GE6ktWrLi6"
      },
      "source": [
        "## For both the dataframes, rename the column \"MONTH\" to \"Parameters\" and make it the index"
      ]
    },
    {
      "cell_type": "code",
      "metadata": {
        "id": "bLJ0a343-AWV"
      },
      "source": [
        ""
      ],
      "execution_count": null,
      "outputs": []
    },
    {
      "cell_type": "markdown",
      "metadata": {
        "id": "VfET2Jd9rrZ3"
      },
      "source": [
        "## Check the datatypes of each column and change non-numeric columns to numeric"
      ]
    },
    {
      "cell_type": "code",
      "metadata": {
        "id": "w9mPbjc68U75"
      },
      "source": [
        ""
      ],
      "execution_count": null,
      "outputs": []
    },
    {
      "cell_type": "markdown",
      "metadata": {
        "id": "MFpfBWSAtTN-"
      },
      "source": [
        "## Line-plot temperatures (in a single chart) and bar-plot humidity parameters "
      ]
    },
    {
      "cell_type": "code",
      "metadata": {
        "id": "gyrTW3l28WBA"
      },
      "source": [
        ""
      ],
      "execution_count": null,
      "outputs": []
    },
    {
      "cell_type": "markdown",
      "metadata": {
        "id": "_wlV3HwruaZy"
      },
      "source": [
        "## Find quarterly (3 month wise) differences of the parameters between 81-10 vs 91-20"
      ]
    },
    {
      "cell_type": "code",
      "metadata": {
        "id": "D9DKFUfJ8W3y"
      },
      "source": [
        ""
      ],
      "execution_count": null,
      "outputs": []
    },
    {
      "cell_type": "markdown",
      "metadata": {
        "id": "06F2nceG64ve"
      },
      "source": [
        "## Write codes to check the following statements if they are True or False"
      ]
    },
    {
      "cell_type": "markdown",
      "metadata": {
        "id": "ksaGY7747cQF"
      },
      "source": [
        "### Quarterly mean temperature is not affected by climate change"
      ]
    },
    {
      "cell_type": "code",
      "metadata": {
        "id": "FqO859KP8YGl"
      },
      "source": [
        ""
      ],
      "execution_count": null,
      "outputs": []
    },
    {
      "cell_type": "markdown",
      "metadata": {
        "id": "iru1cLTO75Xx"
      },
      "source": [
        "### Fog is decreasing in the winter months (Dec-Mar) between decades"
      ]
    },
    {
      "cell_type": "code",
      "metadata": {
        "id": "L4ZFmVLV8YxX"
      },
      "source": [
        ""
      ],
      "execution_count": null,
      "outputs": []
    },
    {
      "cell_type": "markdown",
      "metadata": {
        "id": "LhRa7GVI8nM2"
      },
      "source": [
        "### Precipitation (rain) pattern is changing between decades"
      ]
    },
    {
      "cell_type": "code",
      "metadata": {
        "id": "yWyXlceM8mU0"
      },
      "source": [
        ""
      ],
      "execution_count": null,
      "outputs": []
    },
    {
      "cell_type": "markdown",
      "metadata": {
        "id": "ramUaK71vuP3"
      },
      "source": [
        "## Find out the three most changed parameters and three least changed parameters in the quarterly (3 month wise) differences"
      ]
    },
    {
      "cell_type": "code",
      "metadata": {
        "id": "FMYJU92y-dzO"
      },
      "source": [
        ""
      ],
      "execution_count": null,
      "outputs": []
    },
    {
      "cell_type": "markdown",
      "metadata": {
        "id": "O0gkBSih-VnI"
      },
      "source": [
        "## Is there any correlation between the most changes parameters"
      ]
    },
    {
      "cell_type": "code",
      "metadata": {
        "id": "Sj_bQa6F-eoW"
      },
      "source": [
        ""
      ],
      "execution_count": null,
      "outputs": []
    },
    {
      "cell_type": "markdown",
      "metadata": {
        "id": "2_XttcdvwItw"
      },
      "source": [
        "## Create a common dataframe (df_temp_81_20) with only month-wise mean temperature and precipitation taken from both 81-10 vs 91-20 dataframes, now the month will be the row-index. \n",
        "\n"
      ]
    },
    {
      "cell_type": "code",
      "metadata": {
        "id": "r_T-jn61-gA4"
      },
      "source": [
        ""
      ],
      "execution_count": null,
      "outputs": []
    },
    {
      "cell_type": "markdown",
      "metadata": {
        "id": "dva-uyBO37GU"
      },
      "source": [
        "## Create a visualisation where the monthly mean temperature can be compared between 81-10 and 91-20"
      ]
    },
    {
      "cell_type": "code",
      "metadata": {
        "id": "urdUetXE5tSl"
      },
      "source": [
        ""
      ],
      "execution_count": null,
      "outputs": []
    }
  ]
}