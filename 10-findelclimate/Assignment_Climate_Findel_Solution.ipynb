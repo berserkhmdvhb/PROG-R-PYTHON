{
  "nbformat": 4,
  "nbformat_minor": 0,
  "metadata": {
    "colab": {
      "name": "Assignment-Climate-Findel-4.ipynb",
      "provenance": [],
      "collapsed_sections": []
    },
    "kernelspec": {
      "name": "python3",
      "display_name": "Python 3"
    },
    "language_info": {
      "name": "python"
    }
  },
  "cells": [
    {
      "cell_type": "markdown",
      "metadata": {
        "id": "5Gya-mwxqgp7"
      },
      "source": [
        "## Get familiar with the data"
      ]
    },
    {
      "cell_type": "markdown",
      "metadata": {
        "id": "Du2hpuy5qNxU"
      },
      "source": [
        "Climate normals are arithmetic averages of measured or observed meteorological elements. The general recommendation of the World Meteorological Organisation (WMO) is to use 30-year periods of reference. The current climatological standard normal period is 1991–2020. These long-term averages are used to describe the climate of an area. They are also used to compare the actual weather conditions occurring in a region with the average expected climate. This international coordination and standardisation enables comparisons of climate and climatological reports across national boundaries. \n",
        "\n",
        "Parameter description:\n",
        "\n",
        "    NM_T (°C): MEAN AIR TEMPERATURE AT 2 M\n",
        "    NM_XT (°C): MEAN DAILY MAXIMUM AIR TEMPERATURE AT 2 M\n",
        "    NM_NT (°C): MEAN DAILY MINIMUM AIR TEMPERATURE AT 2 M\n",
        "    NM_RR06_06 (mm): AMOUNT OF PRECIPITATION 05:46 UTC (M, D) TO 05:45 UTC (M+1, D+1)\n",
        "    NM_INS (hours): SUNSHINE DURATION\n",
        "    NM_U (%): MEAN RELATIVE HUMIDITY AT 2 M\n",
        "    NM_QFF (hPa): MEAN ATMOSPHERIC AIR PRESSURE REDUCED TO MEAN-SEA LEVEL\n",
        "    NM_ODRR01 (days): MEAN NUMBER OF DAYS WITH PRECIPITATION GREATER EQUAL 0.1 MM\n",
        "    NM_OFOG (days): MEAN NUMBER OF DAYS WITH FOG\n",
        "    NM_OCASETHSTORM (cases): MEAN NUMBER OF CASES WITH OCCURRENCE OF THUNDERSTORM\n",
        "    NM_OGLAZE (days): MEAN NUMBER OF DAYS WITH FREEZING PRECIPITATION\n",
        "    NM_OSNOW (days): MEAN NUMBER OF DAYS WITH SNOWFALL\n",
        "    NM_OGROUNDSNOW (days): MEAN NUMBER OF DAYS WITH SNOW COVER ON THE GROUND\n",
        "    NM_ODXT25 (days): MEAN NUMBER OF SUMMER DAYS (= MAXIMUM TEMPERATURE GREATER EQUAL 25 °C)\n",
        "    NM_ODXT30 (days): MEAN NUMBER OF HOT DAYS (= MAXIMUM TEMPERATURE GREATER EQUAL 30 °C)\n",
        "    NM_ODNT0 (days): MEAN NUMBER OF FROST DAYS (= MINIMUM TEMPERATURE SMALLER THAN 0 °C)\n",
        "    NM_0DXT0 (days): MEAN NUMBER OF ICE DAYS (= MAXIMUM TEMPERATURE SMALLER THAN 0 °C)\n"
      ]
    },
    {
      "cell_type": "markdown",
      "metadata": {
        "id": "tBDu2pd2vAQH"
      },
      "source": [
        "File format: CSV file sep=;\n",
        "Resources\n",
        "* 06590-climate-normals-luxfindel-1991-2020.csv\n",
        "* 06590-climate-normals-luxfindel-1981-2010.csv\n",
        "\n"
      ]
    },
    {
      "cell_type": "markdown",
      "metadata": {
        "id": "9USrI9IXqcUy"
      },
      "source": [
        "## Load data and print head"
      ]
    },
    {
      "cell_type": "code",
      "metadata": {
        "id": "rmgdM2UamDGC"
      },
      "source": [
        "import pandas as pd\n",
        "df_91_20=pd.read_csv('https://data.public.lu/fr/datasets/r/850ca2c2-88c5-4518-bf57-3fec2008821d',delimiter=\";\", encoding = \"ISO-8859-1\")\n",
        "df_81_90=pd.read_csv('https://data.public.lu/fr/datasets/r/4f4c8a32-84bf-4098-95eb-696e7e4ba3ec',delimiter=\";\", encoding = \"ISO-8859-1\")"
      ],
      "execution_count": 95,
      "outputs": []
    },
    {
      "cell_type": "code",
      "metadata": {
        "colab": {
          "base_uri": "https://localhost:8080/",
          "height": 204
        },
        "id": "LTYSXfuYquW8",
        "outputId": "ff3c862d-98c1-4ec5-f41c-3c2ac468942f"
      },
      "source": [
        "df_91_20.head()"
      ],
      "execution_count": 96,
      "outputs": [
        {
          "output_type": "execute_result",
          "data": {
            "text/html": [
              "<div>\n",
              "<style scoped>\n",
              "    .dataframe tbody tr th:only-of-type {\n",
              "        vertical-align: middle;\n",
              "    }\n",
              "\n",
              "    .dataframe tbody tr th {\n",
              "        vertical-align: top;\n",
              "    }\n",
              "\n",
              "    .dataframe thead th {\n",
              "        text-align: right;\n",
              "    }\n",
              "</style>\n",
              "<table border=\"1\" class=\"dataframe\">\n",
              "  <thead>\n",
              "    <tr style=\"text-align: right;\">\n",
              "      <th></th>\n",
              "      <th>MONTH</th>\n",
              "      <th>JAN</th>\n",
              "      <th>FEB</th>\n",
              "      <th>MAR</th>\n",
              "      <th>APR</th>\n",
              "      <th>MAY</th>\n",
              "      <th>JUN</th>\n",
              "      <th>JUL</th>\n",
              "      <th>AUG</th>\n",
              "      <th>SEP</th>\n",
              "      <th>OCT</th>\n",
              "      <th>NOV</th>\n",
              "      <th>DEC</th>\n",
              "    </tr>\n",
              "  </thead>\n",
              "  <tbody>\n",
              "    <tr>\n",
              "      <th>0</th>\n",
              "      <td>NM_T (°C)</td>\n",
              "      <td>1.4</td>\n",
              "      <td>2.2</td>\n",
              "      <td>5.7</td>\n",
              "      <td>9.6</td>\n",
              "      <td>13.5</td>\n",
              "      <td>16.7</td>\n",
              "      <td>18.7</td>\n",
              "      <td>18.4</td>\n",
              "      <td>14.3</td>\n",
              "      <td>9.9</td>\n",
              "      <td>5.2</td>\n",
              "      <td>2.3</td>\n",
              "    </tr>\n",
              "    <tr>\n",
              "      <th>1</th>\n",
              "      <td>NM_XT (°C)</td>\n",
              "      <td>3.8</td>\n",
              "      <td>5.2</td>\n",
              "      <td>9.8</td>\n",
              "      <td>14.4</td>\n",
              "      <td>18.4</td>\n",
              "      <td>21.7</td>\n",
              "      <td>23.9</td>\n",
              "      <td>23.5</td>\n",
              "      <td>19.0</td>\n",
              "      <td>13.5</td>\n",
              "      <td>7.7</td>\n",
              "      <td>4.5</td>\n",
              "    </tr>\n",
              "    <tr>\n",
              "      <th>2</th>\n",
              "      <td>NM_NT (°C)</td>\n",
              "      <td>-1.0</td>\n",
              "      <td>-0.7</td>\n",
              "      <td>2.0</td>\n",
              "      <td>5.1</td>\n",
              "      <td>8.7</td>\n",
              "      <td>11.8</td>\n",
              "      <td>13.8</td>\n",
              "      <td>13.6</td>\n",
              "      <td>10.3</td>\n",
              "      <td>6.6</td>\n",
              "      <td>2.8</td>\n",
              "      <td>0.0</td>\n",
              "    </tr>\n",
              "    <tr>\n",
              "      <th>3</th>\n",
              "      <td>NM_RR06_06 (mm)</td>\n",
              "      <td>71.5</td>\n",
              "      <td>59.5</td>\n",
              "      <td>56.6</td>\n",
              "      <td>49.4</td>\n",
              "      <td>73.3</td>\n",
              "      <td>73.0</td>\n",
              "      <td>72.1</td>\n",
              "      <td>71.9</td>\n",
              "      <td>66.6</td>\n",
              "      <td>76.2</td>\n",
              "      <td>71.7</td>\n",
              "      <td>89.5</td>\n",
              "    </tr>\n",
              "    <tr>\n",
              "      <th>4</th>\n",
              "      <td>NM_INS (hours)</td>\n",
              "      <td>52.0</td>\n",
              "      <td>79.5</td>\n",
              "      <td>137.1</td>\n",
              "      <td>197.5</td>\n",
              "      <td>226.3</td>\n",
              "      <td>241.2</td>\n",
              "      <td>257.6</td>\n",
              "      <td>237.1</td>\n",
              "      <td>174.9</td>\n",
              "      <td>106.7</td>\n",
              "      <td>51.1</td>\n",
              "      <td>41.9</td>\n",
              "    </tr>\n",
              "  </tbody>\n",
              "</table>\n",
              "</div>"
            ],
            "text/plain": [
              "             MONTH   JAN   FEB    MAR    APR  ...    AUG    SEP    OCT   NOV   DEC\n",
              "0        NM_T (°C)   1.4   2.2    5.7    9.6  ...   18.4   14.3    9.9   5.2   2.3\n",
              "1       NM_XT (°C)   3.8   5.2    9.8   14.4  ...   23.5   19.0   13.5   7.7   4.5\n",
              "2       NM_NT (°C)  -1.0  -0.7    2.0    5.1  ...   13.6   10.3    6.6   2.8   0.0\n",
              "3  NM_RR06_06 (mm)  71.5  59.5   56.6   49.4  ...   71.9   66.6   76.2  71.7  89.5\n",
              "4   NM_INS (hours)  52.0  79.5  137.1  197.5  ...  237.1  174.9  106.7  51.1  41.9\n",
              "\n",
              "[5 rows x 13 columns]"
            ]
          },
          "metadata": {},
          "execution_count": 96
        }
      ]
    },
    {
      "cell_type": "code",
      "metadata": {
        "colab": {
          "base_uri": "https://localhost:8080/"
        },
        "id": "nl-N7eRjqvQt",
        "outputId": "0ca56ddf-82b9-4efc-e692-e38b38a21761"
      },
      "source": [
        "df_91_20.shape"
      ],
      "execution_count": 97,
      "outputs": [
        {
          "output_type": "execute_result",
          "data": {
            "text/plain": [
              "(17, 13)"
            ]
          },
          "metadata": {},
          "execution_count": 97
        }
      ]
    },
    {
      "cell_type": "code",
      "metadata": {
        "colab": {
          "base_uri": "https://localhost:8080/",
          "height": 204
        },
        "id": "yY_7SgLInqvU",
        "outputId": "6ff04592-04f0-4930-dcd8-97e22a3b400b"
      },
      "source": [
        "df_91_20.tail()"
      ],
      "execution_count": 98,
      "outputs": [
        {
          "output_type": "execute_result",
          "data": {
            "text/html": [
              "<div>\n",
              "<style scoped>\n",
              "    .dataframe tbody tr th:only-of-type {\n",
              "        vertical-align: middle;\n",
              "    }\n",
              "\n",
              "    .dataframe tbody tr th {\n",
              "        vertical-align: top;\n",
              "    }\n",
              "\n",
              "    .dataframe thead th {\n",
              "        text-align: right;\n",
              "    }\n",
              "</style>\n",
              "<table border=\"1\" class=\"dataframe\">\n",
              "  <thead>\n",
              "    <tr style=\"text-align: right;\">\n",
              "      <th></th>\n",
              "      <th>MONTH</th>\n",
              "      <th>JAN</th>\n",
              "      <th>FEB</th>\n",
              "      <th>MAR</th>\n",
              "      <th>APR</th>\n",
              "      <th>MAY</th>\n",
              "      <th>JUN</th>\n",
              "      <th>JUL</th>\n",
              "      <th>AUG</th>\n",
              "      <th>SEP</th>\n",
              "      <th>OCT</th>\n",
              "      <th>NOV</th>\n",
              "      <th>DEC</th>\n",
              "    </tr>\n",
              "  </thead>\n",
              "  <tbody>\n",
              "    <tr>\n",
              "      <th>12</th>\n",
              "      <td>NM_OGROUNDSNOW (days)</td>\n",
              "      <td>7.6</td>\n",
              "      <td>7.0</td>\n",
              "      <td>2.4</td>\n",
              "      <td>0.2</td>\n",
              "      <td>0.0</td>\n",
              "      <td>0.0</td>\n",
              "      <td>0.0</td>\n",
              "      <td>0.0</td>\n",
              "      <td>0.0</td>\n",
              "      <td>0.0</td>\n",
              "      <td>1.5</td>\n",
              "      <td>6.3</td>\n",
              "    </tr>\n",
              "    <tr>\n",
              "      <th>13</th>\n",
              "      <td>NM_ODXT25 (days)</td>\n",
              "      <td>0.0</td>\n",
              "      <td>0.0</td>\n",
              "      <td>0.0</td>\n",
              "      <td>0.5</td>\n",
              "      <td>3.0</td>\n",
              "      <td>7.9</td>\n",
              "      <td>12.8</td>\n",
              "      <td>10.8</td>\n",
              "      <td>2.9</td>\n",
              "      <td>0.1</td>\n",
              "      <td>0.0</td>\n",
              "      <td>0.0</td>\n",
              "    </tr>\n",
              "    <tr>\n",
              "      <th>14</th>\n",
              "      <td>NM_ODXT30 (days)</td>\n",
              "      <td>0.0</td>\n",
              "      <td>0.0</td>\n",
              "      <td>0.0</td>\n",
              "      <td>0.0</td>\n",
              "      <td>0.1</td>\n",
              "      <td>1.2</td>\n",
              "      <td>3.3</td>\n",
              "      <td>2.7</td>\n",
              "      <td>0.1</td>\n",
              "      <td>0.0</td>\n",
              "      <td>0.0</td>\n",
              "      <td>0.0</td>\n",
              "    </tr>\n",
              "    <tr>\n",
              "      <th>15</th>\n",
              "      <td>NM_ODNT0 (days)</td>\n",
              "      <td>16.9</td>\n",
              "      <td>14.7</td>\n",
              "      <td>8.1</td>\n",
              "      <td>2.4</td>\n",
              "      <td>0.0</td>\n",
              "      <td>0.0</td>\n",
              "      <td>0.0</td>\n",
              "      <td>0.0</td>\n",
              "      <td>0.0</td>\n",
              "      <td>1.2</td>\n",
              "      <td>6.6</td>\n",
              "      <td>14.5</td>\n",
              "    </tr>\n",
              "    <tr>\n",
              "      <th>16</th>\n",
              "      <td>NM_ODXT0 (days)</td>\n",
              "      <td>5.9</td>\n",
              "      <td>3.2</td>\n",
              "      <td>0.4</td>\n",
              "      <td>0.0</td>\n",
              "      <td>0.0</td>\n",
              "      <td>0.0</td>\n",
              "      <td>0.0</td>\n",
              "      <td>0.0</td>\n",
              "      <td>0.0</td>\n",
              "      <td>0.0</td>\n",
              "      <td>0.8</td>\n",
              "      <td>3.7</td>\n",
              "    </tr>\n",
              "  </tbody>\n",
              "</table>\n",
              "</div>"
            ],
            "text/plain": [
              "                    MONTH   JAN   FEB  MAR  APR  ...   AUG  SEP  OCT  NOV   DEC\n",
              "12  NM_OGROUNDSNOW (days)   7.6   7.0  2.4  0.2  ...   0.0  0.0  0.0  1.5   6.3\n",
              "13       NM_ODXT25 (days)   0.0   0.0  0.0  0.5  ...  10.8  2.9  0.1  0.0   0.0\n",
              "14       NM_ODXT30 (days)   0.0   0.0  0.0  0.0  ...   2.7  0.1  0.0  0.0   0.0\n",
              "15        NM_ODNT0 (days)  16.9  14.7  8.1  2.4  ...   0.0  0.0  1.2  6.6  14.5\n",
              "16        NM_ODXT0 (days)   5.9   3.2  0.4  0.0  ...   0.0  0.0  0.0  0.8   3.7\n",
              "\n",
              "[5 rows x 13 columns]"
            ]
          },
          "metadata": {},
          "execution_count": 98
        }
      ]
    },
    {
      "cell_type": "code",
      "metadata": {
        "colab": {
          "base_uri": "https://localhost:8080/",
          "height": 204
        },
        "id": "YahaoLuAq8nt",
        "outputId": "b0807704-623a-484e-d27f-8a06011d7415"
      },
      "source": [
        "df_81_90.head()"
      ],
      "execution_count": 99,
      "outputs": [
        {
          "output_type": "execute_result",
          "data": {
            "text/html": [
              "<div>\n",
              "<style scoped>\n",
              "    .dataframe tbody tr th:only-of-type {\n",
              "        vertical-align: middle;\n",
              "    }\n",
              "\n",
              "    .dataframe tbody tr th {\n",
              "        vertical-align: top;\n",
              "    }\n",
              "\n",
              "    .dataframe thead th {\n",
              "        text-align: right;\n",
              "    }\n",
              "</style>\n",
              "<table border=\"1\" class=\"dataframe\">\n",
              "  <thead>\n",
              "    <tr style=\"text-align: right;\">\n",
              "      <th></th>\n",
              "      <th>MONTH</th>\n",
              "      <th>JAN</th>\n",
              "      <th>FEB</th>\n",
              "      <th>MAR</th>\n",
              "      <th>APR</th>\n",
              "      <th>MAY</th>\n",
              "      <th>JUN</th>\n",
              "      <th>JUL</th>\n",
              "      <th>AUG</th>\n",
              "      <th>SEP</th>\n",
              "      <th>OCT</th>\n",
              "      <th>NOV</th>\n",
              "      <th>DEC</th>\n",
              "    </tr>\n",
              "  </thead>\n",
              "  <tbody>\n",
              "    <tr>\n",
              "      <th>0</th>\n",
              "      <td>NM_T (°C)</td>\n",
              "      <td>0.8</td>\n",
              "      <td>1.6</td>\n",
              "      <td>5.2</td>\n",
              "      <td>8.7</td>\n",
              "      <td>13.0</td>\n",
              "      <td>15.9</td>\n",
              "      <td>18.2</td>\n",
              "      <td>17.7</td>\n",
              "      <td>13.9</td>\n",
              "      <td>9.5</td>\n",
              "      <td>4.7</td>\n",
              "      <td>1.8</td>\n",
              "    </tr>\n",
              "    <tr>\n",
              "      <th>1</th>\n",
              "      <td>NM_XT (°C)</td>\n",
              "      <td>3.1</td>\n",
              "      <td>4.7</td>\n",
              "      <td>9.1</td>\n",
              "      <td>13.3</td>\n",
              "      <td>17.8</td>\n",
              "      <td>20.7</td>\n",
              "      <td>23.3</td>\n",
              "      <td>22.8</td>\n",
              "      <td>18.4</td>\n",
              "      <td>13.1</td>\n",
              "      <td>7.3</td>\n",
              "      <td>3.9</td>\n",
              "    </tr>\n",
              "    <tr>\n",
              "      <th>2</th>\n",
              "      <td>NM_NT (°C)</td>\n",
              "      <td>-1.6</td>\n",
              "      <td>-1.3</td>\n",
              "      <td>1.6</td>\n",
              "      <td>4.4</td>\n",
              "      <td>8.4</td>\n",
              "      <td>11.1</td>\n",
              "      <td>13.3</td>\n",
              "      <td>13.0</td>\n",
              "      <td>10.0</td>\n",
              "      <td>6.3</td>\n",
              "      <td>2.2</td>\n",
              "      <td>-0.5</td>\n",
              "    </tr>\n",
              "    <tr>\n",
              "      <th>3</th>\n",
              "      <td>NM_RR06_06 (mm)</td>\n",
              "      <td>76.6</td>\n",
              "      <td>62.5</td>\n",
              "      <td>69.1</td>\n",
              "      <td>58.2</td>\n",
              "      <td>78.5</td>\n",
              "      <td>79.9</td>\n",
              "      <td>71.0</td>\n",
              "      <td>75.4</td>\n",
              "      <td>76.3</td>\n",
              "      <td>86.8</td>\n",
              "      <td>76.0</td>\n",
              "      <td>86.7</td>\n",
              "    </tr>\n",
              "    <tr>\n",
              "      <th>4</th>\n",
              "      <td>NM_INS (hours)</td>\n",
              "      <td>50.3</td>\n",
              "      <td>83.6</td>\n",
              "      <td>125.1</td>\n",
              "      <td>181.6</td>\n",
              "      <td>213.4</td>\n",
              "      <td>227.0</td>\n",
              "      <td>250.3</td>\n",
              "      <td>230.8</td>\n",
              "      <td>161.9</td>\n",
              "      <td>105.9</td>\n",
              "      <td>54.2</td>\n",
              "      <td>41.0</td>\n",
              "    </tr>\n",
              "  </tbody>\n",
              "</table>\n",
              "</div>"
            ],
            "text/plain": [
              "             MONTH   JAN   FEB    MAR    APR  ...    AUG    SEP    OCT   NOV   DEC\n",
              "0        NM_T (°C)   0.8   1.6    5.2    8.7  ...   17.7   13.9    9.5   4.7   1.8\n",
              "1       NM_XT (°C)   3.1   4.7    9.1   13.3  ...   22.8   18.4   13.1   7.3   3.9\n",
              "2       NM_NT (°C)  -1.6  -1.3    1.6    4.4  ...   13.0   10.0    6.3   2.2  -0.5\n",
              "3  NM_RR06_06 (mm)  76.6  62.5   69.1   58.2  ...   75.4   76.3   86.8  76.0  86.7\n",
              "4   NM_INS (hours)  50.3  83.6  125.1  181.6  ...  230.8  161.9  105.9  54.2  41.0\n",
              "\n",
              "[5 rows x 13 columns]"
            ]
          },
          "metadata": {},
          "execution_count": 99
        }
      ]
    },
    {
      "cell_type": "markdown",
      "metadata": {
        "id": "23GE6ktWrLi6"
      },
      "source": [
        "## For both the dataframes, rename the column \"MONTH\" to \"Parameters\" and make it the index"
      ]
    },
    {
      "cell_type": "code",
      "metadata": {
        "id": "bLJ0a343-AWV"
      },
      "source": [
        "df_81_90.rename(columns = {'MONTH':'Parameters'}, inplace=True)\n",
        "df_91_20.rename(columns = {'MONTH':'Parameters'}, inplace=True)"
      ],
      "execution_count": 100,
      "outputs": []
    },
    {
      "cell_type": "markdown",
      "metadata": {
        "id": "VfET2Jd9rrZ3"
      },
      "source": [
        "## Check the datatypes of each column and change non-numeric columns to numeric"
      ]
    },
    {
      "cell_type": "code",
      "metadata": {
        "id": "w9mPbjc68U75",
        "colab": {
          "base_uri": "https://localhost:8080/"
        },
        "outputId": "b029b058-36ba-4d73-9193-074204a13a25"
      },
      "source": [
        "print(df_81_90.dtypes,\"\\n\\n\\n\")\n",
        "print(df_91_20.dtypes)"
      ],
      "execution_count": 101,
      "outputs": [
        {
          "output_type": "stream",
          "name": "stdout",
          "text": [
            "Parameters     object\n",
            "JAN           float64\n",
            "FEB           float64\n",
            "MAR           float64\n",
            "APR           float64\n",
            "MAY           float64\n",
            "JUN           float64\n",
            "JUL           float64\n",
            "AUG           float64\n",
            "SEP           float64\n",
            "OCT            object\n",
            "NOV            object\n",
            "DEC           float64\n",
            "dtype: object \n",
            "\n",
            "\n",
            "\n",
            "Parameters     object\n",
            "JAN           float64\n",
            "FEB           float64\n",
            "MAR           float64\n",
            "APR           float64\n",
            "MAY           float64\n",
            "JUN           float64\n",
            "JUL           float64\n",
            "AUG           float64\n",
            "SEP           float64\n",
            "OCT           float64\n",
            "NOV           float64\n",
            "DEC           float64\n",
            "dtype: object\n"
          ]
        }
      ]
    },
    {
      "cell_type": "code",
      "metadata": {
        "id": "ZYcDbiKFS8nl"
      },
      "source": [
        "#select out columns that are not float\n",
        "nonfltcolumns = list(df_81_90.select_dtypes(include=['object']).columns)\n",
        "#we want the parameters column to be intact since they should be string not float\n",
        "nonfltcolumns.remove('Parameters')\n",
        "#remove non-numeric characters from entries and then convert the column type to float\n",
        "df_81_90[nonfltcolumns] = df_81_90[nonfltcolumns].apply(lambda x: x.str.replace(r'[<>\\s]+','')).astype(float)"
      ],
      "execution_count": 102,
      "outputs": []
    },
    {
      "cell_type": "markdown",
      "metadata": {
        "id": "MFpfBWSAtTN-"
      },
      "source": [
        "## Line-plot temperatures (in a single chart) and bar-plot humidity parameters "
      ]
    },
    {
      "cell_type": "code",
      "metadata": {
        "id": "F096TKoMeyZx"
      },
      "source": [
        "df_81_90.set_index('Parameters', inplace=True)\n",
        "df_91_20.set_index('Parameters', inplace=True)"
      ],
      "execution_count": 103,
      "outputs": []
    },
    {
      "cell_type": "code",
      "metadata": {
        "id": "oKqWmMBZfcBi",
        "colab": {
          "base_uri": "https://localhost:8080/",
          "height": 282
        },
        "outputId": "be50f581-8c82-4e71-c6b9-f7dad95297d9"
      },
      "source": [
        "#line plot\n",
        "df_81_90.loc['NM_RR06_06 (mm)'].plot.line()\n",
        "df_91_20.loc['NM_RR06_06 (mm)'].plot.line()"
      ],
      "execution_count": 104,
      "outputs": [
        {
          "output_type": "execute_result",
          "data": {
            "text/plain": [
              "<matplotlib.axes._subplots.AxesSubplot at 0x7f3eae144bd0>"
            ]
          },
          "metadata": {},
          "execution_count": 104
        },
        {
          "output_type": "display_data",
          "data": {
            "image/png": "[encoded data removed]",
            "text/plain": [
              "<Figure size 432x288 with 1 Axes>"
            ]
          },
          "metadata": {
            "needs_background": "light"
          }
        }
      ]
    },
    {
      "cell_type": "code",
      "metadata": {
        "id": "4REEfjyqeWjP",
        "colab": {
          "base_uri": "https://localhost:8080/",
          "height": 282
        },
        "outputId": "53e445c1-422e-47f6-e572-1955652801a4"
      },
      "source": [
        "#bar plot\n",
        "df_81_90.loc['NM_U (%)'].plot.bar(rot=0)\n"
      ],
      "execution_count": 105,
      "outputs": [
        {
          "output_type": "execute_result",
          "data": {
            "text/plain": [
              "<matplotlib.axes._subplots.AxesSubplot at 0x7f3eae3eced0>"
            ]
          },
          "metadata": {},
          "execution_count": 105
        },
        {
          "output_type": "display_data",
          "data": {
            "image/png": "[encoded data removed]",
            "text/plain": [
              "<Figure size 432x288 with 1 Axes>"
            ]
          },
          "metadata": {
            "needs_background": "light"
          }
        }
      ]
    },
    {
      "cell_type": "code",
      "metadata": {
        "id": "I0KfGjldj25p",
        "colab": {
          "base_uri": "https://localhost:8080/",
          "height": 282
        },
        "outputId": "90d08121-9371-47fe-c77c-d0254c61f804"
      },
      "source": [
        "#bar plot\n",
        "df_91_20.loc['NM_U (%)'].plot.bar(rot=0)"
      ],
      "execution_count": 106,
      "outputs": [
        {
          "output_type": "execute_result",
          "data": {
            "text/plain": [
              "<matplotlib.axes._subplots.AxesSubplot at 0x7f3eae080e90>"
            ]
          },
          "metadata": {},
          "execution_count": 106
        },
        {
          "output_type": "display_data",
          "data": {
            "image/png": "[encoded data removed]",
            "text/plain": [
              "<Figure size 432x288 with 1 Axes>"
            ]
          },
          "metadata": {
            "needs_background": "light"
          }
        }
      ]
    },
    {
      "cell_type": "markdown",
      "metadata": {
        "id": "_wlV3HwruaZy"
      },
      "source": [
        "## Find quarterly (3 month wise) differences of the parameters between 81-10 vs 91-20"
      ]
    },
    {
      "cell_type": "code",
      "metadata": {
        "id": "ayJbXNgzz-j3"
      },
      "source": [
        "colnum = df_81_90.shape[1]\n",
        "quarter = pd.DataFrame()\n",
        "coef = 1\n",
        "# select every three months from columns from both tables and store the differences in a qurarter dataframe \n",
        "for month in range(2, colnum+1, 3):\n",
        "  quarter[f\"Quarter {month - coef}\"] = df_91_20.iloc[:,month] - df_81_90.iloc[:,month]\n",
        "  coef += 2"
      ],
      "execution_count": 107,
      "outputs": []
    },
    {
      "cell_type": "code",
      "metadata": {
        "colab": {
          "base_uri": "https://localhost:8080/",
          "height": 235
        },
        "id": "-eYJFVAV-Y5I",
        "outputId": "da81e252-d085-4db4-f67d-fbd74e88c595"
      },
      "source": [
        "quarter.head()"
      ],
      "execution_count": 108,
      "outputs": [
        {
          "output_type": "execute_result",
          "data": {
            "text/html": [
              "<div>\n",
              "<style scoped>\n",
              "    .dataframe tbody tr th:only-of-type {\n",
              "        vertical-align: middle;\n",
              "    }\n",
              "\n",
              "    .dataframe tbody tr th {\n",
              "        vertical-align: top;\n",
              "    }\n",
              "\n",
              "    .dataframe thead th {\n",
              "        text-align: right;\n",
              "    }\n",
              "</style>\n",
              "<table border=\"1\" class=\"dataframe\">\n",
              "  <thead>\n",
              "    <tr style=\"text-align: right;\">\n",
              "      <th></th>\n",
              "      <th>Quarter 1</th>\n",
              "      <th>Quarter 2</th>\n",
              "      <th>Quarter 3</th>\n",
              "      <th>Quarter 4</th>\n",
              "    </tr>\n",
              "    <tr>\n",
              "      <th>Parameters</th>\n",
              "      <th></th>\n",
              "      <th></th>\n",
              "      <th></th>\n",
              "      <th></th>\n",
              "    </tr>\n",
              "  </thead>\n",
              "  <tbody>\n",
              "    <tr>\n",
              "      <th>NM_T (°C)</th>\n",
              "      <td>0.5</td>\n",
              "      <td>0.8</td>\n",
              "      <td>0.4</td>\n",
              "      <td>0.5</td>\n",
              "    </tr>\n",
              "    <tr>\n",
              "      <th>NM_XT (°C)</th>\n",
              "      <td>0.7</td>\n",
              "      <td>1.0</td>\n",
              "      <td>0.6</td>\n",
              "      <td>0.6</td>\n",
              "    </tr>\n",
              "    <tr>\n",
              "      <th>NM_NT (°C)</th>\n",
              "      <td>0.4</td>\n",
              "      <td>0.7</td>\n",
              "      <td>0.3</td>\n",
              "      <td>0.5</td>\n",
              "    </tr>\n",
              "    <tr>\n",
              "      <th>NM_RR06_06 (mm)</th>\n",
              "      <td>-12.5</td>\n",
              "      <td>-6.9</td>\n",
              "      <td>-9.7</td>\n",
              "      <td>2.8</td>\n",
              "    </tr>\n",
              "    <tr>\n",
              "      <th>NM_INS (hours)</th>\n",
              "      <td>12.0</td>\n",
              "      <td>14.2</td>\n",
              "      <td>13.0</td>\n",
              "      <td>0.9</td>\n",
              "    </tr>\n",
              "  </tbody>\n",
              "</table>\n",
              "</div>"
            ],
            "text/plain": [
              "                 Quarter 1  Quarter 2  Quarter 3  Quarter 4\n",
              "Parameters                                                 \n",
              "NM_T (°C)              0.5        0.8        0.4        0.5\n",
              "NM_XT (°C)             0.7        1.0        0.6        0.6\n",
              "NM_NT (°C)             0.4        0.7        0.3        0.5\n",
              "NM_RR06_06 (mm)      -12.5       -6.9       -9.7        2.8\n",
              "NM_INS (hours)        12.0       14.2       13.0        0.9"
            ]
          },
          "metadata": {},
          "execution_count": 108
        }
      ]
    },
    {
      "cell_type": "markdown",
      "metadata": {
        "id": "06F2nceG64ve"
      },
      "source": [
        "## Write codes to check the following statements if they are True or False"
      ]
    },
    {
      "cell_type": "markdown",
      "metadata": {
        "id": "ksaGY7747cQF"
      },
      "source": [
        "### Quarterly mean temperature is not affected by climate change"
      ]
    },
    {
      "cell_type": "code",
      "metadata": {
        "id": "FqO859KP8YGl",
        "colab": {
          "base_uri": "https://localhost:8080/"
        },
        "outputId": "2cf5b695-aea5-463a-aea2-139160dc8c70"
      },
      "source": [
        "quarter.T.corr().loc['NM_T (°C)']"
      ],
      "execution_count": 109,
      "outputs": [
        {
          "output_type": "execute_result",
          "data": {
            "text/plain": [
              "Parameters\n",
              "NM_T (°C)                 1.000000\n",
              "NM_XT (°C)                0.965824\n",
              "NM_NT (°C)                0.957841\n",
              "NM_RR06_06 (mm)           0.062174\n",
              "NM_INS (hours)            0.298872\n",
              "NM_U (%)                 -0.192450\n",
              "NM_QFF (hPa)                   NaN\n",
              "NM_ODRR01 (days)         -0.044120\n",
              "NM_OFOG (days)           -0.408248\n",
              "NM_OCASETHSTORM (days)   -0.568995\n",
              "NM_OGLAZE (days)          0.142134\n",
              "NM_OSNOW (days)           0.294484\n",
              "NM_OGROUNDSNOW (days)     0.272166\n",
              "NM_ODXT25 (days)          0.650278\n",
              "NM_ODXT30 (days)          0.986747\n",
              "NM_ODNT0 (days)           0.329293\n",
              "NM_ODXT0 (days)           0.172774\n",
              "Name: NM_T (°C), dtype: float64"
            ]
          },
          "metadata": {},
          "execution_count": 109
        }
      ]
    },
    {
      "cell_type": "markdown",
      "metadata": {
        "id": "hRs2VMgvZoNQ"
      },
      "source": [
        "The mean temperature value has correlation with some columns such as NM_ODXT30, which is the mean number of hot days. I don't think this suffices for indicating an influence. "
      ]
    },
    {
      "cell_type": "markdown",
      "metadata": {
        "id": "iru1cLTO75Xx"
      },
      "source": [
        "### Fog is decreasing in the winter months (Dec-Mar) between decades"
      ]
    },
    {
      "cell_type": "code",
      "metadata": {
        "colab": {
          "base_uri": "https://localhost:8080/"
        },
        "id": "8c1bN3scjLmW",
        "outputId": "42b3f073-0c8b-4c73-c124-9c2c9d0a68ee"
      },
      "source": [
        "df_81_90.index"
      ],
      "execution_count": 110,
      "outputs": [
        {
          "output_type": "execute_result",
          "data": {
            "text/plain": [
              "Index(['NM_T (°C)', 'NM_XT (°C)', 'NM_NT (°C)', 'NM_RR06_06 (mm)',\n",
              "       'NM_INS (hours)', 'NM_U (%)', 'NM_QFF (hPa)', 'NM_ODRR01 (days)',\n",
              "       'NM_OFOG (days)', 'NM_OCASETHSTORM (days)', 'NM_OGLAZE (days)',\n",
              "       'NM_OSNOW (days)', 'NM_OGROUNDSNOW (days)', 'NM_ODXT25 (days)',\n",
              "       'NM_ODXT30 (days)', 'NM_ODNT0 (days)', 'NM_ODXT0 (days)'],\n",
              "      dtype='object', name='Parameters')"
            ]
          },
          "metadata": {},
          "execution_count": 110
        }
      ]
    },
    {
      "cell_type": "code",
      "metadata": {
        "colab": {
          "base_uri": "https://localhost:8080/"
        },
        "id": "ttyHl6CVj7hs",
        "outputId": "706cd4a4-fdbc-41e8-eeb0-9ae24c55a9ce"
      },
      "source": [
        "fog1 = df_81_90.loc['NM_OFOG (days)'].iloc[-2:]\n",
        "fog2 = df_91_20.loc['NM_OFOG (days)'].iloc[-2:]\n",
        "fog2 - fog1 < 0\n"
      ],
      "execution_count": 111,
      "outputs": [
        {
          "output_type": "execute_result",
          "data": {
            "text/plain": [
              "NOV    True\n",
              "DEC    True\n",
              "Name: NM_OFOG (days), dtype: bool"
            ]
          },
          "metadata": {},
          "execution_count": 111
        }
      ]
    },
    {
      "cell_type": "markdown",
      "metadata": {
        "id": "J8viwiXHaU2-"
      },
      "source": [
        "Positive, it is decreasing"
      ]
    },
    {
      "cell_type": "markdown",
      "metadata": {
        "id": "LhRa7GVI8nM2"
      },
      "source": [
        "### Precipitation (rain) pattern is changing between decades"
      ]
    },
    {
      "cell_type": "code",
      "metadata": {
        "id": "yWyXlceM8mU0",
        "colab": {
          "base_uri": "https://localhost:8080/"
        },
        "outputId": "61e52693-c5f1-434a-e434-41c3070c671f"
      },
      "source": [
        "diff = df_91_20.loc['NM_RR06_06 (mm)'] - df_81_90.loc['NM_RR06_06 (mm)']\n",
        "print(diff,\"\\n\\n\")\n",
        "#check whether all months follow the same patter of increase or decrease\n",
        "#check increase\n",
        "print(all(i >= 0 for i in diff))\n",
        "#check decrase\n",
        "print(all(i <= 0 for i in diff))"
      ],
      "execution_count": 112,
      "outputs": [
        {
          "output_type": "stream",
          "name": "stdout",
          "text": [
            "JAN    -5.1\n",
            "FEB    -3.0\n",
            "MAR   -12.5\n",
            "APR    -8.8\n",
            "MAY    -5.2\n",
            "JUN    -6.9\n",
            "JUL     1.1\n",
            "AUG    -3.5\n",
            "SEP    -9.7\n",
            "OCT   -10.6\n",
            "NOV    -4.3\n",
            "DEC     2.8\n",
            "Name: NM_RR06_06 (mm), dtype: float64 \n",
            "\n",
            "\n",
            "False\n",
            "False\n"
          ]
        }
      ]
    },
    {
      "cell_type": "markdown",
      "metadata": {
        "id": "HWWH9KIqart9"
      },
      "source": [
        "If we only deem change as when all months change together, then there is no all-inclusive change during between the decades"
      ]
    },
    {
      "cell_type": "markdown",
      "metadata": {
        "id": "ramUaK71vuP3"
      },
      "source": [
        "## Find out the three most changed parameters and three least changed parameters in the quarterly (3 month wise) differences"
      ]
    },
    {
      "cell_type": "code",
      "metadata": {
        "id": "FMYJU92y-dzO"
      },
      "source": [
        "diffs = quarter.apply(lambda row: max([abs(row[f'Quarter {i}'] - row[f'Quarter {i-1}']) for i in range(2,5)]), axis=1)"
      ],
      "execution_count": 113,
      "outputs": []
    },
    {
      "cell_type": "code",
      "metadata": {
        "colab": {
          "base_uri": "https://localhost:8080/"
        },
        "id": "1LcUYHeHFFWw",
        "outputId": "cab88c7e-a586-4406-af0e-1bda849b5cb3"
      },
      "source": [
        "diffs"
      ],
      "execution_count": 114,
      "outputs": [
        {
          "output_type": "execute_result",
          "data": {
            "text/plain": [
              "Parameters\n",
              "NM_T (°C)                  0.4\n",
              "NM_XT (°C)                 0.4\n",
              "NM_NT (°C)                 0.4\n",
              "NM_RR06_06 (mm)           12.5\n",
              "NM_INS (hours)            12.1\n",
              "NM_U (%)                   3.0\n",
              "NM_QFF (hPa)               0.0\n",
              "NM_ODRR01 (days)           2.0\n",
              "NM_OFOG (days)             0.3\n",
              "NM_OCASETHSTORM (days)     0.7\n",
              "NM_OGLAZE (days)           0.5\n",
              "NM_OSNOW (days)            1.1\n",
              "NM_OGROUNDSNOW (days)      0.9\n",
              "NM_ODXT25 (days)           1.4\n",
              "NM_ODXT30 (days)           0.9\n",
              "NM_ODNT0 (days)            2.0\n",
              "NM_ODXT0 (days)            1.3\n",
              "dtype: float64"
            ]
          },
          "metadata": {},
          "execution_count": 114
        }
      ]
    },
    {
      "cell_type": "code",
      "metadata": {
        "colab": {
          "base_uri": "https://localhost:8080/"
        },
        "id": "1X6rYDLhErjc",
        "outputId": "a46767a0-d719-4901-b027-bd1a9a49e647"
      },
      "source": [
        "##three least changed\n",
        "print(diffs.sort_values(ascending=True)[0:3], '\\n\\n')\n",
        "##three most changed\n",
        "print(diffs.sort_values(ascending=True)[-3:])"
      ],
      "execution_count": 115,
      "outputs": [
        {
          "output_type": "stream",
          "name": "stdout",
          "text": [
            "Parameters\n",
            "NM_QFF (hPa)      0.0\n",
            "NM_OFOG (days)    0.3\n",
            "NM_T (°C)         0.4\n",
            "dtype: float64 \n",
            "\n",
            "\n",
            "Parameters\n",
            "NM_U (%)            3.0\n",
            "NM_INS (hours)     12.1\n",
            "NM_RR06_06 (mm)    12.5\n",
            "dtype: float64\n"
          ]
        }
      ]
    },
    {
      "cell_type": "markdown",
      "metadata": {
        "id": "O0gkBSih-VnI"
      },
      "source": [
        "## Is there any correlation between the most changed parameters"
      ]
    },
    {
      "cell_type": "code",
      "metadata": {
        "colab": {
          "base_uri": "https://localhost:8080/",
          "height": 173
        },
        "id": "pnxvDqRPEs2t",
        "outputId": "96f4ed3e-ebdd-4b54-e115-891b83f637cf"
      },
      "source": [
        "corcolumns = list(diffs.sort_values(ascending=True)[-3:].index)\n",
        "quarter.loc[corcolumns].T.corr()"
      ],
      "execution_count": 116,
      "outputs": [
        {
          "output_type": "execute_result",
          "data": {
            "text/html": [
              "<div>\n",
              "<style scoped>\n",
              "    .dataframe tbody tr th:only-of-type {\n",
              "        vertical-align: middle;\n",
              "    }\n",
              "\n",
              "    .dataframe tbody tr th {\n",
              "        vertical-align: top;\n",
              "    }\n",
              "\n",
              "    .dataframe thead th {\n",
              "        text-align: right;\n",
              "    }\n",
              "</style>\n",
              "<table border=\"1\" class=\"dataframe\">\n",
              "  <thead>\n",
              "    <tr style=\"text-align: right;\">\n",
              "      <th>Parameters</th>\n",
              "      <th>NM_U (%)</th>\n",
              "      <th>NM_INS (hours)</th>\n",
              "      <th>NM_RR06_06 (mm)</th>\n",
              "    </tr>\n",
              "    <tr>\n",
              "      <th>Parameters</th>\n",
              "      <th></th>\n",
              "      <th></th>\n",
              "      <th></th>\n",
              "    </tr>\n",
              "  </thead>\n",
              "  <tbody>\n",
              "    <tr>\n",
              "      <th>NM_U (%)</th>\n",
              "      <td>1.000000</td>\n",
              "      <td>-0.989247</td>\n",
              "      <td>0.939142</td>\n",
              "    </tr>\n",
              "    <tr>\n",
              "      <th>NM_INS (hours)</th>\n",
              "      <td>-0.989247</td>\n",
              "      <td>1.000000</td>\n",
              "      <td>-0.878870</td>\n",
              "    </tr>\n",
              "    <tr>\n",
              "      <th>NM_RR06_06 (mm)</th>\n",
              "      <td>0.939142</td>\n",
              "      <td>-0.878870</td>\n",
              "      <td>1.000000</td>\n",
              "    </tr>\n",
              "  </tbody>\n",
              "</table>\n",
              "</div>"
            ],
            "text/plain": [
              "Parameters       NM_U (%)  NM_INS (hours)  NM_RR06_06 (mm)\n",
              "Parameters                                                \n",
              "NM_U (%)         1.000000       -0.989247         0.939142\n",
              "NM_INS (hours)  -0.989247        1.000000        -0.878870\n",
              "NM_RR06_06 (mm)  0.939142       -0.878870         1.000000"
            ]
          },
          "metadata": {},
          "execution_count": 116
        }
      ]
    },
    {
      "cell_type": "markdown",
      "metadata": {
        "id": "7XBfxysWb2-1"
      },
      "source": [
        "There is positive correlation between 'NM_U' and 'NM_RR06_06'\n",
        "There is negative correlation between 'NM_INS' and 'NM_U'\n",
        "\n",
        "\n",
        "\n"
      ]
    },
    {
      "cell_type": "markdown",
      "metadata": {
        "id": "2_XttcdvwItw"
      },
      "source": [
        "## Create a common dataframe (df_temp_81_20) with only month-wise mean temperature and precipitation taken from both 81-10 vs 91-20 dataframes, now the month will be the row-index. \n",
        "\n"
      ]
    },
    {
      "cell_type": "code",
      "metadata": {
        "colab": {
          "base_uri": "https://localhost:8080/",
          "height": 422
        },
        "id": "NNdem5yLdYPn",
        "outputId": "4dd996fb-65cf-426d-e1d8-e5336124f202"
      },
      "source": [
        "cols = ['NM_T (°C)', 'NM_RR06_06 (mm)']\n",
        "pd.merge(df_81_90.T[cols], df_91_20.T[cols], how='inner', left_index=True, right_index=True)"
      ],
      "execution_count": 117,
      "outputs": [
        {
          "output_type": "execute_result",
          "data": {
            "text/html": [
              "<div>\n",
              "<style scoped>\n",
              "    .dataframe tbody tr th:only-of-type {\n",
              "        vertical-align: middle;\n",
              "    }\n",
              "\n",
              "    .dataframe tbody tr th {\n",
              "        vertical-align: top;\n",
              "    }\n",
              "\n",
              "    .dataframe thead th {\n",
              "        text-align: right;\n",
              "    }\n",
              "</style>\n",
              "<table border=\"1\" class=\"dataframe\">\n",
              "  <thead>\n",
              "    <tr style=\"text-align: right;\">\n",
              "      <th>Parameters</th>\n",
              "      <th>NM_T (°C)_x</th>\n",
              "      <th>NM_RR06_06 (mm)_x</th>\n",
              "      <th>NM_T (°C)_y</th>\n",
              "      <th>NM_RR06_06 (mm)_y</th>\n",
              "    </tr>\n",
              "  </thead>\n",
              "  <tbody>\n",
              "    <tr>\n",
              "      <th>JAN</th>\n",
              "      <td>0.8</td>\n",
              "      <td>76.6</td>\n",
              "      <td>1.4</td>\n",
              "      <td>71.5</td>\n",
              "    </tr>\n",
              "    <tr>\n",
              "      <th>FEB</th>\n",
              "      <td>1.6</td>\n",
              "      <td>62.5</td>\n",
              "      <td>2.2</td>\n",
              "      <td>59.5</td>\n",
              "    </tr>\n",
              "    <tr>\n",
              "      <th>MAR</th>\n",
              "      <td>5.2</td>\n",
              "      <td>69.1</td>\n",
              "      <td>5.7</td>\n",
              "      <td>56.6</td>\n",
              "    </tr>\n",
              "    <tr>\n",
              "      <th>APR</th>\n",
              "      <td>8.7</td>\n",
              "      <td>58.2</td>\n",
              "      <td>9.6</td>\n",
              "      <td>49.4</td>\n",
              "    </tr>\n",
              "    <tr>\n",
              "      <th>MAY</th>\n",
              "      <td>13.0</td>\n",
              "      <td>78.5</td>\n",
              "      <td>13.5</td>\n",
              "      <td>73.3</td>\n",
              "    </tr>\n",
              "    <tr>\n",
              "      <th>JUN</th>\n",
              "      <td>15.9</td>\n",
              "      <td>79.9</td>\n",
              "      <td>16.7</td>\n",
              "      <td>73.0</td>\n",
              "    </tr>\n",
              "    <tr>\n",
              "      <th>JUL</th>\n",
              "      <td>18.2</td>\n",
              "      <td>71.0</td>\n",
              "      <td>18.7</td>\n",
              "      <td>72.1</td>\n",
              "    </tr>\n",
              "    <tr>\n",
              "      <th>AUG</th>\n",
              "      <td>17.7</td>\n",
              "      <td>75.4</td>\n",
              "      <td>18.4</td>\n",
              "      <td>71.9</td>\n",
              "    </tr>\n",
              "    <tr>\n",
              "      <th>SEP</th>\n",
              "      <td>13.9</td>\n",
              "      <td>76.3</td>\n",
              "      <td>14.3</td>\n",
              "      <td>66.6</td>\n",
              "    </tr>\n",
              "    <tr>\n",
              "      <th>OCT</th>\n",
              "      <td>9.5</td>\n",
              "      <td>86.8</td>\n",
              "      <td>9.9</td>\n",
              "      <td>76.2</td>\n",
              "    </tr>\n",
              "    <tr>\n",
              "      <th>NOV</th>\n",
              "      <td>4.7</td>\n",
              "      <td>76.0</td>\n",
              "      <td>5.2</td>\n",
              "      <td>71.7</td>\n",
              "    </tr>\n",
              "    <tr>\n",
              "      <th>DEC</th>\n",
              "      <td>1.8</td>\n",
              "      <td>86.7</td>\n",
              "      <td>2.3</td>\n",
              "      <td>89.5</td>\n",
              "    </tr>\n",
              "  </tbody>\n",
              "</table>\n",
              "</div>"
            ],
            "text/plain": [
              "Parameters  NM_T (°C)_x  NM_RR06_06 (mm)_x  NM_T (°C)_y  NM_RR06_06 (mm)_y\n",
              "JAN                 0.8               76.6          1.4               71.5\n",
              "FEB                 1.6               62.5          2.2               59.5\n",
              "MAR                 5.2               69.1          5.7               56.6\n",
              "APR                 8.7               58.2          9.6               49.4\n",
              "MAY                13.0               78.5         13.5               73.3\n",
              "JUN                15.9               79.9         16.7               73.0\n",
              "JUL                18.2               71.0         18.7               72.1\n",
              "AUG                17.7               75.4         18.4               71.9\n",
              "SEP                13.9               76.3         14.3               66.6\n",
              "OCT                 9.5               86.8          9.9               76.2\n",
              "NOV                 4.7               76.0          5.2               71.7\n",
              "DEC                 1.8               86.7          2.3               89.5"
            ]
          },
          "metadata": {},
          "execution_count": 117
        }
      ]
    },
    {
      "cell_type": "markdown",
      "metadata": {
        "id": "dva-uyBO37GU"
      },
      "source": [
        "## Create a visualisation where the monthly mean temperature can be compared between 81-10 and 91-20"
      ]
    },
    {
      "cell_type": "code",
      "metadata": {
        "colab": {
          "base_uri": "https://localhost:8080/",
          "height": 422
        },
        "id": "sH6pCWjjecEE",
        "outputId": "e1fed5cc-54be-4cb6-860d-0e70e20ceb37"
      },
      "source": [
        "df_81_90.loc['NM_T (°C)'].compare(df_91_20.loc['NM_T (°C)'])"
      ],
      "execution_count": 118,
      "outputs": [
        {
          "output_type": "execute_result",
          "data": {
            "text/html": [
              "<div>\n",
              "<style scoped>\n",
              "    .dataframe tbody tr th:only-of-type {\n",
              "        vertical-align: middle;\n",
              "    }\n",
              "\n",
              "    .dataframe tbody tr th {\n",
              "        vertical-align: top;\n",
              "    }\n",
              "\n",
              "    .dataframe thead th {\n",
              "        text-align: right;\n",
              "    }\n",
              "</style>\n",
              "<table border=\"1\" class=\"dataframe\">\n",
              "  <thead>\n",
              "    <tr style=\"text-align: right;\">\n",
              "      <th></th>\n",
              "      <th>self</th>\n",
              "      <th>other</th>\n",
              "    </tr>\n",
              "  </thead>\n",
              "  <tbody>\n",
              "    <tr>\n",
              "      <th>JAN</th>\n",
              "      <td>0.8</td>\n",
              "      <td>1.4</td>\n",
              "    </tr>\n",
              "    <tr>\n",
              "      <th>FEB</th>\n",
              "      <td>1.6</td>\n",
              "      <td>2.2</td>\n",
              "    </tr>\n",
              "    <tr>\n",
              "      <th>MAR</th>\n",
              "      <td>5.2</td>\n",
              "      <td>5.7</td>\n",
              "    </tr>\n",
              "    <tr>\n",
              "      <th>APR</th>\n",
              "      <td>8.7</td>\n",
              "      <td>9.6</td>\n",
              "    </tr>\n",
              "    <tr>\n",
              "      <th>MAY</th>\n",
              "      <td>13.0</td>\n",
              "      <td>13.5</td>\n",
              "    </tr>\n",
              "    <tr>\n",
              "      <th>JUN</th>\n",
              "      <td>15.9</td>\n",
              "      <td>16.7</td>\n",
              "    </tr>\n",
              "    <tr>\n",
              "      <th>JUL</th>\n",
              "      <td>18.2</td>\n",
              "      <td>18.7</td>\n",
              "    </tr>\n",
              "    <tr>\n",
              "      <th>AUG</th>\n",
              "      <td>17.7</td>\n",
              "      <td>18.4</td>\n",
              "    </tr>\n",
              "    <tr>\n",
              "      <th>SEP</th>\n",
              "      <td>13.9</td>\n",
              "      <td>14.3</td>\n",
              "    </tr>\n",
              "    <tr>\n",
              "      <th>OCT</th>\n",
              "      <td>9.5</td>\n",
              "      <td>9.9</td>\n",
              "    </tr>\n",
              "    <tr>\n",
              "      <th>NOV</th>\n",
              "      <td>4.7</td>\n",
              "      <td>5.2</td>\n",
              "    </tr>\n",
              "    <tr>\n",
              "      <th>DEC</th>\n",
              "      <td>1.8</td>\n",
              "      <td>2.3</td>\n",
              "    </tr>\n",
              "  </tbody>\n",
              "</table>\n",
              "</div>"
            ],
            "text/plain": [
              "     self  other\n",
              "JAN   0.8    1.4\n",
              "FEB   1.6    2.2\n",
              "MAR   5.2    5.7\n",
              "APR   8.7    9.6\n",
              "MAY  13.0   13.5\n",
              "JUN  15.9   16.7\n",
              "JUL  18.2   18.7\n",
              "AUG  17.7   18.4\n",
              "SEP  13.9   14.3\n",
              "OCT   9.5    9.9\n",
              "NOV   4.7    5.2\n",
              "DEC   1.8    2.3"
            ]
          },
          "metadata": {},
          "execution_count": 118
        }
      ]
    },
    {
      "cell_type": "code",
      "metadata": {
        "id": "urdUetXE5tSl"
      },
      "source": [
        "import matplotlib.pyplot as plt\n",
        "#x_1 = list(df_81_90.loc['NM_T (°C)'].index)\n",
        "x_1 = range(1, 13)\n",
        "y_1 = list(df_81_90.loc['NM_T (°C)'])\n",
        "#x_2 = list(df_91_20.loc['NM_T (°C)'].index)\n",
        "x_2 = range(1, 13)\n",
        "y_2 = list(df_91_20.loc['NM_T (°C)'])\n",
        "#y =  list(zip(y_1, y_2))\n",
        "\n"
      ],
      "execution_count": 119,
      "outputs": []
    },
    {
      "cell_type": "code",
      "metadata": {
        "colab": {
          "base_uri": "https://localhost:8080/",
          "height": 296
        },
        "id": "Pnm3WPU9lF5z",
        "outputId": "1b195e5f-0ea3-4d97-ffc0-ceed1dc51106"
      },
      "source": [
        "plt.scatter(x_1, y_1)\n",
        "plt.scatter(x_2, y_2)\n",
        "\n",
        "plt.xlabel('Month')\n",
        "plt.ylabel('Parameter')\n",
        "#plt.plot((x_1, x_2),(y_1, y_2),c='black')"
      ],
      "execution_count": 120,
      "outputs": [
        {
          "output_type": "execute_result",
          "data": {
            "text/plain": [
              "Text(0, 0.5, 'Parameter')"
            ]
          },
          "metadata": {},
          "execution_count": 120
        },
        {
          "output_type": "display_data",
          "data": {
            "image/png": "[encoded data removed]",
            "text/plain": [
              "<Figure size 432x288 with 1 Axes>"
            ]
          },
          "metadata": {
            "needs_background": "light"
          }
        }
      ]
    },
    {
      "cell_type": "code",
      "metadata": {
        "colab": {
          "base_uri": "https://localhost:8080/",
          "height": 470
        },
        "id": "dYxZ5AYoiHlb",
        "outputId": "aac572a2-050b-4fc2-d54e-0f0cf8eb80d2"
      },
      "source": [
        "plt.plot(x_1, [i for (i,j) in y], 'rs', markersize = 4)\n",
        "plt.plot(x_2, [j for (i,j) in y], 'bo', markersize = 4)\n",
        "\n",
        "#draw line of differences\n",
        "plt.plot((x_1,x_1),([i for (i,j) in y], [j for (i,j) in y]),c='black')"
      ],
      "execution_count": 121,
      "outputs": [
        {
          "output_type": "execute_result",
          "data": {
            "text/plain": [
              "[<matplotlib.lines.Line2D at 0x7f3eade2f610>,\n",
              " <matplotlib.lines.Line2D at 0x7f3eade2f810>,\n",
              " <matplotlib.lines.Line2D at 0x7f3eade2f9d0>,\n",
              " <matplotlib.lines.Line2D at 0x7f3eade2fb90>,\n",
              " <matplotlib.lines.Line2D at 0x7f3eade2fd50>,\n",
              " <matplotlib.lines.Line2D at 0x7f3eade2fed0>,\n",
              " <matplotlib.lines.Line2D at 0x7f3eade34150>,\n",
              " <matplotlib.lines.Line2D at 0x7f3eade34310>,\n",
              " <matplotlib.lines.Line2D at 0x7f3eade344d0>,\n",
              " <matplotlib.lines.Line2D at 0x7f3eade2ff10>,\n",
              " <matplotlib.lines.Line2D at 0x7f3eade34810>,\n",
              " <matplotlib.lines.Line2D at 0x7f3eade349d0>]"
            ]
          },
          "metadata": {},
          "execution_count": 121
        },
        {
          "output_type": "display_data",
          "data": {
            "image/png": "[encoded data removed]",
            "text/plain": [
              "<Figure size 432x288 with 1 Axes>"
            ]
          },
          "metadata": {
            "needs_background": "light"
          }
        }
      ]
    },
    {
      "cell_type": "code",
      "metadata": {
        "id": "G-H9f6bGlsFi"
      },
      "source": [
        ""
      ],
      "execution_count": 121,
      "outputs": []
    }
  ]
}