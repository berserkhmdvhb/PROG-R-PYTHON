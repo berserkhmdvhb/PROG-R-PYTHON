{
  "nbformat": 4,
  "nbformat_minor": 0,
  "metadata": {
    "colab": {
      "name": "Biological Age-Solution-f.ipynb",
      "provenance": [],
      "collapsed_sections": [
        "1AYkVlqIqCVe",
        "Ko4AsMufqxR_",
        "P1DTZpWG7guo",
        "mRY3ZSmb7kH1",
        "IVnherWd7m49",
        "c_-H1xcEGxIt",
        "afURrabFKBRH",
        "jg7ULnVda-PQ",
        "-R_PG5HLa-PQ",
        "kuUdALB8a-PR",
        "34ozMSMCa-PT",
        "L3D-bjU7q1_l",
        "f5_nojq7AkD0",
        "TSf5KiR-AkD3",
        "E22GG5xcAkD7",
        "e1n9HACfAkD_",
        "3P-X32ciAlNO",
        "cJsrmAnsAlNR"
      ]
    },
    "kernelspec": {
      "name": "python3",
      "display_name": "Python 3"
    },
    "language_info": {
      "name": "python"
    }
  },
  "cells": [
    {
      "cell_type": "markdown",
      "source": [
        "## Load Dataset and Imports"
      ],
      "metadata": {
        "id": "mPcYk7jlqMUM"
      }
    },
    {
      "cell_type": "code",
      "execution_count": null,
      "metadata": {
        "id": "1Ef9QmAKexoJ",
        "colab": {
          "base_uri": "https://localhost:8080/"
        },
        "outputId": "7fb38d03-2cb7-45c7-fd3a-110b79932817"
      },
      "outputs": [
        {
          "output_type": "stream",
          "name": "stdout",
          "text": [
            "Mounted at /content/drive/\n"
          ]
        }
      ],
      "source": [
        "from google.colab import drive\n",
        "import matplotlib.pyplot as plt\n",
        "import seaborn as sns\n",
        "\n",
        "#drive.mount('/content/drive/')\n",
        "\n",
        "\n",
        " #Imports\n",
        "import pandas as pd\n",
        "import pandas as pd\n",
        "import numpy as np\n",
        "import matplotlib.pyplot as plt\n",
        "%matplotlib inline\n",
        "import plotly.express as px\n",
        "import plotly.graph_objects as go\n",
        "import math\n",
        "import statistics\n",
        "from warnings import filterwarnings\n",
        "import matplotlib.pyplot as mp\n",
        "import pandas as pd\n",
        "import seaborn as sb\n",
        "filterwarnings('ignore')\n",
        "\n",
        "\n",
        "from numpy.random import seed\n",
        "from numpy.random import randn\n",
        "\n",
        "#import warnings \n",
        "#warnings.filterwarnings('ignore')"
      ]
    },
    {
      "cell_type": "code",
      "source": [
        "from sklearn.svm import SVR\n",
        "from sklearn.pipeline import make_pipeline\n",
        "import numpy as np\n",
        "from sklearn.svm import SVR\n",
        "import matplotlib.pyplot as plt\n",
        "from sklearn.metrics import r2_score\n",
        "\n",
        "from sklearn.model_selection import cross_val_score\n",
        "from sklearn.tree import DecisionTreeRegressor\n",
        "from sklearn.model_selection import train_test_split\n",
        "\n",
        "from sklearn.neighbors import KNeighborsRegressor\n",
        "\n",
        "from yellowbrick.datasets import load_concrete\n",
        "from yellowbrick.regressor import PredictionError\n",
        "\n",
        "from sklearn.ensemble import RandomForestRegressor\n",
        "from sklearn.datasets import make_regression\n",
        "\n",
        "from sklearn.preprocessing import StandardScaler\n",
        "from sklearn.preprocessing import MinMaxScaler\n",
        "\n",
        "from sklearn.model_selection import GridSearchCV\n",
        "from sklearn.model_selection import RandomizedSearchCV\n",
        "\n",
        "#cross validation number\n",
        "cv = 10\n",
        "\n",
        "#compare models\n",
        "ADJ_R2 = dict()"
      ],
      "metadata": {
        "id": "T1fLzbQaQ7xo"
      },
      "execution_count": null,
      "outputs": []
    },
    {
      "cell_type": "code",
      "source": [
        ""
      ],
      "metadata": {
        "id": "L793AAyVf0Mw"
      },
      "execution_count": null,
      "outputs": []
    },
    {
      "cell_type": "code",
      "source": [
        "path1 = \"training_data.csv\"\n",
        "path2 = \"real_test_data.csv\"\n",
        "#path1 = \"/content/drive/MyDrive/Data/datasets/biological-age/training_data.csv\"\n",
        "#path2 = \"/content/drive/MyDrive/Data/datasets/biological-age/real_test_data.csv\"\n",
        "\n",
        "df_train = pd.read_csv(path1)\n",
        "df_test = pd.read_csv(path2)"
      ],
      "metadata": {
        "id": "eV_cMfLzQa_c"
      },
      "execution_count": null,
      "outputs": []
    },
    {
      "cell_type": "code",
      "source": [
        "print(df_train.shape)\n",
        "print(df_test.shape)"
      ],
      "metadata": {
        "colab": {
          "base_uri": "https://localhost:8080/"
        },
        "id": "6Q9E-zsPRBXB",
        "outputId": "4158d290-b120-4b4c-f27a-3e65b3cdd20d"
      },
      "execution_count": null,
      "outputs": [
        {
          "output_type": "stream",
          "name": "stdout",
          "text": [
            "(299, 13)\n",
            "(200, 12)\n"
          ]
        }
      ]
    },
    {
      "cell_type": "code",
      "source": [
        "df_train.describe()"
      ],
      "metadata": {
        "colab": {
          "base_uri": "https://localhost:8080/",
          "height": 381
        },
        "id": "MSI_b324Q2fM",
        "outputId": "843721dc-8707-480d-f767-2f7fbf4bf53c"
      },
      "execution_count": null,
      "outputs": [
        {
          "output_type": "execute_result",
          "data": {
            "text/html": [
              "\n",
              "  <div id=\"df-1f57711f-3894-4a72-ab46-cba2f44572d2\">\n",
              "    <div class=\"colab-df-container\">\n",
              "      <div>\n",
              "<style scoped>\n",
              "    .dataframe tbody tr th:only-of-type {\n",
              "        vertical-align: middle;\n",
              "    }\n",
              "\n",
              "    .dataframe tbody tr th {\n",
              "        vertical-align: top;\n",
              "    }\n",
              "\n",
              "    .dataframe thead th {\n",
              "        text-align: right;\n",
              "    }\n",
              "</style>\n",
              "<table border=\"1\" class=\"dataframe\">\n",
              "  <thead>\n",
              "    <tr style=\"text-align: right;\">\n",
              "      <th></th>\n",
              "      <th>Unnamed: 0</th>\n",
              "      <th>age</th>\n",
              "      <th>anaemia</th>\n",
              "      <th>creatinine_phosphokinase</th>\n",
              "      <th>diabetes</th>\n",
              "      <th>ejection_fraction</th>\n",
              "      <th>high_blood_pressure</th>\n",
              "      <th>platelets</th>\n",
              "      <th>serum_creatinine</th>\n",
              "      <th>serum_sodium</th>\n",
              "      <th>sex</th>\n",
              "      <th>smoking</th>\n",
              "      <th>time</th>\n",
              "    </tr>\n",
              "  </thead>\n",
              "  <tbody>\n",
              "    <tr>\n",
              "      <th>count</th>\n",
              "      <td>299.000000</td>\n",
              "      <td>299.000000</td>\n",
              "      <td>299.000000</td>\n",
              "      <td>299.000000</td>\n",
              "      <td>299.000000</td>\n",
              "      <td>299.000000</td>\n",
              "      <td>299.000000</td>\n",
              "      <td>299.000000</td>\n",
              "      <td>299.00000</td>\n",
              "      <td>299.000000</td>\n",
              "      <td>299.000000</td>\n",
              "      <td>299.00000</td>\n",
              "      <td>299.000000</td>\n",
              "    </tr>\n",
              "    <tr>\n",
              "      <th>mean</th>\n",
              "      <td>149.000000</td>\n",
              "      <td>60.833893</td>\n",
              "      <td>0.431438</td>\n",
              "      <td>581.839465</td>\n",
              "      <td>0.418060</td>\n",
              "      <td>38.083612</td>\n",
              "      <td>0.351171</td>\n",
              "      <td>263358.029264</td>\n",
              "      <td>1.39388</td>\n",
              "      <td>136.625418</td>\n",
              "      <td>0.648829</td>\n",
              "      <td>0.32107</td>\n",
              "      <td>130.260870</td>\n",
              "    </tr>\n",
              "    <tr>\n",
              "      <th>std</th>\n",
              "      <td>86.458082</td>\n",
              "      <td>11.894809</td>\n",
              "      <td>0.496107</td>\n",
              "      <td>970.287881</td>\n",
              "      <td>0.494067</td>\n",
              "      <td>11.834841</td>\n",
              "      <td>0.478136</td>\n",
              "      <td>97804.236869</td>\n",
              "      <td>1.03451</td>\n",
              "      <td>4.412477</td>\n",
              "      <td>0.478136</td>\n",
              "      <td>0.46767</td>\n",
              "      <td>77.614208</td>\n",
              "    </tr>\n",
              "    <tr>\n",
              "      <th>min</th>\n",
              "      <td>0.000000</td>\n",
              "      <td>40.000000</td>\n",
              "      <td>0.000000</td>\n",
              "      <td>23.000000</td>\n",
              "      <td>0.000000</td>\n",
              "      <td>14.000000</td>\n",
              "      <td>0.000000</td>\n",
              "      <td>25100.000000</td>\n",
              "      <td>0.50000</td>\n",
              "      <td>113.000000</td>\n",
              "      <td>0.000000</td>\n",
              "      <td>0.00000</td>\n",
              "      <td>4.000000</td>\n",
              "    </tr>\n",
              "    <tr>\n",
              "      <th>25%</th>\n",
              "      <td>74.500000</td>\n",
              "      <td>51.000000</td>\n",
              "      <td>0.000000</td>\n",
              "      <td>116.500000</td>\n",
              "      <td>0.000000</td>\n",
              "      <td>30.000000</td>\n",
              "      <td>0.000000</td>\n",
              "      <td>212500.000000</td>\n",
              "      <td>0.90000</td>\n",
              "      <td>134.000000</td>\n",
              "      <td>0.000000</td>\n",
              "      <td>0.00000</td>\n",
              "      <td>73.000000</td>\n",
              "    </tr>\n",
              "    <tr>\n",
              "      <th>50%</th>\n",
              "      <td>149.000000</td>\n",
              "      <td>60.000000</td>\n",
              "      <td>0.000000</td>\n",
              "      <td>250.000000</td>\n",
              "      <td>0.000000</td>\n",
              "      <td>38.000000</td>\n",
              "      <td>0.000000</td>\n",
              "      <td>262000.000000</td>\n",
              "      <td>1.10000</td>\n",
              "      <td>137.000000</td>\n",
              "      <td>1.000000</td>\n",
              "      <td>0.00000</td>\n",
              "      <td>115.000000</td>\n",
              "    </tr>\n",
              "    <tr>\n",
              "      <th>75%</th>\n",
              "      <td>223.500000</td>\n",
              "      <td>70.000000</td>\n",
              "      <td>1.000000</td>\n",
              "      <td>582.000000</td>\n",
              "      <td>1.000000</td>\n",
              "      <td>45.000000</td>\n",
              "      <td>1.000000</td>\n",
              "      <td>303500.000000</td>\n",
              "      <td>1.40000</td>\n",
              "      <td>140.000000</td>\n",
              "      <td>1.000000</td>\n",
              "      <td>1.00000</td>\n",
              "      <td>203.000000</td>\n",
              "    </tr>\n",
              "    <tr>\n",
              "      <th>max</th>\n",
              "      <td>298.000000</td>\n",
              "      <td>95.000000</td>\n",
              "      <td>1.000000</td>\n",
              "      <td>7861.000000</td>\n",
              "      <td>1.000000</td>\n",
              "      <td>80.000000</td>\n",
              "      <td>1.000000</td>\n",
              "      <td>850000.000000</td>\n",
              "      <td>9.40000</td>\n",
              "      <td>148.000000</td>\n",
              "      <td>1.000000</td>\n",
              "      <td>1.00000</td>\n",
              "      <td>285.000000</td>\n",
              "    </tr>\n",
              "  </tbody>\n",
              "</table>\n",
              "</div>\n",
              "      <button class=\"colab-df-convert\" onclick=\"convertToInteractive('df-1f57711f-3894-4a72-ab46-cba2f44572d2')\"\n",
              "              title=\"Convert this dataframe to an interactive table.\"\n",
              "              style=\"display:none;\">\n",
              "        \n",
              "  <svg xmlns=\"http://www.w3.org/2000/svg\" height=\"24px\"viewBox=\"0 0 24 24\"\n",
              "       width=\"24px\">\n",
              "    <path d=\"M0 0h24v24H0V0z\" fill=\"none\"/>\n",
              "    <path d=\"M18.56 5.44l.94 2.06.94-2.06 2.06-.94-2.06-.94-.94-2.06-.94 2.06-2.06.94zm-11 1L8.5 8.5l.94-2.06 2.06-.94-2.06-.94L8.5 2.5l-.94 2.06-2.06.94zm10 10l.94 2.06.94-2.06 2.06-.94-2.06-.94-.94-2.06-.94 2.06-2.06.94z\"/><path d=\"M17.41 7.96l-1.37-1.37c-.4-.4-.92-.59-1.43-.59-.52 0-1.04.2-1.43.59L10.3 9.45l-7.72 7.72c-.78.78-.78 2.05 0 2.83L4 21.41c.39.39.9.59 1.41.59.51 0 1.02-.2 1.41-.59l7.78-7.78 2.81-2.81c.8-.78.8-2.07 0-2.86zM5.41 20L4 18.59l7.72-7.72 1.47 1.35L5.41 20z\"/>\n",
              "  </svg>\n",
              "      </button>\n",
              "      \n",
              "  <style>\n",
              "    .colab-df-container {\n",
              "      display:flex;\n",
              "      flex-wrap:wrap;\n",
              "      gap: 12px;\n",
              "    }\n",
              "\n",
              "    .colab-df-convert {\n",
              "      background-color: #E8F0FE;\n",
              "      border: none;\n",
              "      border-radius: 50%;\n",
              "      cursor: pointer;\n",
              "      display: none;\n",
              "      fill: #1967D2;\n",
              "      height: 32px;\n",
              "      padding: 0 0 0 0;\n",
              "      width: 32px;\n",
              "    }\n",
              "\n",
              "    .colab-df-convert:hover {\n",
              "      background-color: #E2EBFA;\n",
              "      box-shadow: 0px 1px 2px rgba(60, 64, 67, 0.3), 0px 1px 3px 1px rgba(60, 64, 67, 0.15);\n",
              "      fill: #174EA6;\n",
              "    }\n",
              "\n",
              "    [theme=dark] .colab-df-convert {\n",
              "      background-color: #3B4455;\n",
              "      fill: #D2E3FC;\n",
              "    }\n",
              "\n",
              "    [theme=dark] .colab-df-convert:hover {\n",
              "      background-color: #434B5C;\n",
              "      box-shadow: 0px 1px 3px 1px rgba(0, 0, 0, 0.15);\n",
              "      filter: drop-shadow(0px 1px 2px rgba(0, 0, 0, 0.3));\n",
              "      fill: #FFFFFF;\n",
              "    }\n",
              "  </style>\n",
              "\n",
              "      <script>\n",
              "        const buttonEl =\n",
              "          document.querySelector('#df-1f57711f-3894-4a72-ab46-cba2f44572d2 button.colab-df-convert');\n",
              "        buttonEl.style.display =\n",
              "          google.colab.kernel.accessAllowed ? 'block' : 'none';\n",
              "\n",
              "        async function convertToInteractive(key) {\n",
              "          const element = document.querySelector('#df-1f57711f-3894-4a72-ab46-cba2f44572d2');\n",
              "          const dataTable =\n",
              "            await google.colab.kernel.invokeFunction('convertToInteractive',\n",
              "                                                     [key], {});\n",
              "          if (!dataTable) return;\n",
              "\n",
              "          const docLinkHtml = 'Like what you see? Visit the ' +\n",
              "            '<a target=\"_blank\" href=https://colab.research.google.com/notebooks/data_table.ipynb>data table notebook</a>'\n",
              "            + ' to learn more about interactive tables.';\n",
              "          element.innerHTML = '';\n",
              "          dataTable['output_type'] = 'display_data';\n",
              "          await google.colab.output.renderOutput(dataTable, element);\n",
              "          const docLink = document.createElement('div');\n",
              "          docLink.innerHTML = docLinkHtml;\n",
              "          element.appendChild(docLink);\n",
              "        }\n",
              "      </script>\n",
              "    </div>\n",
              "  </div>\n",
              "  "
            ],
            "text/plain": [
              "       Unnamed: 0         age     anaemia  ...         sex    smoking        time\n",
              "count  299.000000  299.000000  299.000000  ...  299.000000  299.00000  299.000000\n",
              "mean   149.000000   60.833893    0.431438  ...    0.648829    0.32107  130.260870\n",
              "std     86.458082   11.894809    0.496107  ...    0.478136    0.46767   77.614208\n",
              "min      0.000000   40.000000    0.000000  ...    0.000000    0.00000    4.000000\n",
              "25%     74.500000   51.000000    0.000000  ...    0.000000    0.00000   73.000000\n",
              "50%    149.000000   60.000000    0.000000  ...    1.000000    0.00000  115.000000\n",
              "75%    223.500000   70.000000    1.000000  ...    1.000000    1.00000  203.000000\n",
              "max    298.000000   95.000000    1.000000  ...    1.000000    1.00000  285.000000\n",
              "\n",
              "[8 rows x 13 columns]"
            ]
          },
          "metadata": {},
          "execution_count": 5
        }
      ]
    },
    {
      "cell_type": "code",
      "source": [
        ""
      ],
      "metadata": {
        "id": "TbegCbHSRGkq"
      },
      "execution_count": null,
      "outputs": []
    },
    {
      "cell_type": "code",
      "source": [
        "df_test.describe()\n"
      ],
      "metadata": {
        "id": "MRkhnNjdf7Mz",
        "colab": {
          "base_uri": "https://localhost:8080/",
          "height": 381
        },
        "outputId": "4c2cefa0-bd56-41ff-d266-6070f53c0d79"
      },
      "execution_count": null,
      "outputs": [
        {
          "output_type": "execute_result",
          "data": {
            "text/html": [
              "\n",
              "  <div id=\"df-274f28dd-235d-41d3-9fd1-3fe534cbd7c7\">\n",
              "    <div class=\"colab-df-container\">\n",
              "      <div>\n",
              "<style scoped>\n",
              "    .dataframe tbody tr th:only-of-type {\n",
              "        vertical-align: middle;\n",
              "    }\n",
              "\n",
              "    .dataframe tbody tr th {\n",
              "        vertical-align: top;\n",
              "    }\n",
              "\n",
              "    .dataframe thead th {\n",
              "        text-align: right;\n",
              "    }\n",
              "</style>\n",
              "<table border=\"1\" class=\"dataframe\">\n",
              "  <thead>\n",
              "    <tr style=\"text-align: right;\">\n",
              "      <th></th>\n",
              "      <th>Unnamed: 0</th>\n",
              "      <th>anaemia</th>\n",
              "      <th>creatinine_phosphokinase</th>\n",
              "      <th>diabetes</th>\n",
              "      <th>ejection_fraction</th>\n",
              "      <th>high_blood_pressure</th>\n",
              "      <th>platelets</th>\n",
              "      <th>serum_creatinine</th>\n",
              "      <th>serum_sodium</th>\n",
              "      <th>sex</th>\n",
              "      <th>smoking</th>\n",
              "      <th>time</th>\n",
              "    </tr>\n",
              "  </thead>\n",
              "  <tbody>\n",
              "    <tr>\n",
              "      <th>count</th>\n",
              "      <td>200.000000</td>\n",
              "      <td>200.000000</td>\n",
              "      <td>200.000000</td>\n",
              "      <td>200.000000</td>\n",
              "      <td>200.00000</td>\n",
              "      <td>200.000000</td>\n",
              "      <td>200.000000</td>\n",
              "      <td>200.000000</td>\n",
              "      <td>200.000000</td>\n",
              "      <td>200.000000</td>\n",
              "      <td>200.000000</td>\n",
              "      <td>200.000000</td>\n",
              "    </tr>\n",
              "    <tr>\n",
              "      <th>mean</th>\n",
              "      <td>99.500000</td>\n",
              "      <td>0.485000</td>\n",
              "      <td>639.950000</td>\n",
              "      <td>0.430000</td>\n",
              "      <td>38.10000</td>\n",
              "      <td>0.340000</td>\n",
              "      <td>283891.130600</td>\n",
              "      <td>1.306800</td>\n",
              "      <td>137.435000</td>\n",
              "      <td>0.620000</td>\n",
              "      <td>0.290000</td>\n",
              "      <td>122.705000</td>\n",
              "    </tr>\n",
              "    <tr>\n",
              "      <th>std</th>\n",
              "      <td>57.879185</td>\n",
              "      <td>0.501029</td>\n",
              "      <td>799.774263</td>\n",
              "      <td>0.496318</td>\n",
              "      <td>11.76572</td>\n",
              "      <td>0.474898</td>\n",
              "      <td>121374.400068</td>\n",
              "      <td>0.997763</td>\n",
              "      <td>4.020772</td>\n",
              "      <td>0.486604</td>\n",
              "      <td>0.454901</td>\n",
              "      <td>77.673637</td>\n",
              "    </tr>\n",
              "    <tr>\n",
              "      <th>min</th>\n",
              "      <td>0.000000</td>\n",
              "      <td>0.000000</td>\n",
              "      <td>24.000000</td>\n",
              "      <td>0.000000</td>\n",
              "      <td>14.00000</td>\n",
              "      <td>0.000000</td>\n",
              "      <td>85020.040000</td>\n",
              "      <td>0.540000</td>\n",
              "      <td>122.000000</td>\n",
              "      <td>0.000000</td>\n",
              "      <td>0.000000</td>\n",
              "      <td>4.000000</td>\n",
              "    </tr>\n",
              "    <tr>\n",
              "      <th>25%</th>\n",
              "      <td>49.750000</td>\n",
              "      <td>0.000000</td>\n",
              "      <td>101.000000</td>\n",
              "      <td>0.000000</td>\n",
              "      <td>30.00000</td>\n",
              "      <td>0.000000</td>\n",
              "      <td>214275.055000</td>\n",
              "      <td>0.850000</td>\n",
              "      <td>136.000000</td>\n",
              "      <td>0.000000</td>\n",
              "      <td>0.000000</td>\n",
              "      <td>63.500000</td>\n",
              "    </tr>\n",
              "    <tr>\n",
              "      <th>50%</th>\n",
              "      <td>99.500000</td>\n",
              "      <td>0.000000</td>\n",
              "      <td>367.500000</td>\n",
              "      <td>0.000000</td>\n",
              "      <td>37.00000</td>\n",
              "      <td>0.000000</td>\n",
              "      <td>262326.350000</td>\n",
              "      <td>1.090000</td>\n",
              "      <td>137.000000</td>\n",
              "      <td>1.000000</td>\n",
              "      <td>0.000000</td>\n",
              "      <td>106.000000</td>\n",
              "    </tr>\n",
              "    <tr>\n",
              "      <th>75%</th>\n",
              "      <td>149.250000</td>\n",
              "      <td>1.000000</td>\n",
              "      <td>872.750000</td>\n",
              "      <td>1.000000</td>\n",
              "      <td>45.00000</td>\n",
              "      <td>1.000000</td>\n",
              "      <td>321847.190000</td>\n",
              "      <td>1.320000</td>\n",
              "      <td>139.250000</td>\n",
              "      <td>1.000000</td>\n",
              "      <td>1.000000</td>\n",
              "      <td>188.000000</td>\n",
              "    </tr>\n",
              "    <tr>\n",
              "      <th>max</th>\n",
              "      <td>199.000000</td>\n",
              "      <td>1.000000</td>\n",
              "      <td>5134.000000</td>\n",
              "      <td>1.000000</td>\n",
              "      <td>80.00000</td>\n",
              "      <td>1.000000</td>\n",
              "      <td>850000.000000</td>\n",
              "      <td>9.330000</td>\n",
              "      <td>148.000000</td>\n",
              "      <td>1.000000</td>\n",
              "      <td>1.000000</td>\n",
              "      <td>284.000000</td>\n",
              "    </tr>\n",
              "  </tbody>\n",
              "</table>\n",
              "</div>\n",
              "      <button class=\"colab-df-convert\" onclick=\"convertToInteractive('df-274f28dd-235d-41d3-9fd1-3fe534cbd7c7')\"\n",
              "              title=\"Convert this dataframe to an interactive table.\"\n",
              "              style=\"display:none;\">\n",
              "        \n",
              "  <svg xmlns=\"http://www.w3.org/2000/svg\" height=\"24px\"viewBox=\"0 0 24 24\"\n",
              "       width=\"24px\">\n",
              "    <path d=\"M0 0h24v24H0V0z\" fill=\"none\"/>\n",
              "    <path d=\"M18.56 5.44l.94 2.06.94-2.06 2.06-.94-2.06-.94-.94-2.06-.94 2.06-2.06.94zm-11 1L8.5 8.5l.94-2.06 2.06-.94-2.06-.94L8.5 2.5l-.94 2.06-2.06.94zm10 10l.94 2.06.94-2.06 2.06-.94-2.06-.94-.94-2.06-.94 2.06-2.06.94z\"/><path d=\"M17.41 7.96l-1.37-1.37c-.4-.4-.92-.59-1.43-.59-.52 0-1.04.2-1.43.59L10.3 9.45l-7.72 7.72c-.78.78-.78 2.05 0 2.83L4 21.41c.39.39.9.59 1.41.59.51 0 1.02-.2 1.41-.59l7.78-7.78 2.81-2.81c.8-.78.8-2.07 0-2.86zM5.41 20L4 18.59l7.72-7.72 1.47 1.35L5.41 20z\"/>\n",
              "  </svg>\n",
              "      </button>\n",
              "      \n",
              "  <style>\n",
              "    .colab-df-container {\n",
              "      display:flex;\n",
              "      flex-wrap:wrap;\n",
              "      gap: 12px;\n",
              "    }\n",
              "\n",
              "    .colab-df-convert {\n",
              "      background-color: #E8F0FE;\n",
              "      border: none;\n",
              "      border-radius: 50%;\n",
              "      cursor: pointer;\n",
              "      display: none;\n",
              "      fill: #1967D2;\n",
              "      height: 32px;\n",
              "      padding: 0 0 0 0;\n",
              "      width: 32px;\n",
              "    }\n",
              "\n",
              "    .colab-df-convert:hover {\n",
              "      background-color: #E2EBFA;\n",
              "      box-shadow: 0px 1px 2px rgba(60, 64, 67, 0.3), 0px 1px 3px 1px rgba(60, 64, 67, 0.15);\n",
              "      fill: #174EA6;\n",
              "    }\n",
              "\n",
              "    [theme=dark] .colab-df-convert {\n",
              "      background-color: #3B4455;\n",
              "      fill: #D2E3FC;\n",
              "    }\n",
              "\n",
              "    [theme=dark] .colab-df-convert:hover {\n",
              "      background-color: #434B5C;\n",
              "      box-shadow: 0px 1px 3px 1px rgba(0, 0, 0, 0.15);\n",
              "      filter: drop-shadow(0px 1px 2px rgba(0, 0, 0, 0.3));\n",
              "      fill: #FFFFFF;\n",
              "    }\n",
              "  </style>\n",
              "\n",
              "      <script>\n",
              "        const buttonEl =\n",
              "          document.querySelector('#df-274f28dd-235d-41d3-9fd1-3fe534cbd7c7 button.colab-df-convert');\n",
              "        buttonEl.style.display =\n",
              "          google.colab.kernel.accessAllowed ? 'block' : 'none';\n",
              "\n",
              "        async function convertToInteractive(key) {\n",
              "          const element = document.querySelector('#df-274f28dd-235d-41d3-9fd1-3fe534cbd7c7');\n",
              "          const dataTable =\n",
              "            await google.colab.kernel.invokeFunction('convertToInteractive',\n",
              "                                                     [key], {});\n",
              "          if (!dataTable) return;\n",
              "\n",
              "          const docLinkHtml = 'Like what you see? Visit the ' +\n",
              "            '<a target=\"_blank\" href=https://colab.research.google.com/notebooks/data_table.ipynb>data table notebook</a>'\n",
              "            + ' to learn more about interactive tables.';\n",
              "          element.innerHTML = '';\n",
              "          dataTable['output_type'] = 'display_data';\n",
              "          await google.colab.output.renderOutput(dataTable, element);\n",
              "          const docLink = document.createElement('div');\n",
              "          docLink.innerHTML = docLinkHtml;\n",
              "          element.appendChild(docLink);\n",
              "        }\n",
              "      </script>\n",
              "    </div>\n",
              "  </div>\n",
              "  "
            ],
            "text/plain": [
              "       Unnamed: 0     anaemia  ...     smoking        time\n",
              "count  200.000000  200.000000  ...  200.000000  200.000000\n",
              "mean    99.500000    0.485000  ...    0.290000  122.705000\n",
              "std     57.879185    0.501029  ...    0.454901   77.673637\n",
              "min      0.000000    0.000000  ...    0.000000    4.000000\n",
              "25%     49.750000    0.000000  ...    0.000000   63.500000\n",
              "50%     99.500000    0.000000  ...    0.000000  106.000000\n",
              "75%    149.250000    1.000000  ...    1.000000  188.000000\n",
              "max    199.000000    1.000000  ...    1.000000  284.000000\n",
              "\n",
              "[8 rows x 12 columns]"
            ]
          },
          "metadata": {},
          "execution_count": 6
        }
      ]
    },
    {
      "cell_type": "code",
      "source": [
        "df_train.columns"
      ],
      "metadata": {
        "id": "yYFy9xOAVJfd",
        "colab": {
          "base_uri": "https://localhost:8080/"
        },
        "outputId": "2649d7f3-15cf-40d1-b5df-b6459ec3b7f4"
      },
      "execution_count": null,
      "outputs": [
        {
          "output_type": "execute_result",
          "data": {
            "text/plain": [
              "Index(['Unnamed: 0', 'age', 'anaemia', 'creatinine_phosphokinase', 'diabetes',\n",
              "       'ejection_fraction', 'high_blood_pressure', 'platelets',\n",
              "       'serum_creatinine', 'serum_sodium', 'sex', 'smoking', 'time'],\n",
              "      dtype='object')"
            ]
          },
          "metadata": {},
          "execution_count": 7
        }
      ]
    },
    {
      "cell_type": "code",
      "source": [
        "df_train.drop('Unnamed: 0', axis=1, inplace=True)\n",
        "df_test.drop('Unnamed: 0', axis=1, inplace=True)"
      ],
      "metadata": {
        "id": "1jZXREMLbVJG"
      },
      "execution_count": null,
      "outputs": []
    },
    {
      "cell_type": "code",
      "source": [
        "df_train.isnull().sum()"
      ],
      "metadata": {
        "id": "LAnzNv_3VKqN",
        "colab": {
          "base_uri": "https://localhost:8080/"
        },
        "outputId": "0a2250eb-82c7-4a00-adde-aef11e0a67fc"
      },
      "execution_count": null,
      "outputs": [
        {
          "output_type": "execute_result",
          "data": {
            "text/plain": [
              "age                         0\n",
              "anaemia                     0\n",
              "creatinine_phosphokinase    0\n",
              "diabetes                    0\n",
              "ejection_fraction           0\n",
              "high_blood_pressure         0\n",
              "platelets                   0\n",
              "serum_creatinine            0\n",
              "serum_sodium                0\n",
              "sex                         0\n",
              "smoking                     0\n",
              "time                        0\n",
              "dtype: int64"
            ]
          },
          "metadata": {},
          "execution_count": 9
        }
      ]
    },
    {
      "cell_type": "markdown",
      "source": [
        "There is no missing data"
      ],
      "metadata": {
        "id": "HSOG7wn8jiS9"
      }
    },
    {
      "cell_type": "code",
      "source": [
        ""
      ],
      "metadata": {
        "id": "NDCHgDWXSaFn"
      },
      "execution_count": null,
      "outputs": []
    },
    {
      "cell_type": "markdown",
      "source": [
        "## Plots"
      ],
      "metadata": {
        "id": "OyIozOfUpmit"
      }
    },
    {
      "cell_type": "markdown",
      "source": [
        "### Correlaton Plot"
      ],
      "metadata": {
        "id": "_U7GZIy4p6UE"
      }
    },
    {
      "cell_type": "code",
      "source": [
        "df = pd.concat([df_train, df_test])"
      ],
      "metadata": {
        "id": "L2M9usCMbCtD"
      },
      "execution_count": null,
      "outputs": []
    },
    {
      "cell_type": "code",
      "source": [
        "\n",
        "# prints data that will be plotted\n",
        "# columns shown here are selected by corr() since\n",
        "# they are ideal for the plot\n",
        "print(df.corr())\n",
        "  \n",
        "# plotting correlation heatmap\n",
        "dataplot = sb.heatmap(df.corr())\n",
        "  \n",
        "# displaying heatmap\n",
        "mp.show()"
      ],
      "metadata": {
        "id": "PhF-CnnUc2Ma",
        "colab": {
          "base_uri": "https://localhost:8080/"
        },
        "outputId": "1e751063-7756-4439-d31b-24e98974b117"
      },
      "execution_count": null,
      "outputs": [
        {
          "output_type": "stream",
          "name": "stdout",
          "text": [
            "                               age   anaemia  ...   smoking      time\n",
            "age                       1.000000  0.088006  ...  0.018668 -0.224068\n",
            "anaemia                   0.088006  1.000000  ... -0.119817 -0.154067\n",
            "creatinine_phosphokinase -0.081584 -0.205413  ...  0.035421  0.003008\n",
            "diabetes                 -0.101012  0.028009  ... -0.132768  0.037023\n",
            "ejection_fraction         0.060098  0.048385  ... -0.045244  0.085576\n",
            "high_blood_pressure       0.093289  0.090068  ... -0.049142 -0.169866\n",
            "platelets                -0.052354 -0.036552  ... -0.050013  0.038627\n",
            "serum_creatinine          0.159187  0.059989  ... -0.036505 -0.142456\n",
            "serum_sodium             -0.045966  0.028590  ...  0.019016  0.118055\n",
            "sex                       0.065430 -0.075564  ...  0.386747  0.009461\n",
            "smoking                   0.018668 -0.119817  ...  1.000000 -0.036007\n",
            "time                     -0.224068 -0.154067  ... -0.036007  1.000000\n",
            "\n",
            "[12 rows x 12 columns]\n"
          ]
        },
        {
          "output_type": "display_data",
          "data": {
            "image/png": "[encoded data removed]",
            "text/plain": [
              "<Figure size 576x396 with 2 Axes>"
            ]
          },
          "metadata": {}
        }
      ]
    },
    {
      "cell_type": "markdown",
      "source": [
        "Observation: We see that there is positive correlcation between ejection_fraction and serum_sodium, and between high_blood_pressure and anaemia\n",
        "The strongest correlation (but negative) is between time and age. Considering that time is defined as\n",
        "TIME: Follow-up period (days) between anemia measures\n",
        "We conclude that the period is the most influential variable among all though the correlation number is only 0.224068\n"
      ],
      "metadata": {
        "id": "v86Q4HdSjtdg"
      }
    },
    {
      "cell_type": "markdown",
      "source": [
        "### Interactive Scatterplot"
      ],
      "metadata": {
        "id": "3RHfH_26p-Bq"
      }
    },
    {
      "cell_type": "code",
      "source": [
        "import plotly.express as px\n",
        "fig = px.scatter(df_train, x=\"platelets\", y=\"age\", color=\"sex\")\n",
        "fig.show()"
      ],
      "metadata": {
        "id": "0V0uDsgTe0in",
        "colab": {
          "base_uri": "https://localhost:8080/",
          "height": 542
        },
        "outputId": "3021931a-17a0-450c-acb1-a34599be38d9"
      },
      "execution_count": null,
      "outputs": [
        {
          "output_type": "display_data",
          "data": {
            "text/html": [
              "<html>\n",
              "<head><meta charset=\"utf-8\" /></head>\n",
              "<body>\n",
              "    <div>\n",
              "            <script src=\"https://cdnjs.cloudflare.com/ajax/libs/mathjax/2.7.5/MathJax.js?config=TeX-AMS-MML_SVG\"></script><script type=\"text/javascript\">if (window.MathJax) {MathJax.Hub.Config({SVG: {font: \"STIX-Web\"}});}</script>\n",
              "                <script type=\"text/javascript\">window.PlotlyConfig = {MathJaxConfig: 'local'};</script>\n",
              "        <script src=\"https://cdn.plot.ly/plotly-latest.min.js\"></script>    \n",
              "            <div id=\"f9cac02f-367d-48ed-854c-ac823328aa9c\" class=\"plotly-graph-div\" style=\"height:525px; width:100%;\"></div>\n",
              "            <script type=\"text/javascript\">\n",
              "                \n",
              "                    window.PLOTLYENV=window.PLOTLYENV || {};\n",
              "                    \n",
              "                if (document.getElementById(\"f9cac02f-367d-48ed-854c-ac823328aa9c\")) {\n",
              "                    Plotly.newPlot(\n",
              "                        'f9cac02f-367d-48ed-854c-ac823328aa9c',\n",
              "                        [{\"hoverlabel\": {\"namelength\": 0}, \"hovertemplate\": \"platelets=%{x}<br>age=%{y}<br>sex=%{marker.color}\", \"legendgroup\": \"\", \"marker\": {\"color\": [1, 1, 1, 1, 0, 1, 1, 1, 0, 1, 1, 1, 1, 1, 0, 1, 1, 1, 0, 0, 0, 0, 1, 1, 0, 1, 0, 1, 1, 1, 1, 1, 0, 0, 1, 1, 1, 0, 1, 0, 1, 0, 1, 1, 0, 1, 1, 1, 1, 0, 1, 0, 0, 0, 0, 1, 1, 1, 1, 1, 1, 0, 1, 1, 0, 1, 0, 1, 0, 1, 1, 1, 1, 1, 1, 1, 0, 1, 1, 0, 0, 1, 0, 1, 0, 1, 1, 1, 1, 1, 1, 1, 0, 1, 0, 1, 1, 0, 0, 0, 1, 1, 1, 1, 0, 0, 1, 1, 1, 1, 1, 1, 1, 0, 1, 0, 0, 0, 0, 0, 1, 0, 0, 0, 1, 0, 0, 0, 1, 1, 1, 1, 0, 1, 1, 1, 0, 1, 0, 1, 1, 0, 0, 0, 1, 1, 1, 1, 1, 1, 0, 1, 1, 1, 0, 1, 0, 1, 1, 1, 1, 1, 1, 0, 1, 0, 1, 1, 0, 0, 1, 1, 1, 1, 1, 1, 1, 0, 1, 1, 1, 1, 1, 1, 1, 1, 0, 0, 0, 0, 1, 0, 1, 1, 1, 1, 0, 0, 0, 1, 1, 1, 1, 1, 1, 0, 0, 1, 0, 0, 1, 1, 1, 0, 1, 1, 0, 0, 1, 0, 1, 1, 1, 1, 1, 0, 1, 1, 0, 0, 0, 1, 1, 1, 1, 1, 1, 1, 0, 1, 0, 1, 1, 0, 1, 1, 1, 1, 1, 0, 0, 0, 1, 0, 1, 1, 0, 1, 1, 1, 1, 0, 1, 0, 1, 1, 1, 1, 0, 1, 1, 0, 0, 1, 1, 0, 0, 1, 0, 0, 1, 1, 1, 1, 1, 1, 1, 0, 0, 0, 0, 1, 1, 1, 1, 0, 0, 1, 1], \"coloraxis\": \"coloraxis\", \"symbol\": \"circle\"}, \"mode\": \"markers\", \"name\": \"\", \"showlegend\": false, \"type\": \"scatter\", \"x\": [265000.0, 263358.03, 162000.0, 210000.0, 327000.0, 204000.0, 127000.0, 454000.0, 263358.03, 388000.0, 368000.0, 253000.0, 136000.0, 276000.0, 427000.0, 47000.0, 262000.0, 166000.0, 237000.0, 87000.0, 276000.0, 297000.0, 289000.0, 368000.0, 263358.03, 149000.0, 196000.0, 284000.0, 153000.0, 200000.0, 263358.03, 360000.0, 319000.0, 302000.0, 188000.0, 228000.0, 226000.0, 321000.0, 305000.0, 329000.0, 263358.03, 153000.0, 185000.0, 218000.0, 194000.0, 310000.0, 271000.0, 451000.0, 140000.0, 395000.0, 166000.0, 418000.0, 263358.03, 351000.0, 255000.0, 461000.0, 223000.0, 216000.0, 319000.0, 254000.0, 390000.0, 216000.0, 254000.0, 385000.0, 263358.03, 119000.0, 213000.0, 274000.0, 244000.0, 497000.0, 374000.0, 122000.0, 243000.0, 149000.0, 266000.0, 204000.0, 317000.0, 237000.0, 283000.0, 324000.0, 293000.0, 263358.03, 196000.0, 172000.0, 302000.0, 406000.0, 173000.0, 304000.0, 235000.0, 181000.0, 249000.0, 297000.0, 263358.03, 210000.0, 327000.0, 219000.0, 254000.0, 255000.0, 318000.0, 221000.0, 298000.0, 263358.03, 149000.0, 226000.0, 286000.0, 621000.0, 263000.0, 226000.0, 304000.0, 850000.0, 306000.0, 228000.0, 252000.0, 351000.0, 328000.0, 164000.0, 271000.0, 507000.0, 203000.0, 263358.03, 210000.0, 162000.0, 228000.0, 127000.0, 217000.0, 237000.0, 271000.0, 300000.0, 267000.0, 227000.0, 249000.0, 250000.0, 263358.03, 295000.0, 231000.0, 263358.03, 172000.0, 305000.0, 221000.0, 211000.0, 263358.03, 348000.0, 329000.0, 229000.0, 338000.0, 266000.0, 218000.0, 242000.0, 225000.0, 228000.0, 235000.0, 244000.0, 184000.0, 263358.03, 235000.0, 194000.0, 277000.0, 262000.0, 235000.0, 362000.0, 242000.0, 174000.0, 448000.0, 75000.0, 334000.0, 192000.0, 220000.0, 70000.0, 270000.0, 305000.0, 263358.03, 325000.0, 176000.0, 189000.0, 281000.0, 337000.0, 105000.0, 132000.0, 267000.0, 279000.0, 303000.0, 221000.0, 265000.0, 224000.0, 219000.0, 389000.0, 153000.0, 365000.0, 201000.0, 275000.0, 350000.0, 309000.0, 260000.0, 160000.0, 126000.0, 223000.0, 263358.03, 259000.0, 279000.0, 263358.03, 73000.0, 377000.0, 220000.0, 212000.0, 277000.0, 362000.0, 226000.0, 186000.0, 283000.0, 268000.0, 389000.0, 147000.0, 481000.0, 244000.0, 290000.0, 203000.0, 358000.0, 151000.0, 271000.0, 371000.0, 263358.03, 194000.0, 365000.0, 130000.0, 504000.0, 265000.0, 189000.0, 141000.0, 237000.0, 274000.0, 62000.0, 185000.0, 255000.0, 330000.0, 305000.0, 406000.0, 248000.0, 173000.0, 257000.0, 263358.03, 533000.0, 249000.0, 255000.0, 220000.0, 264000.0, 282000.0, 314000.0, 246000.0, 301000.0, 223000.0, 404000.0, 231000.0, 274000.0, 236000.0, 263358.03, 334000.0, 294000.0, 253000.0, 233000.0, 308000.0, 203000.0, 283000.0, 198000.0, 208000.0, 147000.0, 362000.0, 263358.03, 133000.0, 302000.0, 222000.0, 263358.03, 221000.0, 215000.0, 189000.0, 150000.0, 422000.0, 327000.0, 25100.0, 232000.0, 451000.0, 241000.0, 51000.0, 215000.0, 263358.03, 279000.0, 336000.0, 279000.0, 543000.0, 263358.03, 390000.0, 222000.0, 133000.0, 382000.0, 179000.0, 155000.0, 270000.0, 742000.0, 140000.0, 395000.0], \"xaxis\": \"x\", \"y\": [75.0, 55.0, 65.0, 50.0, 65.0, 90.0, 75.0, 60.0, 65.0, 80.0, 75.0, 62.0, 45.0, 50.0, 49.0, 82.0, 87.0, 45.0, 70.0, 48.0, 65.0, 65.0, 68.0, 53.0, 75.0, 80.0, 95.0, 70.0, 58.0, 82.0, 94.0, 85.0, 50.0, 50.0, 65.0, 69.0, 90.0, 82.0, 60.0, 60.0, 70.0, 50.0, 70.0, 72.0, 60.0, 50.0, 51.0, 60.0, 80.0, 57.0, 68.0, 53.0, 60.0, 70.0, 60.0, 95.0, 70.0, 60.0, 49.0, 72.0, 45.0, 50.0, 55.0, 45.0, 45.0, 60.0, 42.0, 72.0, 70.0, 65.0, 41.0, 58.0, 85.0, 65.0, 69.0, 60.0, 70.0, 42.0, 75.0, 55.0, 70.0, 67.0, 60.0, 79.0, 59.0, 51.0, 55.0, 65.0, 44.0, 57.0, 70.0, 60.0, 42.0, 60.0, 58.0, 58.0, 63.0, 70.0, 60.0, 63.0, 65.0, 75.0, 80.0, 42.0, 60.0, 72.0, 55.0, 45.0, 63.0, 45.0, 85.0, 55.0, 50.0, 70.0, 60.0, 58.0, 60.0, 85.0, 65.0, 86.0, 60.0, 66.0, 60.0, 60.0, 60.0, 43.0, 46.0, 58.0, 61.0, 53.0, 53.0, 60.0, 46.0, 63.0, 81.0, 75.0, 65.0, 68.0, 62.0, 50.0, 80.0, 46.0, 50.0, 61.0, 72.0, 50.0, 52.0, 64.0, 75.0, 60.0, 72.0, 62.0, 50.0, 50.0, 65.0, 60.0, 52.0, 50.0, 85.0, 59.0, 66.0, 45.0, 63.0, 50.0, 45.0, 80.0, 53.0, 59.0, 65.0, 70.0, 51.0, 52.0, 70.0, 50.0, 65.0, 60.0, 69.0, 49.0, 63.0, 55.0, 40.0, 59.0, 65.0, 75.0, 58.0, 60.667, 50.0, 60.0, 60.667, 40.0, 80.0, 64.0, 50.0, 73.0, 45.0, 77.0, 45.0, 65.0, 50.0, 60.0, 63.0, 45.0, 70.0, 60.0, 78.0, 50.0, 40.0, 85.0, 60.0, 49.0, 70.0, 50.0, 78.0, 48.0, 65.0, 73.0, 70.0, 54.0, 68.0, 55.0, 73.0, 65.0, 42.0, 47.0, 58.0, 75.0, 58.0, 55.0, 65.0, 72.0, 60.0, 70.0, 40.0, 53.0, 53.0, 77.0, 75.0, 70.0, 65.0, 55.0, 70.0, 65.0, 40.0, 73.0, 54.0, 61.0, 55.0, 64.0, 40.0, 53.0, 50.0, 55.0, 50.0, 70.0, 53.0, 52.0, 65.0, 58.0, 45.0, 53.0, 55.0, 62.0, 65.0, 68.0, 61.0, 50.0, 55.0, 56.0, 45.0, 40.0, 44.0, 51.0, 67.0, 42.0, 60.0, 45.0, 70.0, 70.0, 50.0, 55.0, 70.0, 70.0, 42.0, 65.0, 50.0, 55.0, 60.0, 45.0, 65.0, 90.0, 45.0, 60.0, 52.0, 63.0, 62.0, 55.0, 45.0, 45.0, 50.0], \"yaxis\": \"y\"}],\n",
              "                        {\"coloraxis\": {\"colorbar\": {\"title\": {\"text\": \"sex\"}}, \"colorscale\": [[0.0, \"#0d0887\"], [0.1111111111111111, \"#46039f\"], [0.2222222222222222, \"#7201a8\"], [0.3333333333333333, \"#9c179e\"], [0.4444444444444444, \"#bd3786\"], [0.5555555555555556, \"#d8576b\"], [0.6666666666666666, \"#ed7953\"], [0.7777777777777778, \"#fb9f3a\"], [0.8888888888888888, \"#fdca26\"], [1.0, \"#f0f921\"]]}, \"legend\": {\"tracegroupgap\": 0}, \"margin\": {\"t\": 60}, \"template\": {\"data\": {\"bar\": [{\"error_x\": {\"color\": \"#2a3f5f\"}, \"error_y\": {\"color\": \"#2a3f5f\"}, \"marker\": {\"line\": {\"color\": \"#E5ECF6\", \"width\": 0.5}}, \"type\": \"bar\"}], \"barpolar\": [{\"marker\": {\"line\": {\"color\": \"#E5ECF6\", \"width\": 0.5}}, \"type\": \"barpolar\"}], \"carpet\": [{\"aaxis\": {\"endlinecolor\": \"#2a3f5f\", \"gridcolor\": \"white\", \"linecolor\": \"white\", \"minorgridcolor\": \"white\", \"startlinecolor\": \"#2a3f5f\"}, \"baxis\": {\"endlinecolor\": \"#2a3f5f\", \"gridcolor\": \"white\", \"linecolor\": \"white\", \"minorgridcolor\": \"white\", \"startlinecolor\": \"#2a3f5f\"}, \"type\": \"carpet\"}], \"choropleth\": [{\"colorbar\": {\"outlinewidth\": 0, \"ticks\": \"\"}, \"type\": \"choropleth\"}], \"contour\": [{\"colorbar\": {\"outlinewidth\": 0, \"ticks\": \"\"}, \"colorscale\": [[0.0, \"#0d0887\"], [0.1111111111111111, \"#46039f\"], [0.2222222222222222, \"#7201a8\"], [0.3333333333333333, \"#9c179e\"], [0.4444444444444444, \"#bd3786\"], [0.5555555555555556, \"#d8576b\"], [0.6666666666666666, \"#ed7953\"], [0.7777777777777778, \"#fb9f3a\"], [0.8888888888888888, \"#fdca26\"], [1.0, \"#f0f921\"]], \"type\": \"contour\"}], \"contourcarpet\": [{\"colorbar\": {\"outlinewidth\": 0, \"ticks\": \"\"}, \"type\": \"contourcarpet\"}], \"heatmap\": [{\"colorbar\": {\"outlinewidth\": 0, \"ticks\": \"\"}, \"colorscale\": [[0.0, \"#0d0887\"], [0.1111111111111111, \"#46039f\"], [0.2222222222222222, \"#7201a8\"], [0.3333333333333333, \"#9c179e\"], [0.4444444444444444, \"#bd3786\"], [0.5555555555555556, \"#d8576b\"], [0.6666666666666666, \"#ed7953\"], [0.7777777777777778, \"#fb9f3a\"], [0.8888888888888888, \"#fdca26\"], [1.0, \"#f0f921\"]], \"type\": \"heatmap\"}], \"heatmapgl\": [{\"colorbar\": {\"outlinewidth\": 0, \"ticks\": \"\"}, \"colorscale\": [[0.0, \"#0d0887\"], [0.1111111111111111, \"#46039f\"], [0.2222222222222222, \"#7201a8\"], [0.3333333333333333, \"#9c179e\"], [0.4444444444444444, \"#bd3786\"], [0.5555555555555556, \"#d8576b\"], [0.6666666666666666, \"#ed7953\"], [0.7777777777777778, \"#fb9f3a\"], [0.8888888888888888, \"#fdca26\"], [1.0, \"#f0f921\"]], \"type\": \"heatmapgl\"}], \"histogram\": [{\"marker\": {\"colorbar\": {\"outlinewidth\": 0, \"ticks\": \"\"}}, \"type\": \"histogram\"}], \"histogram2d\": [{\"colorbar\": {\"outlinewidth\": 0, \"ticks\": \"\"}, \"colorscale\": [[0.0, \"#0d0887\"], [0.1111111111111111, \"#46039f\"], [0.2222222222222222, \"#7201a8\"], [0.3333333333333333, \"#9c179e\"], [0.4444444444444444, \"#bd3786\"], [0.5555555555555556, \"#d8576b\"], [0.6666666666666666, \"#ed7953\"], [0.7777777777777778, \"#fb9f3a\"], [0.8888888888888888, \"#fdca26\"], [1.0, \"#f0f921\"]], \"type\": \"histogram2d\"}], \"histogram2dcontour\": [{\"colorbar\": {\"outlinewidth\": 0, \"ticks\": \"\"}, \"colorscale\": [[0.0, \"#0d0887\"], [0.1111111111111111, \"#46039f\"], [0.2222222222222222, \"#7201a8\"], [0.3333333333333333, \"#9c179e\"], [0.4444444444444444, \"#bd3786\"], [0.5555555555555556, \"#d8576b\"], [0.6666666666666666, \"#ed7953\"], [0.7777777777777778, \"#fb9f3a\"], [0.8888888888888888, \"#fdca26\"], [1.0, \"#f0f921\"]], \"type\": \"histogram2dcontour\"}], \"mesh3d\": [{\"colorbar\": {\"outlinewidth\": 0, \"ticks\": \"\"}, \"type\": \"mesh3d\"}], \"parcoords\": [{\"line\": {\"colorbar\": {\"outlinewidth\": 0, \"ticks\": \"\"}}, \"type\": \"parcoords\"}], \"pie\": [{\"automargin\": true, \"type\": \"pie\"}], \"scatter\": [{\"marker\": {\"colorbar\": {\"outlinewidth\": 0, \"ticks\": \"\"}}, \"type\": \"scatter\"}], \"scatter3d\": [{\"line\": {\"colorbar\": {\"outlinewidth\": 0, \"ticks\": \"\"}}, \"marker\": {\"colorbar\": {\"outlinewidth\": 0, \"ticks\": \"\"}}, \"type\": \"scatter3d\"}], \"scattercarpet\": [{\"marker\": {\"colorbar\": {\"outlinewidth\": 0, \"ticks\": \"\"}}, \"type\": \"scattercarpet\"}], \"scattergeo\": [{\"marker\": {\"colorbar\": {\"outlinewidth\": 0, \"ticks\": \"\"}}, \"type\": \"scattergeo\"}], \"scattergl\": [{\"marker\": {\"colorbar\": {\"outlinewidth\": 0, \"ticks\": \"\"}}, \"type\": \"scattergl\"}], \"scattermapbox\": [{\"marker\": {\"colorbar\": {\"outlinewidth\": 0, \"ticks\": \"\"}}, \"type\": \"scattermapbox\"}], \"scatterpolar\": [{\"marker\": {\"colorbar\": {\"outlinewidth\": 0, \"ticks\": \"\"}}, \"type\": \"scatterpolar\"}], \"scatterpolargl\": [{\"marker\": {\"colorbar\": {\"outlinewidth\": 0, \"ticks\": \"\"}}, \"type\": \"scatterpolargl\"}], \"scatterternary\": [{\"marker\": {\"colorbar\": {\"outlinewidth\": 0, \"ticks\": \"\"}}, \"type\": \"scatterternary\"}], \"surface\": [{\"colorbar\": {\"outlinewidth\": 0, \"ticks\": \"\"}, \"colorscale\": [[0.0, \"#0d0887\"], [0.1111111111111111, \"#46039f\"], [0.2222222222222222, \"#7201a8\"], [0.3333333333333333, \"#9c179e\"], [0.4444444444444444, \"#bd3786\"], [0.5555555555555556, \"#d8576b\"], [0.6666666666666666, \"#ed7953\"], [0.7777777777777778, \"#fb9f3a\"], [0.8888888888888888, \"#fdca26\"], [1.0, \"#f0f921\"]], \"type\": \"surface\"}], \"table\": [{\"cells\": {\"fill\": {\"color\": \"#EBF0F8\"}, \"line\": {\"color\": \"white\"}}, \"header\": {\"fill\": {\"color\": \"#C8D4E3\"}, \"line\": {\"color\": \"white\"}}, \"type\": \"table\"}]}, \"layout\": {\"annotationdefaults\": {\"arrowcolor\": \"#2a3f5f\", \"arrowhead\": 0, \"arrowwidth\": 1}, \"coloraxis\": {\"colorbar\": {\"outlinewidth\": 0, \"ticks\": \"\"}}, \"colorscale\": {\"diverging\": [[0, \"#8e0152\"], [0.1, \"#c51b7d\"], [0.2, \"#de77ae\"], [0.3, \"#f1b6da\"], [0.4, \"#fde0ef\"], [0.5, \"#f7f7f7\"], [0.6, \"#e6f5d0\"], [0.7, \"#b8e186\"], [0.8, \"#7fbc41\"], [0.9, \"#4d9221\"], [1, \"#276419\"]], \"sequential\": [[0.0, \"#0d0887\"], [0.1111111111111111, \"#46039f\"], [0.2222222222222222, \"#7201a8\"], [0.3333333333333333, \"#9c179e\"], [0.4444444444444444, \"#bd3786\"], [0.5555555555555556, \"#d8576b\"], [0.6666666666666666, \"#ed7953\"], [0.7777777777777778, \"#fb9f3a\"], [0.8888888888888888, \"#fdca26\"], [1.0, \"#f0f921\"]], \"sequentialminus\": [[0.0, \"#0d0887\"], [0.1111111111111111, \"#46039f\"], [0.2222222222222222, \"#7201a8\"], [0.3333333333333333, \"#9c179e\"], [0.4444444444444444, \"#bd3786\"], [0.5555555555555556, \"#d8576b\"], [0.6666666666666666, \"#ed7953\"], [0.7777777777777778, \"#fb9f3a\"], [0.8888888888888888, \"#fdca26\"], [1.0, \"#f0f921\"]]}, \"colorway\": [\"#636efa\", \"#EF553B\", \"#00cc96\", \"#ab63fa\", \"#FFA15A\", \"#19d3f3\", \"#FF6692\", \"#B6E880\", \"#FF97FF\", \"#FECB52\"], \"font\": {\"color\": \"#2a3f5f\"}, \"geo\": {\"bgcolor\": \"white\", \"lakecolor\": \"white\", \"landcolor\": \"#E5ECF6\", \"showlakes\": true, \"showland\": true, \"subunitcolor\": \"white\"}, \"hoverlabel\": {\"align\": \"left\"}, \"hovermode\": \"closest\", \"mapbox\": {\"style\": \"light\"}, \"paper_bgcolor\": \"white\", \"plot_bgcolor\": \"#E5ECF6\", \"polar\": {\"angularaxis\": {\"gridcolor\": \"white\", \"linecolor\": \"white\", \"ticks\": \"\"}, \"bgcolor\": \"#E5ECF6\", \"radialaxis\": {\"gridcolor\": \"white\", \"linecolor\": \"white\", \"ticks\": \"\"}}, \"scene\": {\"xaxis\": {\"backgroundcolor\": \"#E5ECF6\", \"gridcolor\": \"white\", \"gridwidth\": 2, \"linecolor\": \"white\", \"showbackground\": true, \"ticks\": \"\", \"zerolinecolor\": \"white\"}, \"yaxis\": {\"backgroundcolor\": \"#E5ECF6\", \"gridcolor\": \"white\", \"gridwidth\": 2, \"linecolor\": \"white\", \"showbackground\": true, \"ticks\": \"\", \"zerolinecolor\": \"white\"}, \"zaxis\": {\"backgroundcolor\": \"#E5ECF6\", \"gridcolor\": \"white\", \"gridwidth\": 2, \"linecolor\": \"white\", \"showbackground\": true, \"ticks\": \"\", \"zerolinecolor\": \"white\"}}, \"shapedefaults\": {\"line\": {\"color\": \"#2a3f5f\"}}, \"ternary\": {\"aaxis\": {\"gridcolor\": \"white\", \"linecolor\": \"white\", \"ticks\": \"\"}, \"baxis\": {\"gridcolor\": \"white\", \"linecolor\": \"white\", \"ticks\": \"\"}, \"bgcolor\": \"#E5ECF6\", \"caxis\": {\"gridcolor\": \"white\", \"linecolor\": \"white\", \"ticks\": \"\"}}, \"title\": {\"x\": 0.05}, \"xaxis\": {\"automargin\": true, \"gridcolor\": \"white\", \"linecolor\": \"white\", \"ticks\": \"\", \"title\": {\"standoff\": 15}, \"zerolinecolor\": \"white\", \"zerolinewidth\": 2}, \"yaxis\": {\"automargin\": true, \"gridcolor\": \"white\", \"linecolor\": \"white\", \"ticks\": \"\", \"title\": {\"standoff\": 15}, \"zerolinecolor\": \"white\", \"zerolinewidth\": 2}}}, \"xaxis\": {\"anchor\": \"y\", \"domain\": [0.0, 1.0], \"title\": {\"text\": \"platelets\"}}, \"yaxis\": {\"anchor\": \"x\", \"domain\": [0.0, 1.0], \"title\": {\"text\": \"age\"}}},\n",
              "                        {\"responsive\": true}\n",
              "                    ).then(function(){\n",
              "                            \n",
              "var gd = document.getElementById('f9cac02f-367d-48ed-854c-ac823328aa9c');\n",
              "var x = new MutationObserver(function (mutations, observer) {{\n",
              "        var display = window.getComputedStyle(gd).display;\n",
              "        if (!display || display === 'none') {{\n",
              "            console.log([gd, 'removed!']);\n",
              "            Plotly.purge(gd);\n",
              "            observer.disconnect();\n",
              "        }}\n",
              "}});\n",
              "\n",
              "// Listen for the removal of the full notebook cells\n",
              "var notebookContainer = gd.closest('#notebook-container');\n",
              "if (notebookContainer) {{\n",
              "    x.observe(notebookContainer, {childList: true});\n",
              "}}\n",
              "\n",
              "// Listen for the clearing of the current output cell\n",
              "var outputEl = gd.closest('.output');\n",
              "if (outputEl) {{\n",
              "    x.observe(outputEl, {childList: true});\n",
              "}}\n",
              "\n",
              "                        })\n",
              "                };\n",
              "                \n",
              "            </script>\n",
              "        </div>\n",
              "</body>\n",
              "</html>"
            ]
          },
          "metadata": {}
        }
      ]
    },
    {
      "cell_type": "code",
      "source": [
        "df_train.head(5)"
      ],
      "metadata": {
        "colab": {
          "base_uri": "https://localhost:8080/",
          "height": 270
        },
        "id": "WlHXSWFscmJ8",
        "outputId": "f22f8854-d3a1-41f9-9f6d-1cc0fef1a7ef"
      },
      "execution_count": null,
      "outputs": [
        {
          "output_type": "execute_result",
          "data": {
            "text/html": [
              "\n",
              "  <div id=\"df-cdcd15f0-a008-4ada-8c3f-bafa58a6ef81\">\n",
              "    <div class=\"colab-df-container\">\n",
              "      <div>\n",
              "<style scoped>\n",
              "    .dataframe tbody tr th:only-of-type {\n",
              "        vertical-align: middle;\n",
              "    }\n",
              "\n",
              "    .dataframe tbody tr th {\n",
              "        vertical-align: top;\n",
              "    }\n",
              "\n",
              "    .dataframe thead th {\n",
              "        text-align: right;\n",
              "    }\n",
              "</style>\n",
              "<table border=\"1\" class=\"dataframe\">\n",
              "  <thead>\n",
              "    <tr style=\"text-align: right;\">\n",
              "      <th></th>\n",
              "      <th>age</th>\n",
              "      <th>anaemia</th>\n",
              "      <th>creatinine_phosphokinase</th>\n",
              "      <th>diabetes</th>\n",
              "      <th>ejection_fraction</th>\n",
              "      <th>high_blood_pressure</th>\n",
              "      <th>platelets</th>\n",
              "      <th>serum_creatinine</th>\n",
              "      <th>serum_sodium</th>\n",
              "      <th>sex</th>\n",
              "      <th>smoking</th>\n",
              "      <th>time</th>\n",
              "    </tr>\n",
              "  </thead>\n",
              "  <tbody>\n",
              "    <tr>\n",
              "      <th>0</th>\n",
              "      <td>75.0</td>\n",
              "      <td>0</td>\n",
              "      <td>582</td>\n",
              "      <td>0</td>\n",
              "      <td>20</td>\n",
              "      <td>1</td>\n",
              "      <td>265000.00</td>\n",
              "      <td>1.9</td>\n",
              "      <td>130</td>\n",
              "      <td>1</td>\n",
              "      <td>0</td>\n",
              "      <td>4</td>\n",
              "    </tr>\n",
              "    <tr>\n",
              "      <th>1</th>\n",
              "      <td>55.0</td>\n",
              "      <td>0</td>\n",
              "      <td>7861</td>\n",
              "      <td>0</td>\n",
              "      <td>38</td>\n",
              "      <td>0</td>\n",
              "      <td>263358.03</td>\n",
              "      <td>1.1</td>\n",
              "      <td>136</td>\n",
              "      <td>1</td>\n",
              "      <td>0</td>\n",
              "      <td>6</td>\n",
              "    </tr>\n",
              "    <tr>\n",
              "      <th>2</th>\n",
              "      <td>65.0</td>\n",
              "      <td>0</td>\n",
              "      <td>146</td>\n",
              "      <td>0</td>\n",
              "      <td>20</td>\n",
              "      <td>0</td>\n",
              "      <td>162000.00</td>\n",
              "      <td>1.3</td>\n",
              "      <td>129</td>\n",
              "      <td>1</td>\n",
              "      <td>1</td>\n",
              "      <td>7</td>\n",
              "    </tr>\n",
              "    <tr>\n",
              "      <th>3</th>\n",
              "      <td>50.0</td>\n",
              "      <td>1</td>\n",
              "      <td>111</td>\n",
              "      <td>0</td>\n",
              "      <td>20</td>\n",
              "      <td>0</td>\n",
              "      <td>210000.00</td>\n",
              "      <td>1.9</td>\n",
              "      <td>137</td>\n",
              "      <td>1</td>\n",
              "      <td>0</td>\n",
              "      <td>7</td>\n",
              "    </tr>\n",
              "    <tr>\n",
              "      <th>4</th>\n",
              "      <td>65.0</td>\n",
              "      <td>1</td>\n",
              "      <td>160</td>\n",
              "      <td>1</td>\n",
              "      <td>20</td>\n",
              "      <td>0</td>\n",
              "      <td>327000.00</td>\n",
              "      <td>2.7</td>\n",
              "      <td>116</td>\n",
              "      <td>0</td>\n",
              "      <td>0</td>\n",
              "      <td>8</td>\n",
              "    </tr>\n",
              "  </tbody>\n",
              "</table>\n",
              "</div>\n",
              "      <button class=\"colab-df-convert\" onclick=\"convertToInteractive('df-cdcd15f0-a008-4ada-8c3f-bafa58a6ef81')\"\n",
              "              title=\"Convert this dataframe to an interactive table.\"\n",
              "              style=\"display:none;\">\n",
              "        \n",
              "  <svg xmlns=\"http://www.w3.org/2000/svg\" height=\"24px\"viewBox=\"0 0 24 24\"\n",
              "       width=\"24px\">\n",
              "    <path d=\"M0 0h24v24H0V0z\" fill=\"none\"/>\n",
              "    <path d=\"M18.56 5.44l.94 2.06.94-2.06 2.06-.94-2.06-.94-.94-2.06-.94 2.06-2.06.94zm-11 1L8.5 8.5l.94-2.06 2.06-.94-2.06-.94L8.5 2.5l-.94 2.06-2.06.94zm10 10l.94 2.06.94-2.06 2.06-.94-2.06-.94-.94-2.06-.94 2.06-2.06.94z\"/><path d=\"M17.41 7.96l-1.37-1.37c-.4-.4-.92-.59-1.43-.59-.52 0-1.04.2-1.43.59L10.3 9.45l-7.72 7.72c-.78.78-.78 2.05 0 2.83L4 21.41c.39.39.9.59 1.41.59.51 0 1.02-.2 1.41-.59l7.78-7.78 2.81-2.81c.8-.78.8-2.07 0-2.86zM5.41 20L4 18.59l7.72-7.72 1.47 1.35L5.41 20z\"/>\n",
              "  </svg>\n",
              "      </button>\n",
              "      \n",
              "  <style>\n",
              "    .colab-df-container {\n",
              "      display:flex;\n",
              "      flex-wrap:wrap;\n",
              "      gap: 12px;\n",
              "    }\n",
              "\n",
              "    .colab-df-convert {\n",
              "      background-color: #E8F0FE;\n",
              "      border: none;\n",
              "      border-radius: 50%;\n",
              "      cursor: pointer;\n",
              "      display: none;\n",
              "      fill: #1967D2;\n",
              "      height: 32px;\n",
              "      padding: 0 0 0 0;\n",
              "      width: 32px;\n",
              "    }\n",
              "\n",
              "    .colab-df-convert:hover {\n",
              "      background-color: #E2EBFA;\n",
              "      box-shadow: 0px 1px 2px rgba(60, 64, 67, 0.3), 0px 1px 3px 1px rgba(60, 64, 67, 0.15);\n",
              "      fill: #174EA6;\n",
              "    }\n",
              "\n",
              "    [theme=dark] .colab-df-convert {\n",
              "      background-color: #3B4455;\n",
              "      fill: #D2E3FC;\n",
              "    }\n",
              "\n",
              "    [theme=dark] .colab-df-convert:hover {\n",
              "      background-color: #434B5C;\n",
              "      box-shadow: 0px 1px 3px 1px rgba(0, 0, 0, 0.15);\n",
              "      filter: drop-shadow(0px 1px 2px rgba(0, 0, 0, 0.3));\n",
              "      fill: #FFFFFF;\n",
              "    }\n",
              "  </style>\n",
              "\n",
              "      <script>\n",
              "        const buttonEl =\n",
              "          document.querySelector('#df-cdcd15f0-a008-4ada-8c3f-bafa58a6ef81 button.colab-df-convert');\n",
              "        buttonEl.style.display =\n",
              "          google.colab.kernel.accessAllowed ? 'block' : 'none';\n",
              "\n",
              "        async function convertToInteractive(key) {\n",
              "          const element = document.querySelector('#df-cdcd15f0-a008-4ada-8c3f-bafa58a6ef81');\n",
              "          const dataTable =\n",
              "            await google.colab.kernel.invokeFunction('convertToInteractive',\n",
              "                                                     [key], {});\n",
              "          if (!dataTable) return;\n",
              "\n",
              "          const docLinkHtml = 'Like what you see? Visit the ' +\n",
              "            '<a target=\"_blank\" href=https://colab.research.google.com/notebooks/data_table.ipynb>data table notebook</a>'\n",
              "            + ' to learn more about interactive tables.';\n",
              "          element.innerHTML = '';\n",
              "          dataTable['output_type'] = 'display_data';\n",
              "          await google.colab.output.renderOutput(dataTable, element);\n",
              "          const docLink = document.createElement('div');\n",
              "          docLink.innerHTML = docLinkHtml;\n",
              "          element.appendChild(docLink);\n",
              "        }\n",
              "      </script>\n",
              "    </div>\n",
              "  </div>\n",
              "  "
            ],
            "text/plain": [
              "    age  anaemia  creatinine_phosphokinase  ...  sex  smoking  time\n",
              "0  75.0        0                       582  ...    1        0     4\n",
              "1  55.0        0                      7861  ...    1        0     6\n",
              "2  65.0        0                       146  ...    1        1     7\n",
              "3  50.0        1                       111  ...    1        0     7\n",
              "4  65.0        1                       160  ...    0        0     8\n",
              "\n",
              "[5 rows x 12 columns]"
            ]
          },
          "metadata": {},
          "execution_count": 14
        }
      ]
    },
    {
      "cell_type": "code",
      "source": [
        "# Pair-wise Scatter Plots\n",
        "#cols = ['platelets','serum_sodium', 'age']\n",
        "#pp = sns.pairplot(df_train, hue=\"sex\")\n",
        "\n",
        "#fig = pp.fig n_neighbors\n",
        "#fig.savefig('temp.png')"
      ],
      "metadata": {
        "id": "fZ9v1dj6cm1a"
      },
      "execution_count": null,
      "outputs": []
    },
    {
      "cell_type": "markdown",
      "source": [
        "### Violinplot"
      ],
      "metadata": {
        "id": "1AYkVlqIqCVe"
      }
    },
    {
      "cell_type": "code",
      "source": [
        "columns = [\"age\", \"creatinine_phosphokinase\", \"ejection_fraction\", \"platelets\", \"serum_creatinine\", \"serum_sodium\"]"
      ],
      "metadata": {
        "id": "MPW5JldrdAvQ"
      },
      "execution_count": null,
      "outputs": []
    },
    {
      "cell_type": "code",
      "source": [
        "len(columns)"
      ],
      "metadata": {
        "colab": {
          "base_uri": "https://localhost:8080/"
        },
        "id": "9zIaUHY5dgR0",
        "outputId": "9e2871f8-3787-4109-90e9-db3f7f378e44"
      },
      "execution_count": null,
      "outputs": [
        {
          "output_type": "execute_result",
          "data": {
            "text/plain": [
              "6"
            ]
          },
          "metadata": {},
          "execution_count": 17
        }
      ]
    },
    {
      "cell_type": "code",
      "source": [
        "n = len(columns)\n",
        "\n",
        "\n",
        "fig = plt.figure(figsize=(15, 10))\n",
        "gs = fig.add_gridspec(2, int(n/2))\n",
        "\n",
        "\n",
        "position = 0\n",
        "for i in range(n-1):\n",
        "  if i < 3:\n",
        "    row = 0\n",
        "  else:\n",
        "    row = 1\n",
        "  ax = fig.add_subplot(gs[row, i%3])\n",
        "  sns.violinplot(x=\"sex\", y=df.iloc[:,i], hue=\"sex\", data=df)\n",
        "  ax.set_xlabel(columns[i])\n",
        "\n",
        "fig.tight_layout()\n",
        "plt.show()"
      ],
      "metadata": {
        "id": "O1KKN8Egm1S6",
        "colab": {
          "base_uri": "https://localhost:8080/"
        },
        "outputId": "98244044-40d5-4d34-c0d6-8d7ae8df03ab"
      },
      "execution_count": null,
      "outputs": [
        {
          "output_type": "display_data",
          "data": {
            "image/png": "[encoded data removed]",
            "text/plain": [
              "<Figure size 1080x720 with 5 Axes>"
            ]
          },
          "metadata": {}
        }
      ]
    },
    {
      "cell_type": "markdown",
      "source": [
        " ## Regression Models"
      ],
      "metadata": {
        "id": "6cbaAv2iqGnd"
      }
    },
    {
      "cell_type": "code",
      "source": [
        ""
      ],
      "metadata": {
        "id": "IF9BOPhNANIP"
      },
      "execution_count": null,
      "outputs": []
    },
    {
      "cell_type": "markdown",
      "source": [
        "#### Normalize"
      ],
      "metadata": {
        "id": "SM6P22BFqa7W"
      }
    },
    {
      "cell_type": "code",
      "source": [
        ""
      ],
      "metadata": {
        "id": "hK_n4sbXd1d6"
      },
      "execution_count": null,
      "outputs": []
    },
    {
      "cell_type": "code",
      "source": [
        ""
      ],
      "metadata": {
        "id": "NPuVU559YNQT"
      },
      "execution_count": null,
      "outputs": []
    },
    {
      "cell_type": "code",
      "source": [
        "##NEW###\n",
        "\n",
        "#first separate features and target\n",
        "y = df_train['age'].values.reshape(-1,1)\n",
        "X = df_train.loc[:,df_train.columns != 'age'].values\n",
        "\n",
        "\n",
        "\n",
        "#Split\n",
        "#Although we have a train and test data, since we don't have labels for the test data, in order to\n",
        "#evaluate the model, we split the train data again into new train and test\n",
        "X_train,X_test,y_train,y_test = train_test_split(X,y, test_size=0.30)\n",
        "\n",
        "\n",
        "\n",
        "transformer_x = MinMaxScaler().fit(X_train)\n",
        "transformer_y = MinMaxScaler().fit(y_train) \n",
        "\n",
        "X_train = transformer_x.transform(X_train)\n",
        "y_train = transformer_y.transform(y_train)\n",
        "X_test = transformer_x.transform(X_test)\n",
        "y_test = transformer_y.transform(y_test)\n",
        "\n",
        "X_t = df_test.values\n",
        "# X = df_train.loc[:, df_train.columns != 'age'].values\n",
        "# y = df_train['age'].values.reshape(-1,1)"
      ],
      "metadata": {
        "id": "Ny6HFjPPXoYL"
      },
      "execution_count": null,
      "outputs": []
    },
    {
      "cell_type": "code",
      "source": [
        "print(X_train.shape)\n",
        "print(y_train.shape)"
      ],
      "metadata": {
        "id": "c88QAggXmGuI",
        "colab": {
          "base_uri": "https://localhost:8080/"
        },
        "outputId": "d7ccb8de-1cfc-4578-ccf1-37e001ebb399"
      },
      "execution_count": null,
      "outputs": [
        {
          "output_type": "stream",
          "name": "stdout",
          "text": [
            "(209, 11)\n",
            "(209, 1)\n"
          ]
        }
      ]
    },
    {
      "cell_type": "markdown",
      "source": [
        "#### SVR"
      ],
      "metadata": {
        "id": "Ko4AsMufqxR_"
      }
    },
    {
      "cell_type": "code",
      "source": [
        "\n",
        "\n",
        "# #############################################################################\n",
        "# Fit regression model\n",
        "svr_rbf = SVR(kernel=\"rbf\", C=100, gamma=0.1, epsilon=0.1)\n",
        "svr_lin = SVR(kernel=\"linear\", C=100, gamma=\"auto\")\n",
        "svr_poly = SVR(kernel=\"poly\", C=100, gamma=\"auto\", degree=3, epsilon=0.1, coef0=1)\n",
        "\n",
        "# #############################################################################\n",
        "# Look at the results\n",
        "lw = 2\n",
        "\n",
        "svrs = [svr_rbf, svr_lin, svr_poly]\n",
        "#kernel_label = [\"RBF\", \"Linear\", \"Polynomial\"]\n",
        "#model_color = [\"m\", \"c\", \"g\"]\n",
        "\n",
        "svr = svrs[0]\n",
        "svr.fit(X_train, y_train)\n",
        "y_tr_pr = svr.predict(X_train).reshape(-1,1)\n",
        "y_pred = svr.predict(X_test)"
      ],
      "metadata": {
        "id": "-XI4tHwIkzn9"
      },
      "execution_count": null,
      "outputs": []
    },
    {
      "cell_type": "markdown",
      "source": [
        "##### Hyperparameter Tuning with Cross Validation"
      ],
      "metadata": {
        "id": "P1DTZpWG7guo"
      }
    },
    {
      "cell_type": "markdown",
      "source": [
        "###### Gridsearch"
      ],
      "metadata": {
        "id": "mRY3ZSmb7kH1"
      }
    },
    {
      "cell_type": "markdown",
      "source": [
        "GridSearch was computationally costly so I sufficed to RandomSearch\n",
        "But I kept the syntax for the SVR"
      ],
      "metadata": {
        "id": "KFsU5rRHikyi"
      }
    },
    {
      "cell_type": "code",
      "source": [
        "\n",
        " \n",
        "# defining parameter range\n",
        "#param_grid = {'C': [0.1, 1, 10, 100, 1000],\n",
        "#              'gamma': [1, 0.1, 0.01, 0.001, 0.0001],\n",
        "#              'kernel': ['rbf', 'poly']}\n",
        "#grid = GridSearchCV(SVR(), param_grid, refit = True, verbose = 3)\n",
        " \n",
        "# fitting the model for grid search\n",
        "#grid.fit(X_train, y_train)"
      ],
      "metadata": {
        "id": "oDEtJBASwqX3"
      },
      "execution_count": null,
      "outputs": []
    },
    {
      "cell_type": "code",
      "source": [
        "# print best parameter after tuning\n",
        "#print(grid.best_params_)\n",
        " \n",
        "# print how our model looks after hyper-parameter tuning\n",
        "#print(grid.best_estimator_)"
      ],
      "metadata": {
        "id": "M62QmkKV7L3q"
      },
      "execution_count": null,
      "outputs": []
    },
    {
      "cell_type": "code",
      "source": [
        ""
      ],
      "metadata": {
        "id": "6HuLpULd8rwu"
      },
      "execution_count": null,
      "outputs": []
    },
    {
      "cell_type": "markdown",
      "source": [
        "###### Randomsearch"
      ],
      "metadata": {
        "id": "IVnherWd7m49"
      }
    },
    {
      "cell_type": "code",
      "source": [
        "# define search space\n",
        "space = dict()\n",
        "space['C'] = [0.1, 1, 10, 100, 1000]\n",
        "space['gamma'] = [1, 0.1, 0.01, 0.001, 0.0001]\n",
        "space['kernel'] = ['rbf', 'poly', 'linear']\n",
        "\n",
        "\n",
        "search = RandomizedSearchCV(SVR(), space, cv=cv)\n",
        " \n",
        "\n",
        "\n",
        "# execute search\n",
        "result = search.fit(X_train, y_train)\n"
      ],
      "metadata": {
        "id": "Y_ZmhfmR7p8z"
      },
      "execution_count": null,
      "outputs": []
    },
    {
      "cell_type": "code",
      "source": [
        "# summarize result\n",
        "print('Best Score: %s' % result.best_score_)\n",
        "print('Best Hyperparameters: %s' % result.best_params_)"
      ],
      "metadata": {
        "colab": {
          "base_uri": "https://localhost:8080/"
        },
        "id": "ZG-9Cplq8Vol",
        "outputId": "12422715-3cf1-4b73-84f4-f955bfa3c732"
      },
      "execution_count": null,
      "outputs": [
        {
          "output_type": "stream",
          "name": "stdout",
          "text": [
            "Best Score: -0.046305357834902236\n",
            "Best Hyperparameters: {'kernel': 'rbf', 'gamma': 0.001, 'C': 1}\n"
          ]
        }
      ]
    },
    {
      "cell_type": "code",
      "source": [
        "params = result.best_params_\n",
        "\n",
        "svr_best = SVR(kernel = params['kernel'],\n",
        "               C = params['C'],\n",
        "               gamma = params['gamma'])"
      ],
      "metadata": {
        "id": "KPV9RuUy86xj"
      },
      "execution_count": null,
      "outputs": []
    },
    {
      "cell_type": "code",
      "source": [
        "svr_best.fit(X_train, y_train)\n",
        "y_tr_pr = svr_best.predict(X_train).reshape(-1,1)\n",
        "y_pred = svr_best.predict(X_test)"
      ],
      "metadata": {
        "id": "DvW-M-qy-EJp"
      },
      "execution_count": null,
      "outputs": []
    },
    {
      "cell_type": "code",
      "source": [
        ""
      ],
      "metadata": {
        "id": "i-xbtdmY864d"
      },
      "execution_count": null,
      "outputs": []
    },
    {
      "cell_type": "markdown",
      "source": [
        "##### Visualize Error"
      ],
      "metadata": {
        "id": "c_-H1xcEGxIt"
      }
    },
    {
      "cell_type": "markdown",
      "source": [
        "Evaluate the model on both training and test data"
      ],
      "metadata": {
        "id": "VXwIYQ-qizeb"
      }
    },
    {
      "cell_type": "code",
      "source": [
        "labels = ['train evaluation', 'test evaluation']\n",
        "colors = ['crimson', 'green']\n",
        "data = [[y_train, y_tr_pr], [y_test, y_pred]]\n",
        "lw = 2\n",
        "fig, axes = plt.subplots(nrows=1, ncols=2, figsize=(15, 10), sharex=True,sharey=True)\n",
        "for ix, temp in enumerate(labels):\n",
        "    print(ix)\n",
        "    axes[ix].scatter(\n",
        "    data[ix][0], data[ix][1],\n",
        "    color=colors[ix],\n",
        "    lw=lw,\n",
        "    label=\"{} model\".format(labels[ix]),\n",
        "    )\n",
        "    axes[ix].set_xlabel('True Values')\n",
        "    axes[ix].set_ylabel('Predictions')\n",
        "\n",
        "\n",
        "\n",
        "    p1 = max(max(data[ix][0]), max(data[ix][1]))\n",
        "    p2 = min(min(data[ix][0]), min(data[ix][1]))    \n",
        "    axes[ix].plot([p1, p2], [p1, p2], \n",
        "                  'b-',\n",
        "                  label =\"{} model\".format(labels[ix]))\n",
        "    #plt.axis('equal')\n"
      ],
      "metadata": {
        "colab": {
          "base_uri": "https://localhost:8080/"
        },
        "id": "fMPigFIOxgA6",
        "outputId": "cc5b70f8-6691-4b75-de55-16c04c04d601"
      },
      "execution_count": null,
      "outputs": [
        {
          "output_type": "stream",
          "name": "stdout",
          "text": [
            "0\n",
            "1\n"
          ]
        },
        {
          "output_type": "display_data",
          "data": {
            "image/png": "[encoded data removed]",
            "text/plain": [
              "<Figure size 1080x720 with 2 Axes>"
            ]
          },
          "metadata": {}
        }
      ]
    },
    {
      "cell_type": "markdown",
      "source": [
        "Compare evaluation of test with the best fit"
      ],
      "metadata": {
        "id": "tTjy28Fxi2iM"
      }
    },
    {
      "cell_type": "code",
      "source": [
        "# Instantiate the linear model and visualizer\n",
        "visualizer = PredictionError(svr_best)\n",
        "\n",
        "visualizer.fit(X_train, y_train)  # Fit the training data to the visualizer\n",
        "visualizer.score(X_test, y_test)  # Evaluate the model on the test data\n",
        "visualizer.show()  "
      ],
      "metadata": {
        "colab": {
          "base_uri": "https://localhost:8080/"
        },
        "id": "bGfPtZ3SG1UY",
        "outputId": "61d6840b-6dab-4992-9fd5-bdf467933718"
      },
      "execution_count": null,
      "outputs": [
        {
          "output_type": "display_data",
          "data": {
            "image/png": "[encoded data removed]",
            "text/plain": [
              "<Figure size 576x396 with 1 Axes>"
            ]
          },
          "metadata": {}
        },
        {
          "output_type": "execute_result",
          "data": {
            "text/plain": [
              "<matplotlib.axes._subplots.AxesSubplot at 0x7f556f0bd9d0>"
            ]
          },
          "metadata": {},
          "execution_count": 29
        }
      ]
    },
    {
      "cell_type": "code",
      "source": [
        ""
      ],
      "metadata": {
        "id": "PeqrW6T73Z5H"
      },
      "execution_count": null,
      "outputs": []
    },
    {
      "cell_type": "code",
      "source": [
        "r2_score(y_test, y_pred)"
      ],
      "metadata": {
        "colab": {
          "base_uri": "https://localhost:8080/"
        },
        "id": "sJCykTvtWxRo",
        "outputId": "d0a9899e-3bae-4300-e152-1805064502ce"
      },
      "execution_count": null,
      "outputs": [
        {
          "output_type": "execute_result",
          "data": {
            "text/plain": [
              "-0.0032430066979758365"
            ]
          },
          "metadata": {},
          "execution_count": 30
        }
      ]
    },
    {
      "cell_type": "code",
      "source": [
        "scores = cross_val_score(svr, X_train, y_train, scoring='r2', cv=5)\n",
        "scores  "
      ],
      "metadata": {
        "colab": {
          "base_uri": "https://localhost:8080/"
        },
        "id": "kHddCEkSp0m5",
        "outputId": "be73d27a-ebbc-4bad-987c-1a4d4da42feb"
      },
      "execution_count": null,
      "outputs": [
        {
          "output_type": "execute_result",
          "data": {
            "text/plain": [
              "array([-1.92182924, -0.35996698, -0.46004064, -0.16465535, -0.63048151])"
            ]
          },
          "metadata": {},
          "execution_count": 31
        }
      ]
    },
    {
      "cell_type": "code",
      "source": [
        ""
      ],
      "metadata": {
        "id": "4ylefVNI_0cf"
      },
      "execution_count": null,
      "outputs": []
    },
    {
      "cell_type": "code",
      "source": [
        ""
      ],
      "metadata": {
        "id": "K1e3eH97_zfq"
      },
      "execution_count": null,
      "outputs": []
    },
    {
      "cell_type": "code",
      "source": [
        "y_tr_pr.shape"
      ],
      "metadata": {
        "colab": {
          "base_uri": "https://localhost:8080/"
        },
        "id": "CdTNo530I7P5",
        "outputId": "61b37b1d-f244-4c2f-93c6-72d188e02148"
      },
      "execution_count": null,
      "outputs": [
        {
          "output_type": "execute_result",
          "data": {
            "text/plain": [
              "(209, 1)"
            ]
          },
          "metadata": {},
          "execution_count": 32
        }
      ]
    },
    {
      "cell_type": "markdown",
      "source": [
        "##### Adjusted $R^2$"
      ],
      "metadata": {
        "id": "afURrabFKBRH"
      }
    },
    {
      "cell_type": "code",
      "source": [
        "n = X_test.shape[0]\n",
        "p = X_test.shape[1]\n",
        "print(n,p)"
      ],
      "metadata": {
        "colab": {
          "base_uri": "https://localhost:8080/"
        },
        "id": "fee3dDa0x8SY",
        "outputId": "7720d89a-429e-4c24-b516-21787fc78d48"
      },
      "execution_count": null,
      "outputs": [
        {
          "output_type": "stream",
          "name": "stdout",
          "text": [
            "90 11\n"
          ]
        }
      ]
    },
    {
      "cell_type": "code",
      "source": [
        "#display adjusted R-squared\n",
        "\n",
        "r2 = r2_score(y_test, y_pred)\n",
        "n = X_test.shape[0]\n",
        "p = X_test.shape[1]\n",
        "\n",
        "adj_r2 = 1- ((1-r2) * ((n-1) / (n-p-1)))\n",
        "\n",
        "ADJ_R2['SVM'] = adj_r2 "
      ],
      "metadata": {
        "id": "12bcZaZRG8vd"
      },
      "execution_count": null,
      "outputs": []
    },
    {
      "cell_type": "markdown",
      "source": [
        "#### KNN "
      ],
      "metadata": {
        "id": "3xklAlecaioJ"
      }
    },
    {
      "cell_type": "code",
      "source": [
        ""
      ],
      "metadata": {
        "id": "c1lW18uKa-I4"
      },
      "execution_count": null,
      "outputs": []
    },
    {
      "cell_type": "markdown",
      "source": [
        "##### Hyperparameter Tuning"
      ],
      "metadata": {
        "id": "jg7ULnVda-PQ"
      }
    },
    {
      "cell_type": "markdown",
      "source": [
        "###### Randomsearch"
      ],
      "metadata": {
        "id": "-R_PG5HLa-PQ"
      }
    },
    {
      "cell_type": "code",
      "source": [
        "# define search space\n",
        "#List Hyperparameters that we want to tune.\n",
        "leaf_size = list(range(1,50))\n",
        "n_neighbors = list(range(1,30))\n",
        "p=[1,2]\n",
        "weights = ['uniform','distance']\n",
        "#Convert to dictionary\n",
        "space = dict(leaf_size=leaf_size, n_neighbors=n_neighbors, p=p, weights = weights)\n",
        "\n",
        "\n",
        "\n",
        "\n",
        "\n",
        "# defining parameter range\n",
        "search = RandomizedSearchCV(KNeighborsRegressor(), space, cv=cv)\n",
        " \n",
        "\n",
        "\n",
        "# execute search\n",
        "result = search.fit(X_train, y_train)\n"
      ],
      "metadata": {
        "id": "r9oBZ3SVa-PQ"
      },
      "execution_count": null,
      "outputs": []
    },
    {
      "cell_type": "code",
      "source": [
        "# summarize result\n",
        "print('Best Score: %s' % result.best_score_)\n",
        "print('Best Hyperparameters: %s' % result.best_params_)"
      ],
      "metadata": {
        "colab": {
          "base_uri": "https://localhost:8080/"
        },
        "outputId": "8faf8583-10d3-43d1-be6c-c43c90089695",
        "id": "Nw-sYKLka-PR"
      },
      "execution_count": null,
      "outputs": [
        {
          "output_type": "stream",
          "name": "stdout",
          "text": [
            "Best Score: -0.060415666906686614\n",
            "Best Hyperparameters: {'weights': 'uniform', 'p': 1, 'n_neighbors': 15, 'leaf_size': 23}\n"
          ]
        }
      ]
    },
    {
      "cell_type": "code",
      "source": [
        "params = result.best_params_\n",
        "\n",
        "knn_best = KNeighborsRegressor(n_neighbors = params['n_neighbors'],\n",
        "                                leaf_size  = params['leaf_size'],\n",
        "                                p = params['p'],\n",
        "                                weights = params['weights']\n",
        "                                )"
      ],
      "metadata": {
        "id": "7BeX1wr0a-PR"
      },
      "execution_count": null,
      "outputs": []
    },
    {
      "cell_type": "code",
      "source": [
        "knn_best.fit(X_train, y_train)\n",
        "y_tr_pr = knn_best.predict(X_train)\n",
        "y_pred = knn_best.predict(X_test)\n"
      ],
      "metadata": {
        "id": "pdWegmlha-PR"
      },
      "execution_count": null,
      "outputs": []
    },
    {
      "cell_type": "markdown",
      "source": [
        "##### Visualize Error"
      ],
      "metadata": {
        "id": "kuUdALB8a-PR"
      }
    },
    {
      "cell_type": "markdown",
      "source": [
        "Evaluate the model on both training and test data"
      ],
      "metadata": {
        "id": "eyMupclIa-PS"
      }
    },
    {
      "cell_type": "code",
      "source": [
        "labels = ['train evaluation', 'test evaluation']\n",
        "colors = ['crimson', 'green']\n",
        "data = [[y_train, y_tr_pr], [y_test, y_pred]]\n",
        "lw = 2\n",
        "fig, axes = plt.subplots(nrows=1, ncols=2, figsize=(15, 10), sharex=True,sharey=True)\n",
        "for ix, temp in enumerate(labels):\n",
        "    print(ix)\n",
        "    axes[ix].scatter(\n",
        "    data[ix][0], data[ix][1],\n",
        "    color=colors[ix],\n",
        "    lw=lw,\n",
        "    label=\"{} model\".format(labels[ix]),\n",
        "    )\n",
        "    axes[ix].set_xlabel('True Values')\n",
        "    axes[ix].set_ylabel('Predictions')\n",
        "\n",
        "\n",
        "\n",
        "    p1 = max(max(data[ix][0]), max(data[ix][1]))\n",
        "    p2 = min(min(data[ix][0]), min(data[ix][1]))    \n",
        "    axes[ix].plot([p1, p2], [p1, p2], \n",
        "                  'b-',\n",
        "                  label =\"{} model\".format(labels[ix]))\n",
        "    #plt.axis('equal')\n"
      ],
      "metadata": {
        "colab": {
          "base_uri": "https://localhost:8080/"
        },
        "outputId": "9b68bee9-9768-487b-9f23-a96c8b475499",
        "id": "BjibmkbRa-PS"
      },
      "execution_count": null,
      "outputs": [
        {
          "output_type": "stream",
          "name": "stdout",
          "text": [
            "0\n",
            "1\n"
          ]
        },
        {
          "output_type": "display_data",
          "data": {
            "image/png": "[encoded data removed]",
            "text/plain": [
              "<Figure size 1080x720 with 2 Axes>"
            ]
          },
          "metadata": {}
        }
      ]
    },
    {
      "cell_type": "markdown",
      "source": [
        "Compare evaluation of test with the best fit"
      ],
      "metadata": {
        "id": "iViN9CCta-PS"
      }
    },
    {
      "cell_type": "code",
      "source": [
        "# Instantiate the linear model and visualizer\n",
        "#visualizer = PredictionError(knn_best)\n",
        "\n",
        "#visualizer.fit(X_train, y_train)  # Fit the training data to the visualizer\n",
        "#visualizer.score(X_test, y_test)  # Evaluate the model on the test data\n",
        "#visualizer.show()  "
      ],
      "metadata": {
        "id": "M-WNZZh-a-PS"
      },
      "execution_count": null,
      "outputs": []
    },
    {
      "cell_type": "code",
      "source": [
        ""
      ],
      "metadata": {
        "id": "KaDdxbzafEG8"
      },
      "execution_count": null,
      "outputs": []
    },
    {
      "cell_type": "code",
      "source": [
        "r2_score(y_test, y_pred)"
      ],
      "metadata": {
        "colab": {
          "base_uri": "https://localhost:8080/"
        },
        "outputId": "c5f46f4f-d0b3-424f-ae40-4690b92be008",
        "id": "VSY2nwy0a-PS"
      },
      "execution_count": null,
      "outputs": [
        {
          "output_type": "execute_result",
          "data": {
            "text/plain": [
              "0.02389130044492027"
            ]
          },
          "metadata": {},
          "execution_count": 41
        }
      ]
    },
    {
      "cell_type": "code",
      "source": [
        ""
      ],
      "metadata": {
        "id": "68FpAFrSa-PT"
      },
      "execution_count": null,
      "outputs": []
    },
    {
      "cell_type": "code",
      "source": [
        ""
      ],
      "metadata": {
        "id": "NbNQJBD_a-PT"
      },
      "execution_count": null,
      "outputs": []
    },
    {
      "cell_type": "code",
      "source": [
        "y_tr_pr.shape"
      ],
      "metadata": {
        "colab": {
          "base_uri": "https://localhost:8080/"
        },
        "outputId": "b6184be7-b8e5-43fd-9d4c-61b31105462b",
        "id": "YNGipGBwa-PT"
      },
      "execution_count": null,
      "outputs": [
        {
          "output_type": "execute_result",
          "data": {
            "text/plain": [
              "(209, 1)"
            ]
          },
          "metadata": {},
          "execution_count": 42
        }
      ]
    },
    {
      "cell_type": "markdown",
      "source": [
        "##### Adjusted $R^2$"
      ],
      "metadata": {
        "id": "34ozMSMCa-PT"
      }
    },
    {
      "cell_type": "code",
      "source": [
        "#display adjusted R-squared\n",
        "\n",
        "r2 = r2_score(y_test, y_pred)\n",
        "n = X_test.shape[0]\n",
        "p = X_test.shape[1]\n",
        "\n",
        "adj_r2 = 1- ((1-r2) * ((n-1) / (n-p-1)))\n",
        "\n",
        "ADJ_R2['KNN'] = adj_r2 "
      ],
      "metadata": {
        "id": "xfc-8ipqa-PT"
      },
      "execution_count": null,
      "outputs": []
    },
    {
      "cell_type": "markdown",
      "source": [
        "#### Decision Tree"
      ],
      "metadata": {
        "id": "L3D-bjU7q1_l"
      }
    },
    {
      "cell_type": "code",
      "source": [
        "regressor = DecisionTreeRegressor()\n",
        "regressor.fit(X_train, y_train)\n",
        "y_tr_pr = regressor.predict(X_train)\n",
        "y_pred = regressor.predict(X_test)\n",
        "#y_pred_new = regressor.predict(X_t)\n",
        "compare = pd.DataFrame({'Real Values':y_test.reshape(-1), 'Predicted Values':y_pred.reshape(-1)})\n",
        "\n"
      ],
      "metadata": {
        "id": "RjjVJnpbnNsi"
      },
      "execution_count": null,
      "outputs": []
    },
    {
      "cell_type": "code",
      "source": [
        "compare"
      ],
      "metadata": {
        "id": "Q7gw4EIQq6G3",
        "colab": {
          "base_uri": "https://localhost:8080/"
        },
        "outputId": "e16bc813-cf7f-4433-d8fd-3e0c2262ed5e"
      },
      "execution_count": null,
      "outputs": [
        {
          "output_type": "execute_result",
          "data": {
            "text/html": [
              "\n",
              "  <div id=\"df-fd20a9f9-7af8-44fe-ada4-e9b3f0be4fec\">\n",
              "    <div class=\"colab-df-container\">\n",
              "      <div>\n",
              "<style scoped>\n",
              "    .dataframe tbody tr th:only-of-type {\n",
              "        vertical-align: middle;\n",
              "    }\n",
              "\n",
              "    .dataframe tbody tr th {\n",
              "        vertical-align: top;\n",
              "    }\n",
              "\n",
              "    .dataframe thead th {\n",
              "        text-align: right;\n",
              "    }\n",
              "</style>\n",
              "<table border=\"1\" class=\"dataframe\">\n",
              "  <thead>\n",
              "    <tr style=\"text-align: right;\">\n",
              "      <th></th>\n",
              "      <th>Real Values</th>\n",
              "      <th>Predicted Values</th>\n",
              "    </tr>\n",
              "  </thead>\n",
              "  <tbody>\n",
              "    <tr>\n",
              "      <th>0</th>\n",
              "      <td>0.454545</td>\n",
              "      <td>0.272727</td>\n",
              "    </tr>\n",
              "    <tr>\n",
              "      <th>1</th>\n",
              "      <td>0.090909</td>\n",
              "      <td>0.090909</td>\n",
              "    </tr>\n",
              "    <tr>\n",
              "      <th>2</th>\n",
              "      <td>0.400000</td>\n",
              "      <td>0.854545</td>\n",
              "    </tr>\n",
              "    <tr>\n",
              "      <th>3</th>\n",
              "      <td>0.418182</td>\n",
              "      <td>0.309091</td>\n",
              "    </tr>\n",
              "    <tr>\n",
              "      <th>4</th>\n",
              "      <td>0.363636</td>\n",
              "      <td>0.909091</td>\n",
              "    </tr>\n",
              "    <tr>\n",
              "      <th>...</th>\n",
              "      <td>...</td>\n",
              "      <td>...</td>\n",
              "    </tr>\n",
              "    <tr>\n",
              "      <th>85</th>\n",
              "      <td>0.818182</td>\n",
              "      <td>0.363636</td>\n",
              "    </tr>\n",
              "    <tr>\n",
              "      <th>86</th>\n",
              "      <td>0.400000</td>\n",
              "      <td>0.363636</td>\n",
              "    </tr>\n",
              "    <tr>\n",
              "      <th>87</th>\n",
              "      <td>0.345455</td>\n",
              "      <td>0.327273</td>\n",
              "    </tr>\n",
              "    <tr>\n",
              "      <th>88</th>\n",
              "      <td>0.181818</td>\n",
              "      <td>0.200000</td>\n",
              "    </tr>\n",
              "    <tr>\n",
              "      <th>89</th>\n",
              "      <td>0.236364</td>\n",
              "      <td>0.327273</td>\n",
              "    </tr>\n",
              "  </tbody>\n",
              "</table>\n",
              "<p>90 rows × 2 columns</p>\n",
              "</div>\n",
              "      <button class=\"colab-df-convert\" onclick=\"convertToInteractive('df-fd20a9f9-7af8-44fe-ada4-e9b3f0be4fec')\"\n",
              "              title=\"Convert this dataframe to an interactive table.\"\n",
              "              style=\"display:none;\">\n",
              "        \n",
              "  <svg xmlns=\"http://www.w3.org/2000/svg\" height=\"24px\"viewBox=\"0 0 24 24\"\n",
              "       width=\"24px\">\n",
              "    <path d=\"M0 0h24v24H0V0z\" fill=\"none\"/>\n",
              "    <path d=\"M18.56 5.44l.94 2.06.94-2.06 2.06-.94-2.06-.94-.94-2.06-.94 2.06-2.06.94zm-11 1L8.5 8.5l.94-2.06 2.06-.94-2.06-.94L8.5 2.5l-.94 2.06-2.06.94zm10 10l.94 2.06.94-2.06 2.06-.94-2.06-.94-.94-2.06-.94 2.06-2.06.94z\"/><path d=\"M17.41 7.96l-1.37-1.37c-.4-.4-.92-.59-1.43-.59-.52 0-1.04.2-1.43.59L10.3 9.45l-7.72 7.72c-.78.78-.78 2.05 0 2.83L4 21.41c.39.39.9.59 1.41.59.51 0 1.02-.2 1.41-.59l7.78-7.78 2.81-2.81c.8-.78.8-2.07 0-2.86zM5.41 20L4 18.59l7.72-7.72 1.47 1.35L5.41 20z\"/>\n",
              "  </svg>\n",
              "      </button>\n",
              "      \n",
              "  <style>\n",
              "    .colab-df-container {\n",
              "      display:flex;\n",
              "      flex-wrap:wrap;\n",
              "      gap: 12px;\n",
              "    }\n",
              "\n",
              "    .colab-df-convert {\n",
              "      background-color: #E8F0FE;\n",
              "      border: none;\n",
              "      border-radius: 50%;\n",
              "      cursor: pointer;\n",
              "      display: none;\n",
              "      fill: #1967D2;\n",
              "      height: 32px;\n",
              "      padding: 0 0 0 0;\n",
              "      width: 32px;\n",
              "    }\n",
              "\n",
              "    .colab-df-convert:hover {\n",
              "      background-color: #E2EBFA;\n",
              "      box-shadow: 0px 1px 2px rgba(60, 64, 67, 0.3), 0px 1px 3px 1px rgba(60, 64, 67, 0.15);\n",
              "      fill: #174EA6;\n",
              "    }\n",
              "\n",
              "    [theme=dark] .colab-df-convert {\n",
              "      background-color: #3B4455;\n",
              "      fill: #D2E3FC;\n",
              "    }\n",
              "\n",
              "    [theme=dark] .colab-df-convert:hover {\n",
              "      background-color: #434B5C;\n",
              "      box-shadow: 0px 1px 3px 1px rgba(0, 0, 0, 0.15);\n",
              "      filter: drop-shadow(0px 1px 2px rgba(0, 0, 0, 0.3));\n",
              "      fill: #FFFFFF;\n",
              "    }\n",
              "  </style>\n",
              "\n",
              "      <script>\n",
              "        const buttonEl =\n",
              "          document.querySelector('#df-fd20a9f9-7af8-44fe-ada4-e9b3f0be4fec button.colab-df-convert');\n",
              "        buttonEl.style.display =\n",
              "          google.colab.kernel.accessAllowed ? 'block' : 'none';\n",
              "\n",
              "        async function convertToInteractive(key) {\n",
              "          const element = document.querySelector('#df-fd20a9f9-7af8-44fe-ada4-e9b3f0be4fec');\n",
              "          const dataTable =\n",
              "            await google.colab.kernel.invokeFunction('convertToInteractive',\n",
              "                                                     [key], {});\n",
              "          if (!dataTable) return;\n",
              "\n",
              "          const docLinkHtml = 'Like what you see? Visit the ' +\n",
              "            '<a target=\"_blank\" href=https://colab.research.google.com/notebooks/data_table.ipynb>data table notebook</a>'\n",
              "            + ' to learn more about interactive tables.';\n",
              "          element.innerHTML = '';\n",
              "          dataTable['output_type'] = 'display_data';\n",
              "          await google.colab.output.renderOutput(dataTable, element);\n",
              "          const docLink = document.createElement('div');\n",
              "          docLink.innerHTML = docLinkHtml;\n",
              "          element.appendChild(docLink);\n",
              "        }\n",
              "      </script>\n",
              "    </div>\n",
              "  </div>\n",
              "  "
            ],
            "text/plain": [
              "    Real Values  Predicted Values\n",
              "0      0.454545          0.272727\n",
              "1      0.090909          0.090909\n",
              "2      0.400000          0.854545\n",
              "3      0.418182          0.309091\n",
              "4      0.363636          0.909091\n",
              "..          ...               ...\n",
              "85     0.818182          0.363636\n",
              "86     0.400000          0.363636\n",
              "87     0.345455          0.327273\n",
              "88     0.181818          0.200000\n",
              "89     0.236364          0.327273\n",
              "\n",
              "[90 rows x 2 columns]"
            ]
          },
          "metadata": {},
          "execution_count": 45
        }
      ]
    },
    {
      "cell_type": "code",
      "source": [
        ""
      ],
      "metadata": {
        "id": "j2MGDOBuq6VB"
      },
      "execution_count": null,
      "outputs": []
    },
    {
      "cell_type": "markdown",
      "source": [
        "##### Hyperparameter Tuning"
      ],
      "metadata": {
        "id": "f5_nojq7AkD0"
      }
    },
    {
      "cell_type": "markdown",
      "source": [
        "###### Randomsearch"
      ],
      "metadata": {
        "id": "TSf5KiR-AkD3"
      }
    },
    {
      "cell_type": "code",
      "source": [
        "# define search space\n",
        "space = dict()\n",
        "space['max_depth'] = [1,3,5,7,9,11,12]\n",
        "space['min_samples_leaf'] = [1,2,3,4,5,6,7,8,9,10]\n",
        "space['min_weight_fraction_leaf'] = [0.1,0.2,0.3,0.4,0.5,0.6,0.7,0.8,0.9]\n",
        "space['max_features'] = [\"auto\",\"log2\",\"sqrt\",None]\n",
        "space['max_leaf_nodes'] = [None,10,20,30,40,50,60,70,80,90]\n",
        "\n",
        "\n",
        "\n",
        "\n",
        "# defining parameter range\n",
        "search = RandomizedSearchCV(DecisionTreeRegressor(), space, cv=cv)\n",
        " \n",
        "\n",
        "\n",
        "# execute search\n",
        "result = search.fit(X_train, y_train)\n"
      ],
      "metadata": {
        "id": "zOl4f2SwAkD4"
      },
      "execution_count": null,
      "outputs": []
    },
    {
      "cell_type": "code",
      "source": [
        "# summarize result\n",
        "print('Best Score: %s' % result.best_score_)\n",
        "print('Best Hyperparameters: %s' % result.best_params_)"
      ],
      "metadata": {
        "colab": {
          "base_uri": "https://localhost:8080/"
        },
        "outputId": "5b8a3e7d-f4e9-4bec-ea74-3baaae2b290c",
        "id": "WeD4fJNNAkD4"
      },
      "execution_count": null,
      "outputs": [
        {
          "output_type": "stream",
          "name": "stdout",
          "text": [
            "Best Score: -0.04253016253239504\n",
            "Best Hyperparameters: {'min_weight_fraction_leaf': 0.4, 'min_samples_leaf': 2, 'max_leaf_nodes': 70, 'max_features': 'log2', 'max_depth': 5}\n"
          ]
        }
      ]
    },
    {
      "cell_type": "code",
      "source": [
        "params = result.best_params_\n",
        "\n",
        "dt_best = DecisionTreeRegressor(max_depth = params['max_depth'],\n",
        "                                min_samples_leaf = params['min_samples_leaf'],\n",
        "                                max_leaf_nodes = params['max_leaf_nodes'],\n",
        "                                min_weight_fraction_leaf = params['min_weight_fraction_leaf'],\n",
        "                                max_features = params['max_features']\n",
        "                                )"
      ],
      "metadata": {
        "id": "f4-nnoH4AkD5"
      },
      "execution_count": null,
      "outputs": []
    },
    {
      "cell_type": "code",
      "source": [
        "dt_best.fit(X_train, y_train)\n",
        "y_tr_pr = dt_best.predict(X_train).reshape(-1,1)\n",
        "y_pred = dt_best.predict(X_test)"
      ],
      "metadata": {
        "id": "iwwF1pCCAkD6"
      },
      "execution_count": null,
      "outputs": []
    },
    {
      "cell_type": "code",
      "source": [
        ""
      ],
      "metadata": {
        "id": "9Fa4c647AkD6"
      },
      "execution_count": null,
      "outputs": []
    },
    {
      "cell_type": "markdown",
      "source": [
        "##### Visualize Error"
      ],
      "metadata": {
        "id": "E22GG5xcAkD7"
      }
    },
    {
      "cell_type": "markdown",
      "source": [
        "Evaluate the model on both training and test data"
      ],
      "metadata": {
        "id": "Junk99aLjJj3"
      }
    },
    {
      "cell_type": "code",
      "source": [
        "labels = ['train evaluation', 'test evaluation']\n",
        "colors = ['crimson', 'green']\n",
        "data = [[y_train, y_tr_pr], [y_test, y_pred]]\n",
        "lw = 2\n",
        "fig, axes = plt.subplots(nrows=1, ncols=2, figsize=(15, 10), sharex=True,sharey=True)\n",
        "for ix, temp in enumerate(labels):\n",
        "    print(ix)\n",
        "    axes[ix].scatter(\n",
        "    data[ix][0], data[ix][1],\n",
        "    color=colors[ix],\n",
        "    lw=lw,\n",
        "    label=\"{} model\".format(labels[ix]),\n",
        "    )\n",
        "    axes[ix].set_xlabel('True Values')\n",
        "    axes[ix].set_ylabel('Predictions')\n",
        "\n",
        "\n",
        "\n",
        "    p1 = max(max(data[ix][0]), max(data[ix][1]))\n",
        "    p2 = min(min(data[ix][0]), min(data[ix][1]))    \n",
        "    axes[ix].plot([p1, p2], [p1, p2], \n",
        "                  'b-',\n",
        "                  label =\"{} model\".format(labels[ix]))\n",
        "    #plt.axis('equal')\n"
      ],
      "metadata": {
        "colab": {
          "base_uri": "https://localhost:8080/"
        },
        "outputId": "cebbe2fb-0040-498b-ee1f-2cf1e6051850",
        "id": "-j6q_PKoAkD7"
      },
      "execution_count": null,
      "outputs": [
        {
          "output_type": "stream",
          "name": "stdout",
          "text": [
            "0\n",
            "1\n"
          ]
        },
        {
          "output_type": "display_data",
          "data": {
            "image/png": "[encoded data removed]",
            "text/plain": [
              "<Figure size 1080x720 with 2 Axes>"
            ]
          },
          "metadata": {}
        }
      ]
    },
    {
      "cell_type": "markdown",
      "source": [
        "Compare evaluation of test with the best fit"
      ],
      "metadata": {
        "id": "qCmXPwhRjJj4"
      }
    },
    {
      "cell_type": "code",
      "source": [
        "# Instantiate the linear model and visualizer\n",
        "visualizer = PredictionError(dt_best)\n",
        "\n",
        "visualizer.fit(X_train, y_train)  # Fit the training data to the visualizer\n",
        "visualizer.score(X_test, y_test)  # Evaluate the model on the test data\n",
        "visualizer.show()  "
      ],
      "metadata": {
        "colab": {
          "base_uri": "https://localhost:8080/"
        },
        "outputId": "ce105523-f564-4321-8c94-c3efccbfa8c7",
        "id": "anZJMxCNAkD8"
      },
      "execution_count": null,
      "outputs": [
        {
          "output_type": "display_data",
          "data": {
            "image/png": "[encoded data removed]",
            "text/plain": [
              "<Figure size 576x396 with 1 Axes>"
            ]
          },
          "metadata": {}
        },
        {
          "output_type": "execute_result",
          "data": {
            "text/plain": [
              "<matplotlib.axes._subplots.AxesSubplot at 0x7f556ee0ac50>"
            ]
          },
          "metadata": {},
          "execution_count": 51
        }
      ]
    },
    {
      "cell_type": "code",
      "source": [
        ""
      ],
      "metadata": {
        "id": "xihKcHy2AkD8"
      },
      "execution_count": null,
      "outputs": []
    },
    {
      "cell_type": "code",
      "source": [
        "r2_score(y_test, y_pred)"
      ],
      "metadata": {
        "colab": {
          "base_uri": "https://localhost:8080/"
        },
        "outputId": "71302ba2-92bb-4546-d1bb-e21065df1025",
        "id": "UqhvdEBbAkD9"
      },
      "execution_count": null,
      "outputs": [
        {
          "output_type": "execute_result",
          "data": {
            "text/plain": [
              "0.060638736340203225"
            ]
          },
          "metadata": {},
          "execution_count": 52
        }
      ]
    },
    {
      "cell_type": "code",
      "source": [
        "scores = cross_val_score(svr, X_train, y_train, scoring='r2', cv=5)\n",
        "scores  "
      ],
      "metadata": {
        "colab": {
          "base_uri": "https://localhost:8080/"
        },
        "outputId": "a10dc83d-297d-498d-820c-8ed389672a1a",
        "id": "W2prCCWTAkD9"
      },
      "execution_count": null,
      "outputs": [
        {
          "output_type": "execute_result",
          "data": {
            "text/plain": [
              "array([-1.92182924, -0.35996698, -0.46004064, -0.16465535, -0.63048151])"
            ]
          },
          "metadata": {},
          "execution_count": 53
        }
      ]
    },
    {
      "cell_type": "code",
      "source": [
        ""
      ],
      "metadata": {
        "id": "0QKcqsBMAkD-"
      },
      "execution_count": null,
      "outputs": []
    },
    {
      "cell_type": "code",
      "source": [
        ""
      ],
      "metadata": {
        "id": "8vYHrU05AkD-"
      },
      "execution_count": null,
      "outputs": []
    },
    {
      "cell_type": "code",
      "source": [
        "y_tr_pr.shape"
      ],
      "metadata": {
        "colab": {
          "base_uri": "https://localhost:8080/"
        },
        "outputId": "72e5362c-ce26-4235-8240-4a389134012c",
        "id": "jONTmWqmAkD_"
      },
      "execution_count": null,
      "outputs": [
        {
          "output_type": "execute_result",
          "data": {
            "text/plain": [
              "(209, 1)"
            ]
          },
          "metadata": {},
          "execution_count": 54
        }
      ]
    },
    {
      "cell_type": "markdown",
      "source": [
        "##### Adjusted $R^2$"
      ],
      "metadata": {
        "id": "e1n9HACfAkD_"
      }
    },
    {
      "cell_type": "code",
      "source": [
        "#display adjusted R-squared\n",
        "\n",
        "r2 = r2_score(y_test, y_pred)\n",
        "n = X_test.shape[0]\n",
        "p = X_test.shape[1]\n",
        "\n",
        "adj_r2 = 1- ((1-r2) * ((n-1) / (n-p-1)))\n",
        "\n",
        "ADJ_R2['Decision Tree'] = adj_r2 "
      ],
      "metadata": {
        "id": "KLZxYN6GAkEA"
      },
      "execution_count": null,
      "outputs": []
    },
    {
      "cell_type": "markdown",
      "source": [
        "#### Random Forest"
      ],
      "metadata": {
        "id": "ZpnNKiGukebf"
      }
    },
    {
      "cell_type": "code",
      "source": [
        "regr = RandomForestRegressor(max_depth=2, random_state=0)\n",
        "regr.fit(X_train, y_train)\n",
        "y_tr_pr = regr.predict(X_train)\n",
        "y_pred = regr.predict(X_test)\n",
        "#y_pred_new = regr.predict(X_t)\n",
        "compare = pd.DataFrame({'Real Values':y_test.reshape(-1), 'Predicted Values':y_pred.reshape(-1)})\n",
        "\n"
      ],
      "metadata": {
        "id": "3qMlIXEhkdtR"
      },
      "execution_count": null,
      "outputs": []
    },
    {
      "cell_type": "code",
      "source": [
        ""
      ],
      "metadata": {
        "id": "DW_r--Ook_QR"
      },
      "execution_count": null,
      "outputs": []
    },
    {
      "cell_type": "markdown",
      "source": [
        "##### Hyperparameter Tuning"
      ],
      "metadata": {
        "id": "rg8MStXjAlNK"
      }
    },
    {
      "cell_type": "markdown",
      "source": [
        "###### Randomsearch"
      ],
      "metadata": {
        "id": "3P-X32ciAlNO"
      }
    },
    {
      "cell_type": "code",
      "source": [
        "# define search space\n",
        "space = dict()\n",
        "# Number of trees in random forest\n",
        "space['n_estimators'] = [int(x) for x in np.linspace(start = 200, stop = 2000, num = 10)]\n",
        "# Number of features to consider at every split\n",
        "space['max_features'] =  ['auto', 'sqrt']\n",
        "# Maximum number of levels in tree\n",
        "space['max_depth'] = [int(x) for x in np.linspace(10, 110, num = 11)]\n",
        "space['max_depth'].append(None)\n",
        "# Minimum number of samples required to split a node\n",
        "space['min_samples_split'] = [2, 5, 10]\n",
        "# Minimum number of samples required at each leaf node\n",
        "space['min_samples_leaf'] = [1, 2, 4]\n",
        "# Method of selecting samples for training each tree\n",
        "space['bootstrap'] = [True, False]\n",
        "\n",
        " \n",
        "\n",
        "\n",
        "search = RandomizedSearchCV(RandomForestRegressor(), space, cv=cv)\n",
        " \n",
        "\n",
        "\n",
        "# execute search\n",
        "result = search.fit(X_train, y_train)\n"
      ],
      "metadata": {
        "id": "fprCAjaTAlNO"
      },
      "execution_count": null,
      "outputs": []
    },
    {
      "cell_type": "code",
      "source": [
        "# summarize result\n",
        "print('Best Score: %s' % result.best_score_)\n",
        "print('Best Hyperparameters: %s' % result.best_params_)"
      ],
      "metadata": {
        "colab": {
          "base_uri": "https://localhost:8080/"
        },
        "outputId": "70887029-00c4-4f46-987b-06e5ad18038e",
        "id": "C-zrj3KzAlNP"
      },
      "execution_count": null,
      "outputs": [
        {
          "output_type": "stream",
          "name": "stdout",
          "text": [
            "Best Score: 0.02615402450218829\n",
            "Best Hyperparameters: {'n_estimators': 2000, 'min_samples_split': 10, 'min_samples_leaf': 4, 'max_features': 'sqrt', 'max_depth': 30, 'bootstrap': True}\n"
          ]
        }
      ]
    },
    {
      "cell_type": "code",
      "source": [
        "params = result.best_params_\n",
        "\n",
        "rf_best = RandomForestRegressor(n_estimators=params['n_estimators'],\n",
        "                                max_depth=params['max_depth'],\n",
        "                                min_samples_split=params['min_samples_split'],\n",
        "                                min_samples_leaf=params['min_samples_leaf'],\n",
        "                                max_features=params['max_features'],\n",
        "                                bootstrap=params['bootstrap']\n",
        "                                )"
      ],
      "metadata": {
        "id": "aucw92jwAlNQ"
      },
      "execution_count": null,
      "outputs": []
    },
    {
      "cell_type": "code",
      "source": [
        "rf_best.fit(X_train, y_train)\n",
        "y_tr_pr = rf_best.predict(X_train).reshape(-1,1)\n",
        "y_pred = rf_best.predict(X_test)"
      ],
      "metadata": {
        "id": "gSILmstWAlNQ"
      },
      "execution_count": null,
      "outputs": []
    },
    {
      "cell_type": "code",
      "source": [
        ""
      ],
      "metadata": {
        "id": "DbePmXdDAlNR"
      },
      "execution_count": null,
      "outputs": []
    },
    {
      "cell_type": "markdown",
      "source": [
        "##### Visualize Error"
      ],
      "metadata": {
        "id": "cJsrmAnsAlNR"
      }
    },
    {
      "cell_type": "markdown",
      "source": [
        "Evaluate the model on both training and test data"
      ],
      "metadata": {
        "id": "OghqjX6ZjOt-"
      }
    },
    {
      "cell_type": "code",
      "source": [
        "labels = ['train evaluation', 'test evaluation']\n",
        "colors = ['crimson', 'green']\n",
        "data = [[y_train, y_tr_pr], [y_test, y_pred]]\n",
        "lw = 2\n",
        "fig, axes = plt.subplots(nrows=1, ncols=2, figsize=(15, 10), sharex=True,sharey=True)\n",
        "for ix, temp in enumerate(labels):\n",
        "    print(ix)\n",
        "    axes[ix].scatter(\n",
        "    data[ix][0], data[ix][1],\n",
        "    color=colors[ix],\n",
        "    lw=lw,\n",
        "    label=\"{} model\".format(labels[ix]),\n",
        "    )\n",
        "    axes[ix].set_xlabel('True Values')\n",
        "    axes[ix].set_ylabel('Predictions')\n",
        "\n",
        "\n",
        "\n",
        "    p1 = max(max(data[ix][0]), max(data[ix][1]))\n",
        "    p2 = min(min(data[ix][0]), min(data[ix][1]))    \n",
        "    axes[ix].plot([p1, p2], [p1, p2], \n",
        "                  'b-',\n",
        "                  label =\"{} model\".format(labels[ix]))\n",
        "    #plt.axis('equal')\n"
      ],
      "metadata": {
        "colab": {
          "base_uri": "https://localhost:8080/"
        },
        "outputId": "fae6e3ba-412e-4a7f-fa55-f5a7f01c6411",
        "id": "QPLxwEaLAlNS"
      },
      "execution_count": null,
      "outputs": [
        {
          "output_type": "stream",
          "name": "stdout",
          "text": [
            "0\n",
            "1\n"
          ]
        },
        {
          "output_type": "display_data",
          "data": {
            "image/png": "[encoded data removed]",
            "text/plain": [
              "<Figure size 1080x720 with 2 Axes>"
            ]
          },
          "metadata": {}
        }
      ]
    },
    {
      "cell_type": "markdown",
      "source": [
        "Compare evaluation of test with the best fit"
      ],
      "metadata": {
        "id": "L1My-g24jOt-"
      }
    },
    {
      "cell_type": "code",
      "source": [
        "# Instantiate the linear model and visualizer\n",
        "visualizer = PredictionError(rf_best)\n",
        "\n",
        "visualizer.fit(X_train, y_train)  # Fit the training data to the visualizer\n",
        "visualizer.score(X_test, y_test)  # Evaluate the model on the test data\n",
        "visualizer.show()  "
      ],
      "metadata": {
        "colab": {
          "base_uri": "https://localhost:8080/"
        },
        "outputId": "b80f016b-47d8-486e-be1e-7368400c0c79",
        "id": "OcpouhiEAlNT"
      },
      "execution_count": null,
      "outputs": [
        {
          "output_type": "display_data",
          "data": {
            "image/png": "[encoded data removed]",
            "text/plain": [
              "<Figure size 576x396 with 1 Axes>"
            ]
          },
          "metadata": {}
        },
        {
          "output_type": "execute_result",
          "data": {
            "text/plain": [
              "<matplotlib.axes._subplots.AxesSubplot at 0x7f556f0567d0>"
            ]
          },
          "metadata": {},
          "execution_count": 62
        }
      ]
    },
    {
      "cell_type": "code",
      "source": [
        "r2_score(y_test, y_pred)"
      ],
      "metadata": {
        "colab": {
          "base_uri": "https://localhost:8080/"
        },
        "outputId": "b6b4e782-4f56-436b-8c2d-8b420b0c7858",
        "id": "-iU4jTGvAlNU"
      },
      "execution_count": null,
      "outputs": [
        {
          "output_type": "execute_result",
          "data": {
            "text/plain": [
              "0.0511317161691921"
            ]
          },
          "metadata": {},
          "execution_count": 63
        }
      ]
    },
    {
      "cell_type": "markdown",
      "source": [
        "##### Adjusted $R^2$"
      ],
      "metadata": {
        "id": "3HFhCU4RAlNX"
      }
    },
    {
      "cell_type": "code",
      "source": [
        "#display adjusted R-squared\n",
        "\n",
        "r2 = r2_score(y_test, y_pred)\n",
        "n = X_test.shape[0]\n",
        "p = X_test.shape[1]\n",
        "\n",
        "adj_r2 = 1- ((1-r2) * ((n-1) / (n-p-1)))\n",
        "\n",
        "ADJ_R2['Random Forest'] = adj_r2 "
      ],
      "metadata": {
        "id": "l42rEI-fAlNX"
      },
      "execution_count": null,
      "outputs": []
    },
    {
      "cell_type": "markdown",
      "source": [
        "## Conclusion"
      ],
      "metadata": {
        "id": "oOmtuOesQDFG"
      }
    },
    {
      "cell_type": "markdown",
      "source": [
        "List of all models"
      ],
      "metadata": {
        "id": "g1b7UrROP4-r"
      }
    },
    {
      "cell_type": "code",
      "source": [
        ""
      ],
      "metadata": {
        "id": "mvxSKY6DP64-"
      },
      "execution_count": null,
      "outputs": []
    },
    {
      "cell_type": "code",
      "source": [
        "# Basic syntax:\n",
        "best_model = max(ADJ_R2, key=ADJ_R2.get)\n",
        "\n",
        "# Note, to get the max value itself, you can do either of the following:\n",
        "max_r2 = max(ADJ_R2.values())\n",
        "\n",
        "print(max_r2)\n",
        "print(best_model)"
      ],
      "metadata": {
        "colab": {
          "base_uri": "https://localhost:8080/"
        },
        "id": "srfXqpzyPLIN",
        "outputId": "f1249699-481b-423f-bee0-ad82203fb5c4"
      },
      "execution_count": null,
      "outputs": [
        {
          "output_type": "stream",
          "name": "stdout",
          "text": [
            "-0.07183528802207584\n",
            "Decision Tree\n"
          ]
        }
      ]
    },
    {
      "cell_type": "markdown",
      "source": [
        "We conclude here that Random Forest is the best model among the following models:"
      ],
      "metadata": {
        "id": "8XJPbMpQPyvr"
      }
    },
    {
      "cell_type": "code",
      "source": [
        "ADJ_R2.keys()"
      ],
      "metadata": {
        "id": "Zqd81BNMkuHB",
        "outputId": "2c9a9b01-c7c7-48c4-a19b-0078319bc5f2",
        "colab": {
          "base_uri": "https://localhost:8080/"
        }
      },
      "execution_count": null,
      "outputs": [
        {
          "output_type": "execute_result",
          "data": {
            "text/plain": [
              "dict_keys(['SVM', 'KNN', 'Decision Tree', 'Random Forest'])"
            ]
          },
          "metadata": {},
          "execution_count": 66
        }
      ]
    },
    {
      "cell_type": "code",
      "source": [
        "ADJ_R2"
      ],
      "metadata": {
        "colab": {
          "base_uri": "https://localhost:8080/"
        },
        "id": "jPSIzqBO_pBi",
        "outputId": "c533c1cd-87f4-41ee-8648-41e7db21209a"
      },
      "execution_count": null,
      "outputs": [
        {
          "output_type": "execute_result",
          "data": {
            "text/plain": [
              "{'Decision Tree': -0.07183528802207584,\n",
              " 'KNN': -0.11376505462053954,\n",
              " 'Random Forest': -0.08268304180694752,\n",
              " 'SVM': -0.1447259948220494}"
            ]
          },
          "metadata": {},
          "execution_count": 67
        }
      ]
    },
    {
      "cell_type": "markdown",
      "source": [
        ""
      ],
      "metadata": {
        "id": "efZzLWoHkpIE"
      }
    },
    {
      "cell_type": "markdown",
      "source": [
        "### Prediction"
      ],
      "metadata": {
        "id": "yVlWLlN3QHw_"
      }
    },
    {
      "cell_type": "code",
      "source": [
        "rf_best.fit(X_train, y_train)\n",
        "\n",
        "y_pred = rf_best.predict(X_t)\n",
        "\n"
      ],
      "metadata": {
        "id": "oa3BE3abQc1Y"
      },
      "execution_count": null,
      "outputs": []
    },
    {
      "cell_type": "code",
      "source": [
        "X_t"
      ],
      "metadata": {
        "colab": {
          "base_uri": "https://localhost:8080/"
        },
        "id": "EbPDR23_WWSk",
        "outputId": "57486931-b489-4fcc-df3f-e753aecd52f8"
      },
      "execution_count": null,
      "outputs": [
        {
          "output_type": "execute_result",
          "data": {
            "text/plain": [
              "array([[  0., 383.,   0., ...,   1.,   0.,  99.],\n",
              "       [  0., 714.,   0., ...,   1.,   1.,  67.],\n",
              "       [  1., 102.,   0., ...,   1.,   1., 187.],\n",
              "       ...,\n",
              "       [  1., 571.,   1., ...,   0.,   0., 159.],\n",
              "       [  1.,  45.,   1., ...,   1.,   1., 136.],\n",
              "       [  1.,  94.,   0., ...,   0.,   0., 192.]])"
            ]
          },
          "metadata": {},
          "execution_count": 69
        }
      ]
    },
    {
      "cell_type": "markdown",
      "source": [
        "Predictions for the provided test data"
      ],
      "metadata": {
        "id": "Jbyh0lDnSvyJ"
      }
    },
    {
      "cell_type": "code",
      "source": [
        "#Invert the standardization:\n",
        "\n",
        "y_pred_invert = transformer_y.inverse_transform(y_pred.reshape(-1, 1))\n",
        "y_pred_invert"
      ],
      "metadata": {
        "colab": {
          "base_uri": "https://localhost:8080/"
        },
        "id": "7Woy5MlkTriM",
        "outputId": "3ca7996d-5aa6-4951-b489-7c59f2886d3f"
      },
      "execution_count": null,
      "outputs": [
        {
          "output_type": "execute_result",
          "data": {
            "text/plain": [
              "array([[64.88979166],\n",
              "       [64.81979793],\n",
              "       [65.81378863],\n",
              "       [63.96945352],\n",
              "       [66.24224613],\n",
              "       [66.24224613],\n",
              "       [64.88979166],\n",
              "       [65.21743002],\n",
              "       [64.74044268],\n",
              "       [65.50939454],\n",
              "       [66.50820049],\n",
              "       [63.84107122],\n",
              "       [63.84107122],\n",
              "       [65.21743002],\n",
              "       [64.47531581],\n",
              "       [66.24695935],\n",
              "       [66.50820049],\n",
              "       [64.47531581],\n",
              "       [65.37468427],\n",
              "       [63.84107122],\n",
              "       [64.88979166],\n",
              "       [64.88979166],\n",
              "       [66.24695935],\n",
              "       [66.24695935],\n",
              "       [63.96784191],\n",
              "       [64.32300334],\n",
              "       [64.04935268],\n",
              "       [65.12344604],\n",
              "       [64.74044268],\n",
              "       [63.54070406],\n",
              "       [66.24695935],\n",
              "       [63.54070406],\n",
              "       [66.24224613],\n",
              "       [64.87445834],\n",
              "       [64.88979166],\n",
              "       [65.81378863],\n",
              "       [64.88979166],\n",
              "       [65.50939454],\n",
              "       [64.87445834],\n",
              "       [63.11900812],\n",
              "       [65.37468427],\n",
              "       [64.81979793],\n",
              "       [65.94574232],\n",
              "       [64.23888929],\n",
              "       [64.47531581],\n",
              "       [64.47531581],\n",
              "       [63.84107122],\n",
              "       [64.88979166],\n",
              "       [64.81979793],\n",
              "       [66.24224613],\n",
              "       [64.81979793],\n",
              "       [65.37468427],\n",
              "       [65.50939454],\n",
              "       [65.12344604],\n",
              "       [63.11900812],\n",
              "       [64.87445834],\n",
              "       [65.21743002],\n",
              "       [64.47531581],\n",
              "       [63.54070406],\n",
              "       [64.88979166],\n",
              "       [65.12344604],\n",
              "       [65.12344604],\n",
              "       [63.84107122],\n",
              "       [65.23362656],\n",
              "       [66.24224613],\n",
              "       [64.32300334],\n",
              "       [64.88979166],\n",
              "       [66.24224613],\n",
              "       [64.32300334],\n",
              "       [63.11900812],\n",
              "       [63.84107122],\n",
              "       [63.11900812],\n",
              "       [64.47531581],\n",
              "       [64.23888929],\n",
              "       [64.88979166],\n",
              "       [65.21743002],\n",
              "       [63.84107122],\n",
              "       [66.24224613],\n",
              "       [63.11900812],\n",
              "       [64.32300334],\n",
              "       [63.11900812],\n",
              "       [64.32300334],\n",
              "       [65.23362656],\n",
              "       [63.84107122],\n",
              "       [66.50820049],\n",
              "       [65.37468427],\n",
              "       [63.54070406],\n",
              "       [66.50820049],\n",
              "       [64.68327937],\n",
              "       [63.54070406],\n",
              "       [64.88979166],\n",
              "       [64.88979166],\n",
              "       [65.37468427],\n",
              "       [64.88979166],\n",
              "       [63.68033385],\n",
              "       [66.50820049],\n",
              "       [65.37468427],\n",
              "       [64.88979166],\n",
              "       [65.12344604],\n",
              "       [66.24224613],\n",
              "       [66.24695935],\n",
              "       [63.84107122],\n",
              "       [65.94574232],\n",
              "       [64.47531581],\n",
              "       [65.23362656],\n",
              "       [65.94574232],\n",
              "       [65.50939454],\n",
              "       [65.21743002],\n",
              "       [63.96784191],\n",
              "       [65.12344604],\n",
              "       [65.37468427],\n",
              "       [64.81979793],\n",
              "       [64.32300334],\n",
              "       [65.12404439],\n",
              "       [63.68033385],\n",
              "       [63.84107122],\n",
              "       [66.24224613],\n",
              "       [64.68327937],\n",
              "       [66.50820049],\n",
              "       [64.88979166],\n",
              "       [64.87445834],\n",
              "       [64.34636188],\n",
              "       [63.11900812],\n",
              "       [65.37468427],\n",
              "       [66.24224613],\n",
              "       [64.85221161],\n",
              "       [64.32300334],\n",
              "       [64.88979166],\n",
              "       [64.88979166],\n",
              "       [63.84107122],\n",
              "       [65.94574232],\n",
              "       [63.54070406],\n",
              "       [64.87445834],\n",
              "       [64.47531581],\n",
              "       [64.88979166],\n",
              "       [64.47531581],\n",
              "       [65.21743002],\n",
              "       [65.12344604],\n",
              "       [63.44160676],\n",
              "       [65.50939454],\n",
              "       [66.24695935],\n",
              "       [66.24224613],\n",
              "       [64.87445834],\n",
              "       [64.88979166],\n",
              "       [64.47531581],\n",
              "       [63.68033385],\n",
              "       [65.37468427],\n",
              "       [64.04935268],\n",
              "       [64.74044268],\n",
              "       [65.81378863],\n",
              "       [65.12344604],\n",
              "       [64.47531581],\n",
              "       [64.74044268],\n",
              "       [64.88979166],\n",
              "       [66.50820049],\n",
              "       [64.47531581],\n",
              "       [65.81378863],\n",
              "       [65.37468427],\n",
              "       [66.50820049],\n",
              "       [65.94574232],\n",
              "       [64.32300334],\n",
              "       [65.94574232],\n",
              "       [64.47531581],\n",
              "       [64.32300334],\n",
              "       [64.74044268],\n",
              "       [65.12344604],\n",
              "       [64.88979166],\n",
              "       [65.12404439],\n",
              "       [66.24695935],\n",
              "       [64.87445834],\n",
              "       [64.57123125],\n",
              "       [64.81979793],\n",
              "       [64.88979166],\n",
              "       [64.34636188],\n",
              "       [63.11900812],\n",
              "       [64.47531581],\n",
              "       [63.54070406],\n",
              "       [65.50939454],\n",
              "       [64.32300334],\n",
              "       [64.32300334],\n",
              "       [64.74044268],\n",
              "       [64.87445834],\n",
              "       [64.47531581],\n",
              "       [63.84107122],\n",
              "       [63.84107122],\n",
              "       [65.37468427],\n",
              "       [65.23362656],\n",
              "       [66.24695935],\n",
              "       [65.94574232],\n",
              "       [64.88979166],\n",
              "       [64.32300334],\n",
              "       [64.23888929],\n",
              "       [65.21743002],\n",
              "       [63.84107122],\n",
              "       [66.24695935],\n",
              "       [64.32300334],\n",
              "       [63.84107122],\n",
              "       [65.12344604],\n",
              "       [64.04935268],\n",
              "       [66.24224613]])"
            ]
          },
          "metadata": {},
          "execution_count": 70
        }
      ]
    },
    {
      "cell_type": "markdown",
      "source": [
        ""
      ],
      "metadata": {
        "id": "d6UNLgi8QBvP"
      }
    }
  ]
}
